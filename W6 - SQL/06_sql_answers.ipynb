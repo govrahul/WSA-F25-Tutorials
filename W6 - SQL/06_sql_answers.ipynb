{
 "cells": [
  {
   "cell_type": "markdown",
   "id": "04d57ae9",
   "metadata": {
    "id": "04d57ae9"
   },
   "source": [
    "## SQL Demo Code"
   ]
  },
  {
   "cell_type": "markdown",
   "id": "0f84a165",
   "metadata": {
    "id": "0f84a165"
   },
   "source": [
    "### Imports\n",
    "For the necessary libraries to be available, make sure you have run in your terminal:\n",
    "* `pip install requests`\n",
    "* `pip install bs4`\n",
    "* `pip install mysql-connector-python`\n",
    "\n",
    "And run the cell below to `import` those libraries into this notebook!"
   ]
  },
  {
   "cell_type": "code",
   "execution_count": 1,
   "id": "06cbbd6a",
   "metadata": {
    "id": "06cbbd6a"
   },
   "outputs": [],
   "source": [
    "import requests\n",
    "from bs4 import BeautifulSoup\n",
    "import mysql.connector"
   ]
  },
  {
   "cell_type": "markdown",
   "id": "f7eec06a",
   "metadata": {
    "id": "f7eec06a"
   },
   "source": [
    "### BeautifulSoup Code and SQL Connections\n",
    "To connect to SQL, we can create variables called `cnx` and `cursor`, as shown below."
   ]
  },
  {
   "cell_type": "code",
   "execution_count": 3,
   "id": "819c8201-693a-445e-8515-8e0035fa1447",
   "metadata": {
    "id": "819c8201-693a-445e-8515-8e0035fa1447"
   },
   "outputs": [],
   "source": [
    "cnx = mysql.connector.connect(user = 'wsa',\n",
    "                              host = '34.68.250.121',\n",
    "                              database = 'Tutorials-Fall2024',\n",
    "                              password = 'LeBron>MJ!')\n",
    "cursor = cnx.cursor(buffered = True)"
   ]
  },
  {
   "cell_type": "markdown",
   "id": "Nq9A7D4WTj2b",
   "metadata": {
    "id": "Nq9A7D4WTj2b"
   },
   "source": [
    "The next three cells contain the code we went over last week to scrape and save Michigan Football Gamelog Data."
   ]
  },
  {
   "cell_type": "code",
   "execution_count": 7,
   "id": "7675efe4",
   "metadata": {
    "id": "7675efe4"
   },
   "outputs": [],
   "source": [
    "all_rows = []\n",
    "game_stats = []\n",
    "start_year = 2011\n",
    "end_year = 2024\n",
    "\n",
    "def get_rows(year):\n",
    "    url = requests.get(f'https://www.sports-reference.com/cfb/schools/michigan/{year}/gamelog/')\n",
    "    soup = BeautifulSoup(url.text, 'html.parser')\n",
    "    table = soup.find('div', attrs = {'id': 'div_offense'}).find('table')\n",
    "    year_rows = table.find('tbody').find_all('tr')\n",
    "    for row in year_rows:\n",
    "        all_rows.append(row)\n",
    "\n",
    "def get_stats(row):\n",
    "    columns = row.find_all('td')\n",
    "    date = columns[0].find('a').text\n",
    "    year = int(date.split('-')[0])\n",
    "\n",
    "    # To make sure bowl games are counted in correct season\n",
    "    if date.split('-')[1] == '01':\n",
    "        year -= 1\n",
    "\n",
    "    location = columns[1].text\n",
    "    if location == '':\n",
    "        site = 'Home'\n",
    "    elif location == '@':\n",
    "        site = 'Away'\n",
    "    else:\n",
    "        # location == 'N'\n",
    "        site = 'Neutral'\n",
    "\n",
    "    opponent = columns[2].find('a').text\n",
    "\n",
    "    # We are getting multiple data points of interest from this single column, so we must split it\n",
    "    result_list = columns[3].text.split(' ')\n",
    "    result = result_list[0]\n",
    "    points_scored = int(result_list[1].split('-')[0][1:])\n",
    "    points_against = int(result_list[1].split('-')[1][:-1])\n",
    "\n",
    "    pass_cmp = float(columns[4].text)\n",
    "    pass_att = int(columns[5].text)\n",
    "    pass_pct = float(columns[6].text)\n",
    "    pass_yrds = int(columns[7].text)\n",
    "    pass_td = int(columns[8].text)\n",
    "    pass_1st_down = int(columns[16].text)\n",
    "\n",
    "    rush_att = int(columns[9].text)\n",
    "    rush_yrds = int(columns[10].text)\n",
    "    rush_td = int(columns[12].text)\n",
    "    rush_1st_down = int(columns[17].text)\n",
    "\n",
    "    total_offense = int(columns[14].text)\n",
    "    fumbles = int(columns[22].text)\n",
    "    ints = int(columns[23].text)\n",
    "\n",
    "    return([date, year, opponent, site, result, points_scored, points_against, pass_cmp, pass_att, pass_pct,\n",
    "             pass_yrds, pass_td, pass_1st_down, rush_att, rush_yrds, rush_td, rush_1st_down, total_offense, fumbles, ints])\n"
   ]
  },
  {
   "cell_type": "code",
   "execution_count": 9,
   "id": "f8094cf0-f07f-4b17-8cbe-9ddee25fa0f3",
   "metadata": {
    "id": "f8094cf0-f07f-4b17-8cbe-9ddee25fa0f3"
   },
   "outputs": [],
   "source": [
    "for year in range(start_year, end_year+1):\n",
    "    get_rows(str(year))\n",
    "\n",
    "for row in all_rows:\n",
    "    game_stats.append(get_stats(row))"
   ]
  },
  {
   "cell_type": "code",
   "execution_count": 10,
   "id": "d620e97a-0176-4e31-867a-14077189d157",
   "metadata": {},
   "outputs": [
    {
     "name": "stdout",
     "output_type": "stream",
     "text": [
      "['2011-09-03', 2011, 'Western Michigan', 'Home', 'W', 34, 10, 9.0, 13, 69.2, 98, 0, 5, 26, 190, 3, 9, 288, 0, 0]\n",
      "['2011-09-10', 2011, 'Notre Dame', 'Home', 'W', 35, 31, 11.0, 24, 45.8, 338, 4, 10, 26, 114, 1, 5, 452, 0, 3]\n",
      "['2011-09-17', 2011, 'Eastern Michigan', 'Home', 'W', 31, 3, 7.0, 18, 38.9, 95, 2, 5, 50, 376, 2, 19, 471, 0, 1]\n",
      "['2011-09-24', 2011, 'San Diego State', 'Home', 'W', 28, 7, 8.0, 17, 47.1, 93, 0, 3, 45, 320, 4, 14, 413, 2, 2]\n",
      "['2011-10-01', 2011, 'Minnesota', 'Home', 'W', 58, 0, 18.0, 25, 72.0, 217, 3, 10, 48, 363, 3, 19, 580, 0, 0]\n",
      "['2011-10-08', 2011, 'Northwestern', 'Away', 'W', 42, 24, 19.0, 28, 67.9, 362, 2, 14, 50, 179, 4, 8, 541, 0, 3]\n",
      "['2011-10-15', 2011, 'Michigan State', 'Away', 'L', 14, 28, 12.0, 31, 38.7, 168, 1, 6, 36, 82, 1, 8, 250, 0, 1]\n",
      "['2011-10-29', 2011, 'Purdue', 'Home', 'W', 36, 14, 10.0, 17, 58.8, 196, 0, 7, 53, 339, 4, 17, 535, 0, 2]\n",
      "['2011-11-05', 2011, 'Iowa', 'Away', 'L', 16, 24, 18.0, 38, 47.4, 196, 2, 10, 37, 127, 0, 10, 323, 1, 1]\n",
      "['2011-11-12', 2011, 'Illinois', 'Away', 'W', 31, 14, 8.0, 15, 53.3, 139, 1, 6, 48, 223, 3, 8, 362, 2, 1]\n",
      "['2011-11-19', 2011, 'Nebraska', 'Home', 'W', 45, 17, 11.0, 19, 57.9, 180, 2, 6, 61, 238, 4, 14, 418, 0, 1]\n",
      "['2011-11-26', 2011, 'Ohio State', 'Home', 'W', 40, 34, 14.0, 17, 82.4, 167, 3, 8, 50, 277, 2, 14, 444, 1, 0]\n",
      "['2012-01-03', 2011, 'Virginia Tech', 'Neutral', 'W', 23, 20, 10.0, 22, 45.5, 128, 2, 7, 30, 56, 0, 3, 184, 0, 1]\n",
      "['2012-09-01', 2012, 'Alabama', 'Neutral', 'L', 14, 41, 11.0, 27, 40.7, 200, 1, 5, 29, 69, 1, 5, 269, 0, 3]\n",
      "['2012-09-08', 2012, 'Air Force', 'Home', 'W', 31, 25, 14.0, 25, 56.0, 208, 2, 12, 31, 214, 2, 7, 422, 0, 1]\n",
      "['2012-09-15', 2012, 'Massachusetts', 'Home', 'W', 63, 13, 16.0, 25, 64.0, 291, 3, 12, 43, 294, 6, 14, 585, 0, 1]\n",
      "['2012-09-22', 2012, 'Notre Dame', 'Away', 'L', 6, 13, 13.0, 25, 52.0, 138, 0, 9, 41, 161, 0, 9, 299, 1, 5]\n",
      "['2012-10-06', 2012, 'Purdue', 'Away', 'W', 44, 13, 8.0, 16, 50.0, 105, 1, 6, 54, 304, 3, 12, 409, 1, 0]\n",
      "['2012-10-13', 2012, 'Illinois', 'Home', 'W', 45, 0, 9.0, 15, 60.0, 174, 2, 7, 51, 353, 4, 13, 527, 1, 0]\n",
      "['2012-10-20', 2012, 'Michigan State', 'Home', 'W', 12, 10, 14.0, 30, 46.7, 163, 0, 8, 32, 163, 0, 7, 326, 0, 1]\n",
      "['2012-10-27', 2012, 'Nebraska', 'Away', 'L', 9, 23, 9.0, 27, 33.3, 93, 0, 7, 37, 95, 0, 5, 188, 0, 3]\n",
      "['2012-11-03', 2012, 'Minnesota', 'Away', 'W', 35, 13, 12.0, 18, 66.7, 234, 2, 7, 41, 155, 3, 8, 389, 0, 1]\n",
      "['2012-11-10', 2012, 'Northwestern', 'Home', 'W', 38, 31, 16.0, 30, 53.3, 286, 2, 12, 32, 133, 3, 6, 419, 1, 1]\n",
      "['2012-11-17', 2012, 'Iowa', 'Home', 'W', 42, 17, 18.0, 23, 78.3, 314, 3, 13, 39, 199, 3, 9, 513, 0, 1]\n",
      "['2012-11-24', 2012, 'Ohio State', 'Away', 'L', 21, 26, 11.0, 20, 55.0, 171, 1, 5, 27, 108, 2, 5, 279, 3, 1]\n",
      "['2013-01-01', 2012, 'South Carolina', 'Neutral', 'L', 28, 33, 18.0, 37, 48.6, 214, 3, 10, 45, 141, 0, 12, 355, 1, 1]\n",
      "['2013-08-31', 2013, 'Central Michigan', 'Home', 'W', 59, 9, 14.0, 21, 66.7, 221, 1, 11, 47, 242, 6, 9, 463, 0, 3]\n",
      "['2013-09-07', 2013, 'Notre Dame', 'Home', 'W', 41, 30, 21.0, 33, 63.6, 294, 4, 11, 39, 166, 1, 11, 460, 0, 1]\n",
      "['2013-09-14', 2013, 'Akron', 'Home', 'W', 28, 24, 16.0, 30, 53.3, 248, 2, 10, 32, 177, 2, 8, 425, 1, 3]\n",
      "['2013-09-21', 2013, 'Connecticut', 'Away', 'W', 24, 21, 11.0, 23, 47.8, 97, 0, 6, 49, 192, 3, 11, 289, 2, 2]\n",
      "['2013-10-05', 2013, 'Minnesota', 'Home', 'W', 42, 13, 13.0, 17, 76.5, 235, 1, 10, 35, 113, 4, 7, 348, 0, 0]\n",
      "['2013-10-12', 2013, 'Penn State', 'Away', 'L', 40, 43, 15.0, 29, 51.7, 240, 3, 9, 54, 149, 0, 9, 389, 1, 2]\n",
      "['2013-10-19', 2013, 'Indiana', 'Home', 'W', 63, 47, 21.0, 29, 72.4, 503, 2, 20, 54, 248, 7, 15, 751, 2, 0]\n",
      "['2013-11-02', 2013, 'Michigan State', 'Away', 'L', 6, 29, 15.0, 30, 50.0, 216, 0, 9, 29, -48, 0, 2, 168, 0, 1]\n",
      "['2013-11-09', 2013, 'Nebraska', 'Home', 'L', 13, 17, 18.0, 27, 66.7, 196, 1, 12, 36, -21, 0, 0, 175, 0, 0]\n",
      "['2013-11-16', 2013, 'Northwestern', 'Away', 'W', 27, 19, 24.0, 43, 55.8, 226, 1, 15, 44, 139, 1, 10, 365, 0, 0]\n",
      "['2013-11-23', 2013, 'Iowa', 'Away', 'L', 21, 24, 13.0, 28, 46.4, 98, 2, 5, 29, 60, 0, 4, 158, 1, 0]\n",
      "['2013-11-30', 2013, 'Ohio State', 'Home', 'L', 41, 42, 32.0, 47, 68.1, 451, 4, 21, 35, 152, 2, 9, 603, 1, 0]\n",
      "['2013-12-28', 2013, 'Kansas State', 'Neutral', 'L', 14, 31, 24.0, 38, 63.2, 196, 0, 9, 15, 65, 1, 5, 261, 0, 1]\n",
      "['2014-08-30', 2014, 'Appalachian State', 'Home', 'W', 52, 14, 16.0, 19, 84.2, 210, 3, 10, 36, 350, 3, 12, 560, 0, 1]\n",
      "['2014-09-06', 2014, 'Notre Dame', 'Away', 'L', 0, 31, 19.0, 32, 59.4, 189, 0, 12, 35, 100, 0, 6, 289, 1, 3]\n",
      "['2014-09-13', 2014, 'Miami (OH)', 'Home', 'W', 34, 10, 13.0, 22, 59.1, 184, 2, 8, 45, 276, 2, 15, 460, 2, 1]\n",
      "['2014-09-20', 2014, 'Utah', 'Home', 'L', 10, 26, 18.0, 39, 46.2, 190, 0, 8, 36, 118, 0, 11, 308, 1, 3]\n",
      "['2014-09-27', 2014, 'Minnesota', 'Home', 'L', 14, 30, 10.0, 25, 40.0, 88, 0, 4, 28, 83, 2, 5, 171, 1, 1]\n",
      "['2014-10-04', 2014, 'Rutgers', 'Away', 'L', 24, 26, 13.0, 22, 59.1, 178, 0, 8, 35, 158, 3, 7, 336, 0, 1]\n",
      "['2014-10-11', 2014, 'Penn State', 'Home', 'W', 18, 13, 16.0, 26, 61.5, 192, 1, 7, 31, 64, 0, 5, 256, 0, 1]\n",
      "['2014-10-25', 2014, 'Michigan State', 'Away', 'L', 11, 35, 15.0, 31, 48.4, 125, 0, 7, 26, 61, 1, 3, 186, 1, 2]\n",
      "['2014-11-01', 2014, 'Indiana', 'Home', 'W', 34, 10, 22.0, 29, 75.9, 220, 2, 11, 35, 184, 2, 8, 404, 0, 1]\n",
      "['2014-11-08', 2014, 'Northwestern', 'Away', 'W', 10, 9, 11.0, 24, 45.8, 109, 0, 7, 35, 147, 1, 6, 256, 1, 2]\n",
      "['2014-11-22', 2014, 'Maryland', 'Home', 'L', 16, 23, 13.0, 24, 54.2, 106, 0, 8, 45, 292, 1, 13, 398, 0, 1]\n",
      "['2014-11-29', 2014, 'Ohio State', 'Away', 'L', 28, 42, 23.0, 33, 69.7, 251, 2, 14, 38, 121, 2, 10, 372, 1, 1]\n",
      "['2015-09-03', 2015, 'Utah', 'Away', 'L', 17, 24, 27.0, 43, 62.8, 279, 2, 15, 29, 76, 0, 3, 355, 0, 3]\n",
      "['2015-09-12', 2015, 'Oregon State', 'Home', 'W', 35, 7, 18.0, 26, 69.2, 180, 0, 9, 48, 225, 4, 12, 405, 1, 1]\n",
      "['2015-09-19', 2015, 'Nevada-Las Vegas', 'Home', 'W', 28, 7, 14.0, 25, 56.0, 123, 1, 6, 39, 254, 3, 11, 377, 0, 1]\n",
      "['2015-09-26', 2015, 'Brigham Young', 'Home', 'W', 31, 0, 14.0, 25, 56.0, 194, 1, 11, 51, 254, 3, 8, 448, 0, 0]\n",
      "['2015-10-03', 2015, 'Maryland', 'Away', 'W', 28, 0, 16.0, 33, 48.5, 180, 1, 7, 40, 198, 2, 7, 378, 2, 1]\n",
      "['2015-10-10', 2015, 'Northwestern', 'Home', 'W', 38, 0, 17.0, 23, 73.9, 179, 0, 10, 46, 201, 3, 11, 380, 0, 0]\n",
      "['2015-10-17', 2015, 'Michigan State', 'Home', 'L', 23, 27, 15.0, 25, 60.0, 168, 0, 6, 33, 62, 2, 3, 230, 1, 0]\n",
      "['2015-10-31', 2015, 'Minnesota', 'Away', 'W', 29, 26, 16.0, 27, 59.3, 169, 2, 9, 34, 127, 2, 8, 296, 1, 1]\n",
      "['2015-11-07', 2015, 'Rutgers', 'Home', 'W', 49, 16, 18.0, 26, 69.2, 337, 2, 14, 42, 150, 4, 8, 487, 0, 0]\n",
      "['2015-11-14', 2015, 'Indiana', 'Away', 'W', 48, 41, 33.0, 46, 71.7, 440, 6, 20, 28, 141, 0, 6, 581, 0, 1]\n",
      "['2015-11-21', 2015, 'Penn State', 'Away', 'W', 28, 16, 25.0, 38, 65.8, 256, 2, 12, 30, 87, 2, 5, 343, 1, 1]\n",
      "['2015-11-28', 2015, 'Ohio State', 'Home', 'L', 13, 42, 25.0, 47, 53.2, 307, 1, 16, 25, 57, 0, 3, 364, 0, 1]\n",
      "['2016-01-01', 2015, 'Florida', 'Neutral', 'W', 41, 7, 20.0, 31, 64.5, 278, 3, 14, 46, 225, 2, 11, 503, 0, 0]\n",
      "['2016-09-03', 2016, 'Hawaii', 'Home', 'W', 63, 3, 17.0, 20, 85.0, 206, 3, 9, 39, 306, 4, 17, 512, 0, 1]\n",
      "['2016-09-10', 2016, 'Central Florida', 'Home', 'W', 51, 14, 27.0, 41, 65.9, 328, 4, 13, 41, 119, 2, 8, 447, 0, 0]\n",
      "['2016-09-17', 2016, 'Colorado', 'Home', 'W', 45, 28, 16.0, 30, 53.3, 229, 1, 11, 41, 168, 3, 8, 397, 1, 0]\n",
      "['2016-09-24', 2016, 'Penn State', 'Home', 'W', 49, 10, 21.0, 35, 60.0, 189, 1, 10, 49, 326, 6, 14, 515, 0, 0]\n",
      "['2016-10-01', 2016, 'Wisconsin', 'Home', 'W', 14, 7, 20.0, 32, 62.5, 219, 1, 8, 44, 130, 1, 11, 349, 0, 1]\n",
      "['2016-10-08', 2016, 'Rutgers', 'Away', 'W', 78, 0, 8.0, 16, 50.0, 119, 2, 4, 53, 486, 9, 18, 605, 1, 0]\n",
      "['2016-10-22', 2016, 'Illinois', 'Home', 'W', 41, 8, 20.0, 28, 71.4, 291, 2, 12, 59, 270, 3, 15, 561, 1, 0]\n",
      "['2016-10-29', 2016, 'Michigan State', 'Away', 'W', 32, 23, 16.0, 25, 64.0, 244, 0, 11, 42, 192, 3, 9, 436, 0, 1]\n",
      "['2016-11-05', 2016, 'Maryland', 'Home', 'W', 59, 3, 21.0, 27, 77.8, 387, 3, 14, 39, 273, 5, 14, 660, 0, 0]\n",
      "['2016-11-12', 2016, 'Iowa', 'Away', 'L', 13, 14, 11.0, 26, 42.3, 103, 0, 7, 35, 98, 1, 5, 201, 1, 1]\n",
      "['2016-11-19', 2016, 'Indiana', 'Home', 'W', 20, 10, 7.0, 16, 43.8, 59, 0, 2, 50, 225, 2, 12, 284, 0, 0]\n",
      "['2016-11-26', 2016, 'Ohio State', 'Away', 'L', 27, 30, 23.0, 36, 63.9, 219, 2, 9, 43, 91, 1, 7, 310, 1, 2]\n",
      "['2016-12-30', 2016, 'Florida State', 'Neutral', 'L', 32, 33, 21.0, 38, 55.3, 163, 1, 10, 36, 89, 1, 5, 252, 0, 1]\n",
      "['2017-09-02', 2017, 'Florida', 'Home', 'W', 33, 17, 12.0, 26, 46.2, 218, 1, 8, 49, 215, 1, 10, 433, 0, 2]\n",
      "['2017-09-09', 2017, 'Cincinnati', 'Home', 'W', 36, 14, 17.0, 29, 58.6, 221, 2, 7, 37, 193, 0, 9, 414, 2, 0]\n",
      "['2017-09-16', 2017, 'Air Force', 'Home', 'W', 29, 13, 14.0, 23, 60.9, 169, 0, 6, 42, 190, 1, 11, 359, 1, 0]\n",
      "['2017-09-23', 2017, 'Purdue', 'Away', 'W', 28, 10, 21.0, 31, 67.7, 284, 1, 14, 44, 139, 3, 6, 423, 1, 1]\n",
      "['2017-10-07', 2017, 'Michigan State', 'Home', 'L', 10, 14, 16.0, 35, 45.7, 198, 0, 7, 39, 102, 1, 8, 300, 2, 3]\n",
      "['2017-10-14', 2017, 'Indiana', 'Away', 'W', 27, 20, 10.0, 20, 50.0, 58, 0, 3, 44, 271, 3, 12, 329, 0, 0]\n",
      "['2017-10-21', 2017, 'Penn State', 'Away', 'L', 13, 42, 16.0, 28, 57.1, 166, 0, 8, 42, 103, 2, 8, 269, 1, 0]\n",
      "['2017-10-28', 2017, 'Rutgers', 'Home', 'W', 35, 14, 13.0, 20, 65.0, 137, 1, 9, 51, 334, 4, 16, 471, 0, 1]\n",
      "['2017-11-04', 2017, 'Minnesota', 'Home', 'W', 33, 10, 8.0, 13, 61.5, 56, 1, 2, 37, 371, 4, 12, 427, 0, 0]\n",
      "['2017-11-11', 2017, 'Maryland', 'Away', 'W', 35, 10, 9.0, 18, 50.0, 145, 2, 6, 38, 160, 3, 8, 305, 0, 0]\n",
      "['2017-11-18', 2017, 'Wisconsin', 'Away', 'L', 10, 24, 11.0, 26, 42.3, 176, 0, 7, 37, 58, 1, 5, 234, 1, 0]\n",
      "['2017-11-25', 2017, 'Ohio State', 'Home', 'L', 20, 31, 17.0, 32, 53.1, 195, 1, 8, 36, 100, 2, 7, 295, 0, 1]\n",
      "['2018-01-01', 2017, 'South Carolina', 'Neutral', 'L', 19, 26, 21.0, 45, 46.7, 203, 0, 11, 33, 74, 1, 3, 277, 3, 2]\n",
      "['2018-09-01', 2018, 'Notre Dame', 'Away', 'L', 17, 24, 24.0, 36, 66.7, 249, 0, 14, 33, 58, 1, 4, 307, 1, 1]\n",
      "['2018-09-08', 2018, 'Western Michigan', 'Home', 'W', 49, 3, 13.0, 18, 72.2, 143, 4, 7, 35, 308, 3, 12, 451, 0, 0]\n",
      "['2018-09-15', 2018, 'Southern Methodist', 'Home', 'W', 45, 20, 14.0, 18, 77.8, 237, 3, 8, 41, 197, 2, 10, 434, 0, 1]\n",
      "['2018-09-22', 2018, 'Nebraska', 'Home', 'W', 56, 10, 18.0, 31, 58.1, 206, 2, 9, 45, 285, 4, 12, 491, 0, 1]\n",
      "['2018-09-29', 2018, 'Northwestern', 'Away', 'W', 20, 17, 15.0, 24, 62.5, 196, 0, 7, 42, 180, 2, 10, 376, 0, 0]\n",
      "['2018-10-06', 2018, 'Maryland', 'Home', 'W', 42, 21, 20.0, 28, 71.4, 294, 3, 11, 40, 171, 1, 11, 465, 0, 1]\n",
      "['2018-10-13', 2018, 'Wisconsin', 'Home', 'W', 38, 13, 14.0, 21, 66.7, 124, 0, 5, 48, 320, 3, 14, 444, 0, 0]\n",
      "['2018-10-20', 2018, 'Michigan State', 'Away', 'W', 21, 7, 14.0, 25, 56.0, 212, 2, 8, 53, 183, 1, 11, 395, 2, 0]\n",
      "['2018-11-03', 2018, 'Penn State', 'Home', 'W', 42, 7, 11.0, 17, 64.7, 144, 2, 6, 52, 259, 3, 14, 403, 0, 0]\n",
      "['2018-11-10', 2018, 'Rutgers', 'Away', 'W', 42, 7, 18.0, 27, 66.7, 260, 3, 14, 40, 193, 3, 10, 453, 0, 0]\n",
      "['2018-11-17', 2018, 'Indiana', 'Home', 'W', 31, 20, 16.0, 28, 57.1, 250, 1, 10, 50, 257, 1, 13, 507, 0, 1]\n",
      "['2018-11-24', 2018, 'Ohio State', 'Away', 'L', 39, 62, 23.0, 38, 60.5, 240, 3, 12, 40, 161, 2, 10, 401, 0, 2]\n",
      "['2018-12-29', 2018, 'Florida', 'Neutral', 'L', 15, 41, 23.0, 37, 62.2, 249, 1, 12, 30, 77, 0, 5, 326, 0, 2]\n",
      "['2019-08-31', 2019, 'Middle Tennessee State', 'Home', 'W', 40, 21, 19.0, 33, 57.6, 220, 3, 12, 45, 233, 2, 10, 453, 2, 0]\n",
      "['2019-09-07', 2019, 'Army', 'Home', 'W', 24, 21, 20.0, 31, 64.5, 232, 0, 11, 45, 108, 3, 7, 340, 3, 0]\n",
      "['2019-09-21', 2019, 'Wisconsin', 'Away', 'L', 14, 35, 17.0, 42, 40.5, 259, 2, 10, 19, 40, 0, 0, 299, 2, 2]\n",
      "['2019-09-28', 2019, 'Rutgers', 'Home', 'W', 52, 0, 20.0, 27, 74.1, 335, 2, 17, 41, 141, 5, 8, 476, 0, 1]\n",
      "['2019-10-05', 2019, 'Iowa', 'Home', 'W', 10, 3, 14.0, 26, 53.8, 147, 0, 7, 32, 124, 1, 5, 271, 0, 1]\n",
      "['2019-10-12', 2019, 'Illinois', 'Away', 'W', 42, 25, 11.0, 22, 50.0, 194, 3, 7, 48, 295, 3, 15, 489, 2, 0]\n",
      "['2019-10-19', 2019, 'Penn State', 'Away', 'L', 21, 28, 24.0, 41, 58.5, 276, 0, 15, 39, 141, 3, 8, 417, 0, 1]\n",
      "['2019-10-26', 2019, 'Notre Dame', 'Home', 'W', 45, 14, 8.0, 14, 57.1, 134, 3, 6, 57, 303, 3, 14, 437, 0, 0]\n",
      "['2019-11-02', 2019, 'Maryland', 'Away', 'W', 38, 7, 16.0, 29, 55.2, 176, 1, 6, 34, 155, 3, 9, 331, 0, 0]\n",
      "['2019-11-16', 2019, 'Michigan State', 'Home', 'W', 44, 10, 24.0, 33, 72.7, 384, 4, 18, 33, 86, 1, 7, 470, 1, 0]\n",
      "['2019-11-23', 2019, 'Indiana', 'Away', 'W', 39, 14, 20.0, 32, 62.5, 366, 5, 11, 29, 87, 0, 7, 453, 0, 1]\n",
      "['2019-11-30', 2019, 'Ohio State', 'Home', 'L', 27, 56, 18.0, 43, 41.9, 305, 1, 14, 26, 91, 2, 5, 396, 1, 1]\n",
      "['2020-01-01', 2019, 'Alabama', 'Neutral', 'L', 16, 35, 17.0, 37, 45.9, 233, 1, 10, 43, 162, 0, 13, 395, 0, 2]\n",
      "['2020-10-24', 2020, 'Minnesota', 'Away', 'W', 49, 24, 15.0, 25, 60.0, 225, 1, 11, 31, 253, 5, 6, 478, 0, 0]\n",
      "['2020-10-31', 2020, 'Michigan State', 'Home', 'L', 24, 27, 32.0, 52, 61.5, 300, 0, 18, 34, 152, 3, 9, 452, 0, 0]\n",
      "['2020-11-07', 2020, 'Indiana', 'Away', 'L', 21, 38, 18.0, 34, 52.9, 344, 3, 15, 18, 13, 0, 1, 357, 0, 2]\n",
      "['2020-11-14', 2020, 'Wisconsin', 'Home', 'L', 11, 49, 13.0, 26, 50.0, 172, 1, 8, 19, 47, 0, 2, 219, 0, 2]\n",
      "['2020-11-21', 2020, 'Rutgers', 'Away', 'W', 48, 42, 32.0, 48, 66.7, 349, 4, 16, 43, 147, 2, 9, 496, 1, 0]\n",
      "['2020-11-28', 2020, 'Penn State', 'Home', 'L', 17, 27, 13.0, 28, 46.4, 112, 0, 3, 27, 174, 2, 9, 286, 1, 0]\n",
      "['2021-09-04', 2021, 'Western Michigan', 'Home', 'W', 47, 14, 13.0, 17, 76.5, 216, 3, 6, 43, 335, 3, 15, 551, 0, 0]\n",
      "['2021-09-11', 2021, 'Washington', 'Home', 'W', 31, 10, 7.0, 15, 46.7, 44, 0, 2, 56, 343, 4, 17, 387, 0, 0]\n",
      "['2021-09-18', 2021, 'Northern Illinois', 'Home', 'W', 63, 10, 12.0, 17, 70.6, 233, 1, 9, 48, 373, 8, 18, 606, 0, 0]\n",
      "['2021-09-25', 2021, 'Rutgers', 'Home', 'W', 20, 13, 9.0, 16, 56.3, 163, 0, 6, 38, 112, 2, 6, 275, 0, 0]\n",
      "['2021-10-02', 2021, 'Wisconsin', 'Away', 'W', 38, 17, 18.0, 30, 60.0, 253, 3, 9, 44, 112, 1, 6, 365, 0, 1]\n",
      "['2021-10-09', 2021, 'Nebraska', 'Away', 'W', 32, 29, 22.0, 39, 56.4, 255, 0, 12, 42, 204, 3, 12, 459, 0, 1]\n",
      "['2021-10-23', 2021, 'Northwestern', 'Home', 'W', 33, 7, 23.0, 32, 71.9, 163, 0, 10, 54, 294, 4, 16, 457, 2, 0]\n",
      "['2021-10-30', 2021, 'Michigan State', 'Away', 'L', 33, 37, 31.0, 48, 64.6, 406, 3, 17, 34, 146, 0, 8, 552, 1, 1]\n",
      "['2021-11-06', 2021, 'Indiana', 'Home', 'W', 29, 7, 15.0, 28, 53.6, 223, 2, 9, 38, 188, 1, 9, 411, 0, 1]\n",
      "['2021-11-13', 2021, 'Penn State', 'Away', 'W', 21, 17, 19.0, 29, 65.5, 217, 3, 7, 41, 144, 0, 13, 361, 1, 0]\n",
      "['2021-11-20', 2021, 'Maryland', 'Away', 'W', 59, 18, 29.0, 40, 72.5, 352, 3, 10, 35, 151, 3, 13, 503, 0, 0]\n",
      "['2021-11-27', 2021, 'Ohio State', 'Home', 'W', 42, 27, 14.0, 20, 70.0, 190, 0, 5, 41, 297, 6, 16, 487, 0, 1]\n",
      "['2021-12-04', 2021, 'Iowa', 'Neutral', 'W', 42, 3, 18.0, 28, 64.3, 250, 2, 10, 34, 211, 4, 9, 461, 0, 2]\n",
      "['2021-12-31', 2021, 'Georgia', 'Neutral', 'L', 11, 34, 18.0, 36, 50.0, 237, 1, 9, 27, 91, 0, 6, 328, 1, 2]\n",
      "['2022-09-03', 2022, 'Colorado State', 'Home', 'W', 51, 7, 18.0, 28, 64.3, 206, 1, 11, 40, 234, 4, 14, 440, 0, 0]\n",
      "['2022-09-10', 2022, 'Hawaii', 'Home', 'W', 56, 10, 17.0, 22, 77.3, 320, 3, 11, 33, 268, 5, 12, 588, 0, 1]\n",
      "['2022-09-17', 2022, 'Connecticut', 'Home', 'W', 59, 0, 21.0, 26, 80.8, 273, 1, 12, 43, 192, 6, 13, 465, 0, 0]\n",
      "['2022-09-24', 2022, 'Maryland', 'Home', 'W', 34, 27, 18.0, 26, 69.2, 220, 2, 10, 40, 243, 2, 12, 463, 1, 0]\n",
      "['2022-10-01', 2022, 'Iowa', 'Away', 'W', 27, 14, 18.0, 24, 75.0, 155, 1, 8, 42, 172, 2, 15, 327, 0, 0]\n",
      "['2022-10-08', 2022, 'Indiana', 'Away', 'W', 31, 10, 28.0, 36, 77.8, 304, 3, 13, 40, 165, 1, 11, 469, 0, 1]\n",
      "['2022-10-15', 2022, 'Penn State', 'Home', 'W', 41, 17, 17.0, 24, 70.8, 145, 0, 7, 55, 418, 4, 19, 563, 0, 1]\n",
      "['2022-10-29', 2022, 'Michigan State', 'Home', 'W', 29, 7, 15.0, 26, 57.7, 167, 1, 6, 52, 276, 1, 19, 443, 1, 0]\n",
      "['2022-11-05', 2022, 'Rutgers', 'Away', 'W', 52, 17, 13.0, 27, 48.1, 151, 2, 7, 53, 282, 4, 14, 433, 0, 0]\n",
      "['2022-11-12', 2022, 'Nebraska', 'Home', 'W', 34, 3, 10.0, 20, 50.0, 148, 2, 6, 49, 264, 2, 20, 412, 0, 0]\n",
      "['2022-11-19', 2022, 'Illinois', 'Home', 'W', 19, 17, 18.0, 34, 52.9, 208, 0, 11, 40, 168, 1, 6, 376, 1, 0]\n",
      "['2022-11-26', 2022, 'Ohio State', 'Away', 'W', 45, 23, 13.0, 25, 52.0, 278, 3, 6, 35, 252, 3, 7, 530, 0, 0]\n",
      "['2022-12-03', 2022, 'Purdue', 'Neutral', 'W', 43, 22, 11.0, 17, 64.7, 161, 3, 9, 38, 225, 3, 8, 386, 0, 1]\n",
      "['2022-12-31', 2022, 'TCU', 'Neutral', 'L', 45, 51, 21.0, 35, 60.0, 342, 2, 13, 40, 186, 3, 7, 528, 1, 2]\n",
      "['2023-09-02', 2023, 'East Carolina', 'Home', 'W', 30, 3, 26.0, 31, 83.9, 280, 3, 18, 31, 122, 1, 4, 402, 0, 0]\n",
      "['2023-09-09', 2023, 'Nevada-Las Vegas', 'Home', 'W', 35, 7, 23.0, 28, 82.1, 313, 2, 14, 33, 179, 3, 8, 492, 0, 1]\n",
      "['2023-09-16', 2023, 'Bowling Green State', 'Home', 'W', 31, 6, 8.0, 13, 61.5, 143, 2, 5, 31, 169, 2, 10, 312, 1, 3]\n",
      "['2023-09-23', 2023, 'Rutgers', 'Home', 'W', 31, 7, 15.0, 21, 71.4, 214, 1, 9, 40, 201, 2, 11, 415, 0, 0]\n",
      "['2023-09-30', 2023, 'Nebraska', 'Away', 'W', 45, 7, 16.0, 23, 69.6, 187, 3, 10, 51, 249, 3, 15, 436, 0, 0]\n",
      "['2023-10-07', 2023, 'Minnesota', 'Away', 'W', 52, 10, 16.0, 23, 69.6, 241, 1, 9, 33, 191, 4, 8, 432, 0, 0]\n",
      "['2023-10-14', 2023, 'Indiana', 'Home', 'W', 52, 7, 19.0, 22, 86.4, 244, 4, 13, 42, 163, 3, 9, 407, 0, 0]\n",
      "['2023-10-21', 2023, 'Michigan State', 'Away', 'W', 49, 0, 28.0, 35, 80.0, 357, 4, 18, 34, 120, 2, 6, 477, 0, 0]\n",
      "['2023-11-04', 2023, 'Purdue', 'Home', 'W', 41, 13, 24.0, 37, 64.9, 335, 0, 15, 34, 110, 5, 5, 445, 1, 0]\n",
      "['2023-11-11', 2023, 'Penn State', 'Away', 'W', 24, 15, 7.0, 8, 87.5, 60, 0, 4, 46, 227, 3, 10, 287, 0, 0]\n",
      "['2023-11-18', 2023, 'Maryland', 'Away', 'W', 31, 24, 12.0, 23, 52.2, 141, 0, 9, 45, 150, 3, 9, 291, 0, 1]\n",
      "['2023-11-25', 2023, 'Ohio State', 'Home', 'W', 30, 24, 17.0, 21, 81.0, 182, 1, 10, 39, 156, 2, 8, 338, 0, 0]\n",
      "['2023-12-02', 2023, 'Iowa', 'Neutral', 'W', 26, 0, 22.0, 30, 73.3, 147, 0, 9, 34, 66, 2, 3, 213, 0, 0]\n",
      "['2024-01-01', 2023, 'Alabama', 'Neutral', 'W', 27, 20, 17.0, 27, 63.0, 221, 3, 10, 32, 130, 1, 5, 351, 1, 0]\n",
      "['2024-01-08', 2023, 'Washington', 'Neutral', 'W', 34, 13, 10.0, 19, 52.6, 140, 0, 6, 38, 303, 4, 10, 443, 0, 0]\n",
      "['2024-08-31', 2024, 'Fresno State', 'Home', 'W', 30, 10, 16.0, 27, 59.3, 121, 2, 9, 34, 148, 0, 8, 269, 0, 1]\n",
      "['2024-09-07', 2024, 'Texas', 'Home', 'L', 12, 31, 22.0, 33, 66.7, 204, 1, 9, 23, 80, 0, 4, 284, 1, 2]\n",
      "['2024-09-14', 2024, 'Arkansas State', 'Home', 'W', 28, 18, 13.0, 18, 72.2, 134, 1, 6, 44, 301, 3, 14, 435, 0, 3]\n",
      "['2024-09-21', 2024, 'Southern California', 'Home', 'W', 27, 24, 7.0, 12, 58.3, 32, 0, 0, 46, 290, 3, 12, 322, 2, 0]\n",
      "['2024-09-28', 2024, 'Minnesota', 'Home', 'W', 27, 24, 10.0, 18, 55.6, 86, 1, 5, 43, 155, 2, 9, 241, 0, 1]\n",
      "['2024-10-05', 2024, 'Washington', 'Away', 'L', 17, 27, 13.0, 25, 52.0, 113, 1, 7, 37, 174, 1, 9, 287, 1, 1]\n"
     ]
    }
   ],
   "source": [
    "for values in game_stats:\n",
    "    print(values)"
   ]
  },
  {
   "cell_type": "markdown",
   "id": "17a405d1",
   "metadata": {
    "id": "17a405d1"
   },
   "source": [
    "### Create a SQL Table\n",
    "Before uploading our data, we first need to create the table in the correct schema in MySQL or Sequel Ace. Then, if the data looks good, we can uncomment the lines below and add the data to our table.\n",
    "\n",
    "IMPORTANT: When you are inserting data into the WSA database, make sure you are using the *Tutorials-Fall2024* schema and your own name for your table."
   ]
  },
  {
   "cell_type": "code",
   "execution_count": null,
   "id": "5b571300-567c-4a81-a36b-02551ab0160d",
   "metadata": {
    "id": "5b571300-567c-4a81-a36b-02551ab0160d",
    "outputId": "13d24532-0a97-4b76-bee9-734b8de3e14c"
   },
   "outputs": [],
   "source": [
    "# When creating the statement line, you need one instance of `%s` in the VALUES for each column of data\n",
    "# Here, we are inserting 20 values into each row\n",
    "\n",
    "# Change This!\n",
    "table_name = \"Michigan_GameLogs_table_name\"\n",
    "\n",
    "statement = (f\"INSERT INTO {table_name} \"\n",
    "             \"(date, year, opponent, home_away, result, points_scored, points_against, pass_cmp, pass_att, pass_pct,\"\n",
    "             \" pass_yrds, pass_td, pass_1st_down, rush_att, rush_yrds, rush_td, rush_1st_down, total_offense, fumbles, ints) \"\n",
    "             \"VALUES (%s, %s, %s, %s, %s, %s, %s, %s, %s, %s, %s, %s, %s, %s, %s, %s, %s, %s, %s, %s)\")\n",
    "\n",
    "for values in game_stats:\n",
    "    cursor.execute(statement, values)\n",
    "    cnx.commit()"
   ]
  },
  {
   "cell_type": "markdown",
   "id": "9992669d",
   "metadata": {
    "id": "9992669d"
   },
   "source": [
    "### Example SQL Commands\n",
    "\n",
    "1. <code>SELECT * FROM \\`Tutorials-Fall2024\\`.Michigan_GameLogs_your_name;</code>\n",
    "    * Used to select all of our rows from the table\n",
    "2. <code>SELECT opponent, result FROM \\`Tutorials-Fall2024\\`.Michigan_GameLogs_your_name;</code>\n",
    "    * Used to select only certain columns from the table\n",
    "3. <code>SELECT opponent, result, points_scored FROM \\`Tutorials-Fall2024\\`.Michigan_GameLogs_your_name WHERE points_scored >= 35;</code>\n",
    "    * Used to select only certain columns from the table when a certain condition is met\n",
    "4. <code>SELECT * FROM \\`Tutorials-Fall2024\\`.Michigan_GameLogs_your_name ORDER BY pass_yrds DESC;</code>\n",
    "    * Used to order our table by one of the columns\n",
    "5. <code>INSERT INTO \\`Tutorials-Fall2024\\`.Michigan_GameLogs_your_name (year, opponent, result, points_scored, points_against) VALUES (2024, 'Ohio State', 'W', 42, 0);</code>\n",
    "    * Used to insert a new row into the bottom of our table\n",
    "    * If you run example 1 again, the new game will be visible at the bottom\n",
    "6. <code>UPDATE \\`Tutorials-Fall2024\\`.Michigan_GameLogs_your_name SET points_scored = 56 WHERE id = [insert correct id]</code>\n",
    "    * Used to update a row in the table using its id\n",
    "7. <code>DELETE FROM \\`Tutorials-Fall2024\\`.Michigan_GameLogs_your_name WHERE id = [insert correct id];</code>\n",
    "    * Used to delete a row from the table using its id"
   ]
  },
  {
   "cell_type": "code",
   "execution_count": null,
   "id": "ff85f7ff-6e72-48f8-9acd-9a83625e8d36",
   "metadata": {},
   "outputs": [],
   "source": []
  }
 ],
 "metadata": {
  "colab": {
   "provenance": []
  },
  "kernelspec": {
   "display_name": "Python 3 (ipykernel)",
   "language": "python",
   "name": "python3"
  },
  "language_info": {
   "codemirror_mode": {
    "name": "ipython",
    "version": 3
   },
   "file_extension": ".py",
   "mimetype": "text/x-python",
   "name": "python",
   "nbconvert_exporter": "python",
   "pygments_lexer": "ipython3",
   "version": "3.12.4"
  }
 },
 "nbformat": 4,
 "nbformat_minor": 5
}
