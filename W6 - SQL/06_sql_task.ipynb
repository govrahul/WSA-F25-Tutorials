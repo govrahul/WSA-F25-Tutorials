{
 "cells": [
  {
   "cell_type": "code",
   "execution_count": null,
   "metadata": {},
   "outputs": [],
   "source": [
    "import requests\n",
    "from bs4 import BeautifulSoup\n",
    "import mysql.connector"
   ]
  },
  {
   "cell_type": "code",
   "execution_count": null,
   "metadata": {},
   "outputs": [],
   "source": [
    "cnx = mysql.connector.connect(user = 'wsa',\n",
    "                              host = '34.68.250.121',\n",
    "                              database = 'Tutorials-Fall2024',\n",
    "                              password = 'LeBron>MJ!')\n",
    "cursor = cnx.cursor(buffered = True)"
   ]
  },
  {
   "cell_type": "code",
   "execution_count": null,
   "metadata": {},
   "outputs": [],
   "source": []
  },
  {
   "cell_type": "code",
   "execution_count": null,
   "metadata": {},
   "outputs": [],
   "source": [
    "headers = {'User-Agent': '...'}\n",
    "url = requests.get(\"https://www.espn.com/nfl/team/roster/_/name/det/detroit-lions\", headers = headers)\n",
    "soup = BeautifulSoup(url.text, 'html.parser')\n",
    "lions_players = []"
   ]
  },
  {
   "cell_type": "code",
   "execution_count": null,
   "metadata": {},
   "outputs": [],
   "source": [
    "# may need to change attribute\n",
    "LionsOTable = soup.find(\"div\", attrs = {'class': 'ResponsiveTable Offense'}).find(\"tbody\").find_all(\"tr\")\n",
    "LionsDTable = soup.find(\"div\", attrs = {'class': 'ResponsiveTable Defense'}).find(\"tbody\").find_all(\"tr\")\n",
    "LionsSTTable = soup.find(\"div\", attrs = {'class': 'ResponsiveTable Special Teams'}).find(\"tbody\").find_all(\"tr\")\n",
    "\n",
    "tables = [LionsOTable, LionsDTable, LionsSTTable]\n",
    "phases = [\"offense\", \"defense\", \"special teams\"]"
   ]
  },
  {
   "cell_type": "code",
   "execution_count": null,
   "metadata": {},
   "outputs": [],
   "source": [
    "for i in range(0,3):\n",
    "    for row in tables[i]:\n",
    "        columns = row.find_all(\"td\")\n",
    "\n",
    "        name = columns[1].find(\"a\").text\n",
    "        first_name = name.split(\" \")[0]\n",
    "        last_name = name.split(\" \")[1]\n",
    "\n",
    "        number = 0\n",
    "        if (columns[1].find(\"span\")):\n",
    "            number = int(columns[1].find(\"span\").text)\n",
    "\n",
    "        side_of_ball = phases[i]\n",
    "        position = columns[2].text\n",
    "        age = int(columns[3].text)\n",
    "\n",
    "        height_total = columns[4].text\n",
    "        height_ft = int(height_total.split(\" \")[0][0])\n",
    "        height_in = int(height_total.split(\" \")[1].split('\"')[0])\n",
    "        height = (12 * height_ft) + height_in\n",
    "        weight = int(columns[5].text.split(\" \")[0])\n",
    "\n",
    "        exp = columns[6].text\n",
    "        experience = 0 if exp == \"R\" else int(exp)\n",
    "        college = columns[7].text\n",
    "\n",
    "        lions_players.append([first_name, last_name, number, side_of_ball, position, age, height, weight, experience, college])\n"
   ]
  },
  {
   "cell_type": "code",
   "execution_count": null,
   "metadata": {},
   "outputs": [],
   "source": [
    "statement = (\"INSERT INTO NFL_roster_ian_loree \"\n",
    "             \"(first_name, last_name, number, side_of_ball, position, age, height, weight, experience, college) \" \n",
    "             \" VALUES (%s, %s, %s, %s, %s, %s, %s, %s, %s, %s)\")\n",
    "for player in lions_players:\n",
    "    #cursor.execute(statement, player)\n",
    "    #cnx.commit()"
   ]
  }
 ],
 "metadata": {
  "language_info": {
   "name": "python"
  }
 },
 "nbformat": 4,
 "nbformat_minor": 2
}
