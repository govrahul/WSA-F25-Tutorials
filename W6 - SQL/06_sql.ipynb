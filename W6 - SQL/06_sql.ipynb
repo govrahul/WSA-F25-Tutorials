{
 "cells": [
  {
   "cell_type": "markdown",
   "id": "04d57ae9",
   "metadata": {
    "id": "04d57ae9"
   },
   "source": [
    "## SQL Demo Code"
   ]
  },
  {
   "cell_type": "markdown",
   "id": "0f84a165",
   "metadata": {
    "id": "0f84a165"
   },
   "source": [
    "### Imports\n",
    "For the necessary libraries to be available, make sure you have run in your terminal:\n",
    "* `pip install requests`\n",
    "* `pip install bs4`\n",
    "* `pip install mysql-connector-python`\n",
    "\n",
    "And run the cell below to `import` those libraries into this notebook!"
   ]
  },
  {
   "cell_type": "code",
   "execution_count": null,
   "id": "06cbbd6a",
   "metadata": {
    "id": "06cbbd6a"
   },
   "outputs": [],
   "source": [
    "import requests\n",
    "from bs4 import BeautifulSoup\n",
    "import mysql.connector"
   ]
  },
  {
   "cell_type": "markdown",
   "id": "f7eec06a",
   "metadata": {
    "id": "f7eec06a"
   },
   "source": [
    "### BeautifulSoup Code and SQL Connections\n",
    "To connect to SQL, we can create variables called `cnx` and `cursor`, as shown below."
   ]
  },
  {
   "cell_type": "code",
   "execution_count": null,
   "id": "819c8201-693a-445e-8515-8e0035fa1447",
   "metadata": {
    "id": "819c8201-693a-445e-8515-8e0035fa1447"
   },
   "outputs": [],
   "source": [
    "cnx = mysql.connector.connect(user = 'wsa',\n",
    "                              host = '34.68.250.121',\n",
    "                              database = 'Tutorials-Fall2024',\n",
    "                              password = 'LeBron>MJ!')\n",
    "cursor = cnx.cursor(buffered = True)"
   ]
  },
  {
   "cell_type": "markdown",
   "id": "Nq9A7D4WTj2b",
   "metadata": {
    "id": "Nq9A7D4WTj2b"
   },
   "source": [
    "The next three cells contain the code we went over last week to scrape and save Michigan Football Gamelog Data."
   ]
  },
  {
   "cell_type": "code",
   "execution_count": null,
   "id": "7675efe4",
   "metadata": {
    "id": "7675efe4"
   },
   "outputs": [],
   "source": [
    "all_rows = []\n",
    "game_stats = []\n",
    "start_year = 2011\n",
    "end_year = 2024\n",
    "\n",
    "def get_rows(year):\n",
    "    url = requests.get(f'https://www.sports-reference.com/cfb/schools/michigan/{year}/gamelog/')\n",
    "    soup = BeautifulSoup(url.text, 'html.parser')\n",
    "    table = soup.find('div', attrs = {'id': 'div_offense'}).find('table')\n",
    "    year_rows = table.find('tbody').find_all('tr')\n",
    "    for row in year_rows:\n",
    "        all_rows.append(row)\n",
    "\n",
    "def get_stats(row):\n",
    "    columns = row.find_all('td')\n",
    "    date = columns[0].find('a').text\n",
    "    year = int(date.split('-')[0])\n",
    "\n",
    "    # To make sure bowl games are counted in correct season\n",
    "    if date.split('-')[1] == '01':\n",
    "        year -= 1\n",
    "\n",
    "    location = columns[1].text\n",
    "    if location == '':\n",
    "        site = 'Home'\n",
    "    elif location == '@':\n",
    "        site = 'Away'\n",
    "    else:\n",
    "        # location == 'N'\n",
    "        site = 'Neutral'\n",
    "\n",
    "    opponent = columns[2].find('a').text\n",
    "\n",
    "    # We are getting multiple data points of interest from this single column, so we must split it\n",
    "    result_list = columns[3].text.split(' ')\n",
    "    result = result_list[0]\n",
    "    points_scored = int(result_list[1].split('-')[0][1:])\n",
    "    points_against = int(result_list[1].split('-')[1][:-1])\n",
    "\n",
    "    pass_cmp = float(columns[4].text)\n",
    "    pass_att = int(columns[5].text)\n",
    "    pass_pct = float(columns[6].text)\n",
    "    pass_yrds = int(columns[7].text)\n",
    "    pass_td = int(columns[8].text)\n",
    "    pass_1st_down = int(columns[16].text)\n",
    "\n",
    "    rush_att = int(columns[9].text)\n",
    "    rush_yrds = int(columns[10].text)\n",
    "    rush_td = int(columns[12].text)\n",
    "    rush_1st_down = int(columns[17].text)\n",
    "\n",
    "    total_offense = int(columns[14].text)\n",
    "    fumbles = int(columns[22].text)\n",
    "    ints = int(columns[23].text)\n",
    "\n",
    "    return([date, year, opponent, site, result, points_scored, points_against, pass_cmp, pass_att, pass_pct,\n",
    "             pass_yrds, pass_td, pass_1st_down, rush_att, rush_yrds, rush_td, rush_1st_down, total_offense, fumbles, ints])\n"
   ]
  },
  {
   "cell_type": "code",
   "execution_count": null,
   "id": "f8094cf0-f07f-4b17-8cbe-9ddee25fa0f3",
   "metadata": {
    "id": "f8094cf0-f07f-4b17-8cbe-9ddee25fa0f3"
   },
   "outputs": [],
   "source": [
    "for year in range(start_year, end_year+1):\n",
    "    get_rows(str(year))\n",
    "\n",
    "for row in all_rows:\n",
    "    game_stats.append(get_stats(row))"
   ]
  },
  {
   "cell_type": "code",
   "execution_count": null,
   "id": "ed98dc9d-8081-4b62-a259-46fcdab11263",
   "metadata": {},
   "outputs": [],
   "source": [
    "for values in game_stats:\n",
    "    print(values)"
   ]
  },
  {
   "cell_type": "markdown",
   "id": "17a405d1",
   "metadata": {
    "id": "17a405d1"
   },
   "source": [
    "### Create a SQL Table\n",
    "Before uploading our data, we first need to create the table in the correct schema in MySQL or Sequel Ace. Then, if the data looks good, we can uncomment the lines below and add the data to our table.\n",
    "\n",
    "IMPORTANT: When you are inserting data into the WSA database, make sure you are using the *Tutorials-Fall2024* schema and your own name for your table."
   ]
  },
  {
   "cell_type": "code",
   "execution_count": null,
   "id": "5b571300-567c-4a81-a36b-02551ab0160d",
   "metadata": {
    "id": "5b571300-567c-4a81-a36b-02551ab0160d",
    "outputId": "13d24532-0a97-4b76-bee9-734b8de3e14c"
   },
   "outputs": [
    {
     "ename": "SyntaxError",
     "evalue": "incomplete input (1649999162.py, line 7)",
     "output_type": "error",
     "traceback": [
      "\u001b[1;36m  Cell \u001b[1;32mIn[32], line 7\u001b[1;36m\u001b[0m\n\u001b[1;33m    #cnx.commit()\u001b[0m\n\u001b[1;37m                 ^\u001b[0m\n\u001b[1;31mSyntaxError\u001b[0m\u001b[1;31m:\u001b[0m incomplete input\n"
     ]
    }
   ],
   "source": [
    "# When creating the statement line, you need one instance of `%s` in the VALUES for each column of data\n",
    "# Here, we are inserting 20 values into each row\n",
    "\n",
    "# Change This!\n",
    "table_name = #\"Michigan_GameLogs_your_name\"\n",
    "\n",
    "statement = (f\"INSERT INTO {table_name} \"\n",
    "             \"(date, year, opponent, home_away, result, points_scored, points_against, pass_cmp, pass_att, pass_pct,\"\n",
    "             \" pass_yrds, pass_td, pass_1st_down, rush_att, rush_yrds, rush_td, rush_1st_down, total_offense, fumbles, ints) \"\n",
    "             \"VALUES (%s, %s, %s, %s, %s, %s, %s, %s, %s, %s, %s, %s, %s, %s, %s, %s, %s, %s, %s, %s)\")\n",
    "\n",
    "for values in game_stats:\n",
    "    #cursor.execute(statement, values)\n",
    "    #cnx.commit()"
   ]
  },
  {
   "cell_type": "markdown",
   "id": "9992669d",
   "metadata": {
    "id": "9992669d"
   },
   "source": [
    "### Example SQL Commands\n",
    "\n",
    "1. <code>SELECT * FROM \\`Tutorials-Fall2024\\`.Michigan_GameLogs_your_name;</code>\n",
    "    * Used to select all of our rows from the table\n",
    "2. <code>SELECT opponent, result FROM \\`Tutorials-Fall2024\\`.Michigan_GameLogs_your_name;</code>\n",
    "    * Used to select only certain columns from the table\n",
    "3. <code>SELECT opponent, result, points_scored FROM \\`Tutorials-Fall2024\\`.Michigan_GameLogs_your_name WHERE points_scored >= 35;</code>\n",
    "    * Used to select only certain columns from the table when a certain condition is met\n",
    "4. <code>SELECT * FROM \\`Tutorials-Fall2024\\`.Michigan_GameLogs_your_name ORDER BY pass_yrds DESC;</code>\n",
    "    * Used to order our table by one of the columns\n",
    "5. <code>INSERT INTO \\`Tutorials-Fall2024\\`.Michigan_GameLogs_your_name (year, opponent, home_away, date, result, points_scored, points_against) VALUES (2024, 'Ohio State', 'Away', '2024-11-30', 'W', 42, 0);</code>\n",
    "    * Used to insert a new row into the bottom of our table\n",
    "    * If you run example 1 again, the new game will be visible at the bottom\n",
    "6. <code>UPDATE \\`Tutorials-Fall2024\\`.Michigan_GameLogs_your_name SET points_scored = 56 WHERE id = [insert correct id];</code>\n",
    "    * Used to update a row in the table using its id\n",
    "7. <code>DELETE FROM \\`Tutorials-Fall2024\\`.Michigan_GameLogs_your_name WHERE id = [insert correct id];</code>\n",
    "    * Used to delete a row from the table using its id"
   ]
  },
  {
   "cell_type": "code",
   "execution_count": null,
   "id": "fa96b3da-0cc9-4cc8-b105-21223d24e5ce",
   "metadata": {
    "id": "fa96b3da-0cc9-4cc8-b105-21223d24e5ce"
   },
   "outputs": [],
   "source": []
  }
 ],
 "metadata": {
  "colab": {
   "provenance": []
  },
  "kernelspec": {
   "display_name": "Python 3 (ipykernel)",
   "language": "python",
   "name": "python3"
  },
  "language_info": {
   "codemirror_mode": {
    "name": "ipython",
    "version": 3
   },
   "file_extension": ".py",
   "mimetype": "text/x-python",
   "name": "python",
   "nbconvert_exporter": "python",
   "pygments_lexer": "ipython3",
   "version": "3.12.4"
  }
 },
 "nbformat": 4,
 "nbformat_minor": 5
}
