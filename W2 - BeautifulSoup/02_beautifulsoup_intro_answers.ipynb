{
 "cells": [
  {
   "cell_type": "markdown",
   "id": "fff1d590",
   "metadata": {},
   "source": [
    "## WSA - Web Scraping with BeautifulSoup Demo Answers"
   ]
  },
  {
   "cell_type": "markdown",
   "id": "84509ee8",
   "metadata": {},
   "source": [
    "### Imports\n",
    "For the necessary libraries to be available, make sure to run in your terminal:\n",
    "* `pip install requests`\n",
    "* `pip install bs4`\n",
    "* `pip install mysql-connector-python`"
   ]
  },
  {
   "cell_type": "code",
   "execution_count": 3,
   "id": "defc453a",
   "metadata": {},
   "outputs": [],
   "source": [
    "import requests\n",
    "from bs4 import BeautifulSoup"
   ]
  },
  {
   "cell_type": "markdown",
   "id": "07826c2a",
   "metadata": {},
   "source": [
    "### Example: Michigan Football All-Time Passing Leaders\n",
    "**Website:** https://www.sports-reference.com/cfb/schools/michigan/passing.html\n",
    "\n",
    "This example shows the basics of web scraping using **Sports Reference**. Sports Reference is a website that contains detailed statistics for a large variety of sports, and could be a valuable source of data for your projects. \n",
    "\n",
    "Important steps include:\n",
    "* Accessing the website using `requests.get`\n",
    "* Creating a `soup` object\n",
    "* Using `find` and `find_all` functions to get the specific data from the website"
   ]
  },
  {
   "cell_type": "markdown",
   "id": "2ecf5ed1-1291-4df7-9f91-029294a96011",
   "metadata": {},
   "source": [
    "#### Step 1: make a request to the specific URL"
   ]
  },
  {
   "cell_type": "code",
   "execution_count": 6,
   "id": "e61f9bc2",
   "metadata": {},
   "outputs": [],
   "source": [
    "url = requests.get('https://www.sports-reference.com/cfb/schools/michigan/passing.html')"
   ]
  },
  {
   "cell_type": "markdown",
   "id": "97ba62de-38cc-404e-928b-d6bee2e4bf02",
   "metadata": {},
   "source": [
    "#### Step 2: create the soup object"
   ]
  },
  {
   "cell_type": "code",
   "execution_count": 8,
   "id": "44c3b08b-65fc-452d-b440-69d21159e09e",
   "metadata": {},
   "outputs": [],
   "source": [
    "# This obtains all of the HTML content from the above URL request\n",
    "\n",
    "soup = BeautifulSoup(url.text, 'html.parser')\n",
    "#print(soup.prettify())"
   ]
  },
  {
   "cell_type": "markdown",
   "id": "1b29f24d-5d80-40a4-bd18-169e01902c76",
   "metadata": {},
   "source": [
    "#### Step 3: Find table rows and columns\n",
    "Use `.find` and `.find_all` to get the table, then the rows, then the columns from the HTML content"
   ]
  },
  {
   "cell_type": "code",
   "execution_count": 10,
   "id": "46ef35a0-65be-42fb-a6e6-d79d694ffa9f",
   "metadata": {},
   "outputs": [],
   "source": [
    "# The following line of code will find the first div tag with an id of div_passing\n",
    "# It then iterates further to find the nested table and tbody tags\n",
    "table = soup.find('div', attrs = {'id' : 'div_passing'}).find('table').find('tbody')\n",
    "#print(table)"
   ]
  },
  {
   "cell_type": "code",
   "execution_count": 11,
   "id": "65dd698d-5896-4e3c-af00-cf966070f8c1",
   "metadata": {},
   "outputs": [],
   "source": [
    "# The following line of code will find all tr tags that are nested within the tbody tag\n",
    "rows = table.find_all('tr')\n",
    "\n",
    "for row in rows:\n",
    "    columns = row.find_all('td')"
   ]
  },
  {
   "cell_type": "code",
   "execution_count": 12,
   "id": "18a2359f-84c7-427c-ba6f-c4ba3e83c503",
   "metadata": {},
   "outputs": [
    {
     "name": "stdout",
     "output_type": "stream",
     "text": [
      "index 0    |  1              |  <th class=\"right\" csk=\"1\" data-stat=\"ranker\" scope=\"row\">1</th>\n",
      "index 1    |  Chad Henne*    |  <td class=\"left\" csk=\"Henne,Chad\" data-append-csv=\"chad-henne-1\" data-stat=\"player\"><a href=\"/cfb/players/chad-henne-1.html\">Chad Henne</a>*</td>\n",
      "index 2    |  2004           |  <td class=\"center\" data-stat=\"year_min\">2004</td>\n",
      "index 3    |  2007           |  <td class=\"center\" data-stat=\"year_max\">2007</td>\n",
      "index 4    |  828            |  <td class=\"right\" data-stat=\"pass_cmp\">828</td>\n",
      "index 5    |  1387           |  <td class=\"right\" data-stat=\"pass_att\">1387</td>\n",
      "index 6    |  59.7           |  <td class=\"right\" data-stat=\"pass_cmp_pct\">59.7</td>\n",
      "index 7    |  9715           |  <td class=\"right\" data-stat=\"pass_yds\">9715</td>\n",
      "index 8    |  7.0            |  <td class=\"right\" data-stat=\"pass_yds_per_att\">7.0</td>\n",
      "index 9    |  7.1            |  <td class=\"right\" data-stat=\"adj_pass_yds_per_att\">7.1</td>\n",
      "index 10   |  87             |  <td class=\"right\" data-stat=\"pass_td\">87</td>\n",
      "index 11   |  37             |  <td class=\"right\" data-stat=\"pass_int\">37</td>\n",
      "index 12   |  133.9          |  <td class=\"right\" data-stat=\"pass_rating\">133.9</td>\n",
      "index 13   |  180            |  <td class=\"right\" data-stat=\"rush_att\">180</td>\n",
      "index 14   |  -315           |  <td class=\"right\" data-stat=\"rush_yds\">-315</td>\n",
      "index 15   |  -1.8           |  <td class=\"right\" data-stat=\"rush_yds_per_att\">-1.8</td>\n",
      "index 16   |  3              |  <td class=\"right\" data-stat=\"rush_td\">3</td>\n"
     ]
    }
   ],
   "source": [
    "# Example to display column elements more clearly\n",
    "ex_row = rows[0]\n",
    "for col in ex_row:\n",
    "    ind = ex_row.index(col)\n",
    "    print('index', ind, ' ' * (2-len(str(ind))), ' | ', col.text, ' ' * (12-len(col.text)), ' | ', col)\n",
    "\n",
    "# column   |  data         |  HTML "
   ]
  },
  {
   "cell_type": "markdown",
   "id": "d7366075-227a-429f-9812-6008a8cbcec1",
   "metadata": {},
   "source": [
    "#### Step 4: Index into table to save specific data"
   ]
  },
  {
   "cell_type": "code",
   "execution_count": 14,
   "id": "e7106ef0-21b3-4167-b61d-47cb935fe197",
   "metadata": {},
   "outputs": [],
   "source": [
    "# This may require other functions as well\n",
    "# For each value, we use .text to parse out seperators such as new line characters\n",
    "# Remember to consider default values for the case that a table entry is null!\n",
    "\n",
    "michigan_qb_data = []\n",
    "\n",
    "for row in rows:\n",
    "    columns = row.find_all('td')\n",
    "    if len(columns) > 0:\n",
    "        name = columns[0].find('a').text\n",
    "        \n",
    "        start_year = columns[1].text\n",
    "        end_year = columns[2].text\n",
    "        years_played = start_year + '-' + end_year\n",
    "        \n",
    "        pass_pct = float(columns[5].text)\n",
    "        pass_yrds = int(columns[6].text)\n",
    "        if columns[9].text == '':\n",
    "            pass_td = 0\n",
    "        else:\n",
    "            pass_td = int(columns[9].text)\n",
    "        ints = int(columns[10].text)\n",
    "\n",
    "        if columns[11].text == '':\n",
    "            qbr = 0.0\n",
    "        else:\n",
    "            qbr = float(columns[11].text)\n",
    "\n",
    "    michigan_qb_data.append([name, years_played, pass_pct, pass_yrds, pass_td, ints, qbr])    "
   ]
  },
  {
   "cell_type": "markdown",
   "id": "65356838-f13f-4533-8213-a27469b26787",
   "metadata": {},
   "source": [
    "Now, let's view all of the scraped data!"
   ]
  },
  {
   "cell_type": "code",
   "execution_count": 16,
   "id": "2aa888aa-be91-405b-9c2b-e60b66782b5d",
   "metadata": {},
   "outputs": [
    {
     "name": "stdout",
     "output_type": "stream",
     "text": [
      "['Chad Henne', '2004-2007', 59.7, 9715, 87, 37, 133.9]\n",
      "['John Navarre', '2000-2003', 56.1, 9014, 70, 30, 126.0]\n",
      "['Devin Gardner', '2010-2014', 60.4, 6336, 44, 32, 138.3]\n",
      "['Denard Robinson', '2009-2012', 57.2, 6250, 49, 39, 138.6]\n",
      "['J.J. McCarthy', '2021-2023', 67.6, 6226, 49, 11, 160.5]\n",
      "['Elvis Grbac', '1989-1992', 63.1, 5859, 64, 29, 148.7]\n",
      "['Shea Patterson', '2018-2019', 60.1, 5661, 45, 15, 144.2]\n",
      "['Todd Collins', '1991-1994', 65.0, 5504, 34, 17, 146.5]\n",
      "['Jim Harbaugh', '1983-1986', 63.2, 5214, 31, 19, 149.5]\n",
      "['Tom Brady', '1996-1999', 61.9, 4773, 30, 17, 134.9]\n",
      "['Steve Smith', '1980-1983', 50.1, 4529, 41, 30, 126.2]\n",
      "['Rick Leach', '1975-1978', 47.6, 3799, 45, 29, 136.3]\n",
      "['Brian Griese', '1995-1997', 59.5, 3663, 27, 15, 130.6]\n",
      "['Wilton Speight', '2015-2017', 58.8, 3192, 22, 10, 132.2]\n",
      "['Cade McNamara', '2020-2022', 63.1, 3181, 21, 7, 139.4]\n",
      "['Jake Rudock', '2015-2015', 64.0, 3017, 20, 9, 141.5]\n",
      "['Scott Dreisbach', '1995-1998', 54.7, 2920, 15, 12, 126.0]\n",
      "['Tate Forcier', '2009-2010', 60.0, 2647, 17, 14, 128.6]\n",
      "['John Wangler', '1976-1980', 56.3, 2646, 23, 17, 139.4]\n",
      "['Drew Henson', '1998-2000', 55.8, 2631, 22, 7, 135.5]\n",
      "['Drew Henson', '1998-2000', 55.8, 2631, 22, 7, 135.5]\n",
      "['Dennis Brown', '1966-1968', 50.0, 2562, 19, 17, 112.5]\n",
      "['Dick Vidmer', '1965-1967', 49.0, 2455, 11, 20, 102.0]\n",
      "['Don Moorhead', '1968-1970', 47.3, 2423, 14, 14, 103.7]\n",
      "['Dennis Franklin', '1972-1974', 52.0, 2285, 18, 12, 129.4]\n",
      "['Michael Taylor', '1986-1989', 59.9, 2083, 17, 7, 146.1]\n",
      "['Demetrius Brown', '1987-1988', 52.6, 1810, 15, 16, 131.4]\n",
      "['Bob Timberlake', '1962-1964', 48.6, 1579, 8, 12, 100.8]\n",
      "['Dave Glinka', '1960-1962', 45.1, 1388, 10, 17, 93.9]\n",
      "['Stan Noskin', '1957-1959', 50.0, 1295, 2, 21, 87.4]\n",
      "['Joe Milton', '2018-2020', 56.6, 1194, 5, 6, 125.5]\n",
      "[\"John O'Korn\", '2016-2017', 54.5, 1146, 4, 6, 105.5]\n",
      "['Steven Threet', '2008-2008', 51.0, 1105, 9, 7, 105.3]\n",
      "['Bob Ptacek', '1956-1958', 58.2, 1031, 7, 11, 120.4]\n",
      "['Ryan Mallett', '2007-2007', 43.3, 892, 7, 5, 105.7]\n",
      "['Jim Van Pelt', '1956-1957', 50.4, 850, 8, 4, 129.9]\n",
      "['Wally Gabler', '1964-1965', 45.7, 825, 4, 2, 107.5]\n",
      "['Chris Zurbrugg', '1984-1986', 52.9, 777, 5, 7, 109.9]\n",
      "['Bob Chandler', '1961-1963', 47.7, 717, 4, 6, 105.1]\n",
      "['Nick Sheridan', '2008-2009', 47.3, 701, 2, 6, 83.4]\n",
      "['Brandon Peters', '2017-2018', 52.7, 680, 4, 3, 111.2]\n",
      "['Brandon Peters', '2017-2018', 52.7, 680, 4, 3, 111.2]\n",
      "['B.J. Dickey', '1977-1981', 47.6, 647, 7, 4, 115.0]\n",
      "['Davis Warren', '2022-2024', 61.6, 533, 2, 7, 105.1]\n",
      "['Shane Morris', '2013-2016', 51.1, 434, 0, 5, 79.8]\n",
      "['Larry Cipa', '1971-1973', 34.3, 360, 3, 6, 74.5]\n",
      "['Tom Slade', '1971-1971', 45.3, 338, 2, 3, 100.0]\n",
      "['Jim Betts', '1968-1969', 48.5, 293, 3, 0, 153.1]\n",
      "['Matt Gutierrez', '2003-2005', 65.9, 286, 1, 0, 132.5]\n",
      "['Frosty Evashevski', '1962-1964', 36.9, 252, 1, 7, 53.0]\n",
      "['Dylan McCaffrey', '2018-2019', 51.4, 242, 3, 0, 137.8]\n",
      "['Mark Elzinga', '1974-1975', 32.5, 237, 3, 2, 97.0]\n",
      "['Jim Maddock', '1956-1956', 45.2, 213, 0, 3, 73.6]\n",
      "['Terry Barr', '1956-1956', 83.3, 187, 2, 0, 455.1]\n",
      "['David Hall', '1982-1983', 51.3, 176, 2, 3, 90.7]\n",
      "['Kevin Casey', '1971-1971', 41.2, 165, 1, 1, 85.8]\n",
      "['Ken Sollom', '1988-1991', 76.5, 149, 1, 0, 169.5]\n",
      "['Russ Rein', '1984-1985', 54.8, 142, 1, 3, 84.6]\n",
      "['Alex Orji', '2022-2024', 56.8, 138, 3, 1, 109.4]\n",
      "['Rich Hewlett', '1979-1983', 34.8, 132, 2, 1, 103.0]\n",
      "['Darrell Harper', '1957-1959', 53.3, 131, 0, 0, 126.7]\n",
      "['Jack Tuttle', '2023-2024', 88.2, 130, 1, 0, 171.9]\n",
      "['Jack Tuttle', '2023-2024', 88.2, 130, 1, 0, 171.9]\n",
      "['Spencer Brinton', '2001-2004', 50.0, 121, 0, 0, 96.2]\n",
      "['Jason Carr', '1992-1995', 47.8, 114, 0, 2, 72.1]\n",
      "['Donovan Edwards', '2021-2024', 100.0, 108, 1, 0, 512.4]\n",
      "['John Stamos', '1959-1960', 23.8, 90, 0, 4, 21.7]\n",
      "['Jim Pace', '1956-1957', 46.7, 89, 0, 1, 83.2]\n",
      "['Jack McBride', '1970-1971', 45.5, 89, 0, 0, 113.4]\n",
      "['Jermaine Gonzales', '2001-2004', 53.8, 88, 0, 0, 110.7]\n",
      "['Jay Riemersma', '1992-1995', 42.9, 79, 1, 0, 113.8]\n",
      "['David Cone', '2007-2009', 66.7, 75, 0, 0, 171.7]\n",
      "['Alan Bowman', '2021-2022', 72.7, 69, 1, 1, 137.2]\n",
      "['Vince Bean', '1981-1984', 100.0, 67, 1, 0, 992.8]\n",
      "['Don Hannah', '1959-1960', 27.3, 62, 0, 1, 41.9]\n",
      "['Brad Myers', '1957-1959', 62.5, 61, 0, 0, 126.6]\n",
      "['Jason Kapsner', '1997-1999', 50.0, 58, 0, 0, 98.7]\n",
      "['Dick Sygar', '1964-1965', 50.0, 57, 2, 1, 284.7]\n",
      "['Clayton Richard', '2004-2004', 53.3, 52, 0, 0, 82.5]\n",
      "['Marquise Walker', '1998-2001', 33.3, 51, 0, 1, 109.5]\n",
      "['Jayden Denegal', '2022-2024', 80.0, 50, 1, 0, 230.0]\n",
      "['Dick Rindfuss', '1962-1964', 50.0, 47, 0, 0, 247.4]\n",
      "['Greg McMurtry', '1986-1989', 50.0, 46, 1, 1, 308.2]\n",
      "['Greg McMurtry', '1986-1989', 50.0, 46, 1, 1, 308.2]\n",
      "['Russell Bellomy', '2012-2014', 17.4, 46, 0, 4, -0.6]\n",
      "['John Spidel', '1957-1958', 36.4, 43, 0, 4, -3.5]\n",
      "['Gerald White', '1983-1986', 100.0, 40, 0, 0, 436.0]\n",
      "['Wilbur Odom', '1988-1989', 42.9, 40, 0, 2, 33.7]\n",
      "['Amani Toomer', '1992-1995', 50.0, 37, 0, 1, 105.4]\n",
      "['Andy Mignery', '2000-2003', 75.0, 37, 0, 0, 152.7]\n",
      "['Steve Breaston', '2003-2006', 50.0, 36, 1, 0, 366.2]\n",
      "['Rick Volk', '1964-1964', 100.0, 33, 1, 0, 707.2]\n",
      "['Stacy Johnson', '1976-1976', 66.7, 30, 0, 0, 150.7]\n",
      "['Jason Forcier', '2006-2006', 100.0, 30, 0, 0, 184.0]\n",
      "['Charles Woodson', '1995-1997', 100.0, 28, 0, 0, 335.2]\n",
      "['Harry Newman Jr.', '1958-1959', 50.0, 27, 0, 1, 63.4]\n",
      "['Dan Villari', '2021-2021', 33.3, 26, 0, 0, 106.1]\n",
      "['Ed Shannon', '1956-1956', 66.7, 25, 1, 0, 246.7]\n",
      "['Michael Barrett', '2018-2023', 100.0, 25, 0, 0, 310.0]\n",
      "['Ron Kramer', '1956-1956', 50.0, 23, 0, 0, 146.6]\n",
      "['DiAllo Johnson', '1997-1999', 100.0, 23, 0, 0, 293.2]\n",
      "['Walter Cross', '1998-2001', 50.0, 21, 1, 1, 203.2]\n",
      "['Drake Johnson', '2013-2015', 100.0, 18, 0, 0, 251.2]\n",
      "['Vincent Smith', '2009-2012', 33.3, 17, 1, 1, 124.3]\n",
      "['Vincent Smith', '2009-2012', 33.3, 17, 1, 1, 124.3]\n",
      "['Kalel Mullings', '2020-2024', 100.0, 15, 0, 0, 226.0]\n",
      "['Antonio Bass', '2005-2005', 100.0, 13, 0, 0, 209.2]\n",
      "['Grant Perry', '2015-2018', 100.0, 12, 0, 0, 200.8]\n",
      "['Gordon Bell', '1973-1975', 100.0, 11, 1, 0, 522.4]\n",
      "['Adrian Arrington', '2004-2007', 50.0, 11, 1, 0, 261.2]\n",
      "['Drew Dileo', '2010-2013', 100.0, 11, 0, 0, 192.4]\n",
      "['Paul Palmer', '1959-1959', 20.0, 8, 0, 1, 0.0]\n",
      "['Carl Ward', '1964-1966', 66.7, 7, 1, 0, 196.3]\n",
      "['Jack Kennedy', '2009-2012', 100.0, 7, 0, 0, 158.8]\n",
      "['Brandon Mann', '2022-2023', 100.0, 7, 0, 0, 158.8]\n",
      "['Hayden Epstein', '1998-2001', 100.0, 6, 0, 0, 150.4]\n",
      "['John Ceddia', '1976-1976', 100.0, 5, 0, 0, 142.0]\n",
      "['Gary Lee', '1979-1979', 25.0, 5, 0, 0, 35.5]\n",
      "['Andy Maddox', '2022-2022', 100.0, 4, 0, 0, 133.6]\n",
      "['Tom Prichard', '1962-1962', 50.0, 3, 0, 0, 0.0]\n",
      "['John Herrnstein', '1956-1958', 0.0, 0, 0, 1, -200.0]\n",
      "['Mike Shatusky', '1956-1957', 0.0, 0, 0, 1, -200.0]\n",
      "['Fred Julian', '1958-1959', 0.0, 0, 0, 1, -200.0]\n",
      "['Reid Bushong', '1958-1960', 0.0, 0, 0, 0, 0.0]\n",
      "['Peter Hollis', '1964-1964', 0.0, 0, 0, 0, 0.0]\n",
      "['Peter Hollis', '1964-1964', 0.0, 0, 0, 0, 0.0]\n",
      "['Butch Woolfolk', '1978-1981', 0.0, 0, 0, 1, -200.0]\n",
      "['Anthony Carter', '1979-1982', 0.0, 0, 0, 0, 0.0]\n",
      "['Bryan Virgil', '1979-1979', 0.0, 0, 0, 0, 0.0]\n",
      "['Rick Rogers', '1981-1984', 0.0, 0, 0, 0, 0.0]\n",
      "['Leroy Hoard', '1987-1989', 0.0, 0, 0, 0, 0.0]\n",
      "['Yale Van Dyne', '1990-1991', 0.0, 0, 0, 1, -200.0]\n",
      "['Tshimanga Biakabutuka', '1993-1995', 0.0, 0, 0, 0, 0.0]\n",
      "['Chris Howard', '1994-1997', 0.0, 0, 0, 0, 0.0]\n",
      "['Tyrone Butterfield', '1995-1996', 0.0, 0, 0, 0, 0.0]\n",
      "['Anthony Thomas', '1997-2000', 0.0, 0, 0, 0, 0.0]\n",
      "['Jeff Kastl', '2005-2005', 0.0, 0, 0, 0, 0.0]\n",
      "['Jeremy Gallon', '2010-2013', 0.0, 0, 0, 0, 0.0]\n",
      "['Jabrill Peppers', '2014-2016', 0.0, 0, 0, 0, 0.0]\n",
      "['Hassan Haskins', '2018-2021', 0.0, 0, 0, 0, 0.0]\n",
      "['Ronnie Bell', '2018-2022', 0.0, 0, 0, 0, 0.0]\n"
     ]
    }
   ],
   "source": [
    "for qb in michigan_qb_data:\n",
    "    print(qb)"
   ]
  },
  {
   "cell_type": "markdown",
   "id": "809c5d4e-d4dc-4f90-aa94-3691af14c57d",
   "metadata": {},
   "source": [
    "### Exercise: NFL Quarterback Data\n",
    "**Website:** https://www.nfl.com/stats/player-stats/\n",
    "\n",
    "Scrape the NFL website to gather the following data for the NFL's top quarterbacks so far this season:\n",
    "* Name \n",
    "* Passing Yards\n",
    "* Completion Percentage\n",
    "* \\# of Touchdowns \n",
    "* QB Rating\n",
    "\n",
    "You will need to cast some string table entries into numerical values!"
   ]
  },
  {
   "cell_type": "code",
   "execution_count": 18,
   "id": "9f910333-85c1-49f3-a3c1-f136089827a4",
   "metadata": {},
   "outputs": [],
   "source": [
    "nfl_qbs = []\n",
    "\n",
    "url = requests.get('https://www.nfl.com/stats/player-stats/')\n",
    "soup = BeautifulSoup(url.text, 'html.parser')"
   ]
  },
  {
   "cell_type": "code",
   "execution_count": 19,
   "id": "69ec0ae0-5d6a-4261-9512-baeec7ae143a",
   "metadata": {},
   "outputs": [],
   "source": [
    "qb_table = soup.find('div', attrs={'class' : 'd3-o-table--horizontal-scroll'}).find('table')\n",
    "qb_rows = qb_table.find('tbody').find_all('tr')"
   ]
  },
  {
   "cell_type": "code",
   "execution_count": 20,
   "id": "6ec29ec8-295d-4f55-9e07-a182563e967f",
   "metadata": {},
   "outputs": [],
   "source": [
    "# Index into each row and save data to variables here!\n",
    "for row in qb_rows:\n",
    "    cols = row.find_all('td')\n",
    "\n",
    "    name = cols[0].text.strip()\n",
    "    pass_yards = int(cols[1].text)\n",
    "    comp_per = float(cols[5].text)\n",
    "    td = int(cols[6].text)\n",
    "    qbr = float(cols[8].text)\n",
    "\n",
    "    nfl_qbs.append([name, pass_yards, comp_per, td, qbr])"
   ]
  },
  {
   "cell_type": "code",
   "execution_count": 21,
   "id": "97aa925f-f2d6-4b32-98dd-641164b238d9",
   "metadata": {},
   "outputs": [
    {
     "name": "stdout",
     "output_type": "stream",
     "text": [
      "['Brock Purdy', 1130, 68.8, 5, 104.9]\n",
      "['Dak Prescott', 1072, 64.4, 6, 93.6]\n",
      "['C.J. Stroud', 1054, 67.6, 6, 98.4]\n",
      "['Baker Mayfield', 984, 70.5, 8, 106.9]\n",
      "['Joe Burrow', 978, 70.9, 7, 105.9]\n",
      "['Matthew Stafford', 978, 68.5, 2, 89.2]\n",
      "['Sam Darnold', 932, 68.9, 11, 118.9]\n",
      "['Jalen Hurts', 930, 68.2, 4, 85.7]\n",
      "['Patrick Mahomes', 904, 68.6, 6, 89.7]\n",
      "['Jayden Daniels', 897, 82.1, 3, 107.4]\n",
      "['Daniel Jones', 881, 63.2, 4, 80.8]\n",
      "['Gardner Minshew', 877, 70.7, 3, 88.7]\n",
      "['Kirk Cousins', 864, 64.7, 4, 83.5]\n",
      "['Lamar Jackson', 858, 66.7, 5, 102.3]\n",
      "['Aaron Rodgers', 849, 64.1, 5, 92.9]\n",
      "['Justin Fields', 830, 70.6, 3, 98.0]\n",
      "['Derek Carr', 824, 72.0, 6, 103.9]\n",
      "['Josh Allen', 814, 69.3, 7, 116.5]\n",
      "['Geno Smith', 787, 74.8, 3, 93.8]\n",
      "['Caleb Williams', 787, 61.7, 3, 72.0]\n",
      "['Kyler Murray', 777, 69.4, 6, 104.6]\n",
      "['Trevor Lawrence', 729, 53.3, 4, 78.9]\n",
      "['Deshaun Watson', 727, 61.5, 4, 74.4]\n",
      "['Jared Goff', 723, 66.0, 3, 79.2]\n",
      "['Bo Nix', 660, 60.1, 1, 62.5]\n"
     ]
    }
   ],
   "source": [
    "for qb in nfl_qbs:\n",
    "    print(qb)"
   ]
  }
 ],
 "metadata": {
  "kernelspec": {
   "display_name": "Python 3 (ipykernel)",
   "language": "python",
   "name": "python3"
  },
  "language_info": {
   "codemirror_mode": {
    "name": "ipython",
    "version": 3
   },
   "file_extension": ".py",
   "mimetype": "text/x-python",
   "name": "python",
   "nbconvert_exporter": "python",
   "pygments_lexer": "ipython3",
   "version": "3.12.4"
  }
 },
 "nbformat": 4,
 "nbformat_minor": 5
}
