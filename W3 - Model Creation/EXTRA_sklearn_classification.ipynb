{
 "cells": [
  {
   "cell_type": "markdown",
   "id": "ab47a74c-fc2e-4464-8795-d4d657562363",
   "metadata": {},
   "source": [
    "# WSA Scikit-Learn Classification Demo"
   ]
  },
  {
   "cell_type": "markdown",
   "id": "f667e9a3-e5c8-48de-ba7b-a9a3f2ec5393",
   "metadata": {},
   "source": [
    "## Imports"
   ]
  },
  {
   "cell_type": "code",
   "execution_count": 1,
   "id": "7dff4410-5772-4a19-b4cd-28e51644d44b",
   "metadata": {},
   "outputs": [],
   "source": [
    "import pandas as pd\n",
    "import numpy as np\n",
    "import matplotlib.pyplot as plt\n",
    "\n",
    "from sklearn import svm, neighbors, ensemble, metrics\n",
    "from sklearn.model_selection import cross_val_score, LeaveOneOut"
   ]
  },
  {
   "cell_type": "code",
   "execution_count": 2,
   "id": "30152c15-4f68-4cdc-a9bb-f4fb61a94328",
   "metadata": {},
   "outputs": [
    {
     "data": {
      "text/html": [
       "<div>\n",
       "<style scoped>\n",
       "    .dataframe tbody tr th:only-of-type {\n",
       "        vertical-align: middle;\n",
       "    }\n",
       "\n",
       "    .dataframe tbody tr th {\n",
       "        vertical-align: top;\n",
       "    }\n",
       "\n",
       "    .dataframe thead th {\n",
       "        text-align: right;\n",
       "    }\n",
       "</style>\n",
       "<table border=\"1\" class=\"dataframe\">\n",
       "  <thead>\n",
       "    <tr style=\"text-align: right;\">\n",
       "      <th></th>\n",
       "      <th>date</th>\n",
       "      <th>year</th>\n",
       "      <th>opponent</th>\n",
       "      <th>location</th>\n",
       "      <th>result</th>\n",
       "      <th>pts_scored</th>\n",
       "      <th>pts_against</th>\n",
       "      <th>pass_cmp</th>\n",
       "      <th>pass_att</th>\n",
       "      <th>pass_pct</th>\n",
       "      <th>pass_yrds</th>\n",
       "      <th>pass_tds</th>\n",
       "      <th>pass_first_downs</th>\n",
       "      <th>rush_att</th>\n",
       "      <th>rush_yrds</th>\n",
       "      <th>rush_tds</th>\n",
       "      <th>rush_first_downs</th>\n",
       "      <th>total_offense</th>\n",
       "      <th>fumbles</th>\n",
       "      <th>ints</th>\n",
       "    </tr>\n",
       "  </thead>\n",
       "  <tbody>\n",
       "    <tr>\n",
       "      <th>170</th>\n",
       "      <td>2024-10-05</td>\n",
       "      <td>2024</td>\n",
       "      <td>Washington</td>\n",
       "      <td>Away</td>\n",
       "      <td>L</td>\n",
       "      <td>17</td>\n",
       "      <td>27</td>\n",
       "      <td>13</td>\n",
       "      <td>25</td>\n",
       "      <td>52.0</td>\n",
       "      <td>113</td>\n",
       "      <td>1</td>\n",
       "      <td>7</td>\n",
       "      <td>37</td>\n",
       "      <td>174</td>\n",
       "      <td>1</td>\n",
       "      <td>9</td>\n",
       "      <td>287</td>\n",
       "      <td>1</td>\n",
       "      <td>1</td>\n",
       "    </tr>\n",
       "    <tr>\n",
       "      <th>171</th>\n",
       "      <td>2024-10-19</td>\n",
       "      <td>2024</td>\n",
       "      <td>Illinois</td>\n",
       "      <td>Away</td>\n",
       "      <td>L</td>\n",
       "      <td>7</td>\n",
       "      <td>21</td>\n",
       "      <td>20</td>\n",
       "      <td>32</td>\n",
       "      <td>62.5</td>\n",
       "      <td>208</td>\n",
       "      <td>0</td>\n",
       "      <td>8</td>\n",
       "      <td>38</td>\n",
       "      <td>114</td>\n",
       "      <td>1</td>\n",
       "      <td>10</td>\n",
       "      <td>322</td>\n",
       "      <td>2</td>\n",
       "      <td>1</td>\n",
       "    </tr>\n",
       "    <tr>\n",
       "      <th>172</th>\n",
       "      <td>2024-10-26</td>\n",
       "      <td>2024</td>\n",
       "      <td>Michigan State</td>\n",
       "      <td>Home</td>\n",
       "      <td>W</td>\n",
       "      <td>24</td>\n",
       "      <td>17</td>\n",
       "      <td>14</td>\n",
       "      <td>20</td>\n",
       "      <td>70.0</td>\n",
       "      <td>146</td>\n",
       "      <td>2</td>\n",
       "      <td>9</td>\n",
       "      <td>31</td>\n",
       "      <td>119</td>\n",
       "      <td>1</td>\n",
       "      <td>7</td>\n",
       "      <td>265</td>\n",
       "      <td>0</td>\n",
       "      <td>0</td>\n",
       "    </tr>\n",
       "    <tr>\n",
       "      <th>173</th>\n",
       "      <td>2024-11-02</td>\n",
       "      <td>2024</td>\n",
       "      <td>Oregon</td>\n",
       "      <td>Home</td>\n",
       "      <td>L</td>\n",
       "      <td>17</td>\n",
       "      <td>38</td>\n",
       "      <td>13</td>\n",
       "      <td>25</td>\n",
       "      <td>52.0</td>\n",
       "      <td>165</td>\n",
       "      <td>2</td>\n",
       "      <td>7</td>\n",
       "      <td>28</td>\n",
       "      <td>105</td>\n",
       "      <td>0</td>\n",
       "      <td>4</td>\n",
       "      <td>270</td>\n",
       "      <td>0</td>\n",
       "      <td>0</td>\n",
       "    </tr>\n",
       "    <tr>\n",
       "      <th>174</th>\n",
       "      <td>2024-11-09</td>\n",
       "      <td>2024</td>\n",
       "      <td>Indiana</td>\n",
       "      <td>Away</td>\n",
       "      <td>L</td>\n",
       "      <td>15</td>\n",
       "      <td>20</td>\n",
       "      <td>16</td>\n",
       "      <td>32</td>\n",
       "      <td>50.0</td>\n",
       "      <td>137</td>\n",
       "      <td>0</td>\n",
       "      <td>7</td>\n",
       "      <td>34</td>\n",
       "      <td>69</td>\n",
       "      <td>1</td>\n",
       "      <td>6</td>\n",
       "      <td>206</td>\n",
       "      <td>1</td>\n",
       "      <td>0</td>\n",
       "    </tr>\n",
       "  </tbody>\n",
       "</table>\n",
       "</div>"
      ],
      "text/plain": [
       "           date  year        opponent location result  pts_scored  \\\n",
       "170  2024-10-05  2024      Washington     Away      L          17   \n",
       "171  2024-10-19  2024        Illinois     Away      L           7   \n",
       "172  2024-10-26  2024  Michigan State     Home      W          24   \n",
       "173  2024-11-02  2024          Oregon     Home      L          17   \n",
       "174  2024-11-09  2024         Indiana     Away      L          15   \n",
       "\n",
       "     pts_against  pass_cmp  pass_att  pass_pct  pass_yrds  pass_tds  \\\n",
       "170           27        13        25      52.0        113         1   \n",
       "171           21        20        32      62.5        208         0   \n",
       "172           17        14        20      70.0        146         2   \n",
       "173           38        13        25      52.0        165         2   \n",
       "174           20        16        32      50.0        137         0   \n",
       "\n",
       "     pass_first_downs  rush_att  rush_yrds  rush_tds  rush_first_downs  \\\n",
       "170                 7        37        174         1                 9   \n",
       "171                 8        38        114         1                10   \n",
       "172                 9        31        119         1                 7   \n",
       "173                 7        28        105         0                 4   \n",
       "174                 7        34         69         1                 6   \n",
       "\n",
       "     total_offense  fumbles  ints  \n",
       "170            287        1     1  \n",
       "171            322        2     1  \n",
       "172            265        0     0  \n",
       "173            270        0     0  \n",
       "174            206        1     0  "
      ]
     },
     "execution_count": 2,
     "metadata": {},
     "output_type": "execute_result"
    }
   ],
   "source": [
    "df = pd.read_csv('Michigan_GameLogs_F24.csv').drop(columns=['id'])\n",
    "df.rename(columns = {\n",
    "    'home_away' : 'location',\n",
    "    'points_scored' : 'pts_scored',\n",
    "    'points_against' : 'pts_against',\n",
    "    'pass_td' : 'pass_tds',\n",
    "    'pass_1st_down' : 'pass_first_downs',\n",
    "    'rush_td' : 'rush_tds',\n",
    "    'rush_1st_down' : 'rush_first_downs'\n",
    "}, inplace = True)\n",
    "df.tail()"
   ]
  },
  {
   "cell_type": "markdown",
   "id": "ca50e6b6-44b3-4c07-9181-7052e69b42b8",
   "metadata": {},
   "source": [
    "## Classification Introduction"
   ]
  },
  {
   "cell_type": "markdown",
   "id": "6243f72d-67c5-4225-95ef-b240cc440971",
   "metadata": {},
   "source": [
    "Recall that supervised learning involves modeling the relationship between measured features of a dataset $X$ and a label $y$ associated with that data. Using that model, we can predict the labels for new data of the same structure. Regression tasks deal with continuous labels, while classification tasks are used for labels that are **discrete**.\n",
    "\n",
    "The general procedure for using classification algorithms in *scikit-learn* is the same for both types of tasks. We split our datasets into training and test splits using `train_test_split()`, `.fit()` our model to the training dataset, and predict the labels using `.predict()`.\n",
    "\n",
    "For this exercise, we will seek to predict the game result using features such as game location, passing and rushing yards, touchdowns, and turnovers,  using the game result (**W** or **L**) as our label. This is an example of **binary classification**, since we only have two possible class labels."
   ]
  },
  {
   "cell_type": "markdown",
   "id": "48866cf1-600f-4d4a-a242-a2bec8ed70be",
   "metadata": {},
   "source": [
    "### Cross-Validation"
   ]
  },
  {
   "cell_type": "markdown",
   "id": "2dd2808c-e32e-4444-ac99-663fc2a00627",
   "metadata": {},
   "source": [
    "To prevent overfitting, we will evaluate our model performance using cross-validation. By splitting our dataset into multiple subsets, we can use each subset as a separate validation set (and the rest as the training set), then aggregate the results across all \"folds\" of the cross-validation process. \n",
    "\n",
    "For larger datasets, it is suitable to split your dataset into sizable training and testing sets, then use cross-validation among your training set. Validation is solely for assessing model performance and hyperparameter tuning, whereas the test set is completely unused throughout the training process, and it is used only to evaluate the final model.\n",
    "\n",
    "Because we have a small dataset (~170 points), we can easily employ *leave-one-out* cross-validation. We will run a set of trials where we train on all points in the dataset except for one, then use that point as our validation set, and repeat so that each point in the dataset is used as the validation set. Our cross-validation score will be the average across trials.\n",
    "\n",
    "We will be using the games from 2011-2023 for training and validation, then test our final model on the games from 2024."
   ]
  },
  {
   "cell_type": "markdown",
   "id": "6ed68719-d4c0-44f2-baf7-a3ea012cb88f",
   "metadata": {},
   "source": [
    "### Data Preprocessing"
   ]
  },
  {
   "cell_type": "markdown",
   "id": "0e7cb3d6-c1a3-4165-a0b5-a1cd1c239f48",
   "metadata": {},
   "source": [
    "First, we use `.map()` to encode game result and location as numerical values."
   ]
  },
  {
   "cell_type": "code",
   "execution_count": 5,
   "id": "062e8014-9ffe-4aa3-9495-11b3e8be433b",
   "metadata": {},
   "outputs": [
    {
     "data": {
      "text/plain": [
       "0      1\n",
       "1      1\n",
       "2      1\n",
       "3      1\n",
       "4      1\n",
       "      ..\n",
       "170    0\n",
       "171    0\n",
       "172    1\n",
       "173    0\n",
       "174    0\n",
       "Name: win, Length: 175, dtype: int64"
      ]
     },
     "execution_count": 5,
     "metadata": {},
     "output_type": "execute_result"
    }
   ],
   "source": [
    "df['win'] = df['result'].map({'W': 1, 'L': 0})\n",
    "df['win']"
   ]
  },
  {
   "cell_type": "code",
   "execution_count": 7,
   "id": "405203ca-34ea-4490-abd2-362bbbdbee6b",
   "metadata": {},
   "outputs": [
    {
     "data": {
      "text/plain": [
       "0      1\n",
       "1      1\n",
       "2      1\n",
       "3      1\n",
       "4      1\n",
       "      ..\n",
       "170    0\n",
       "171    0\n",
       "172    1\n",
       "173    1\n",
       "174    0\n",
       "Name: home, Length: 175, dtype: int64"
      ]
     },
     "execution_count": 7,
     "metadata": {},
     "output_type": "execute_result"
    }
   ],
   "source": [
    "# Away and Neutral grouped together\n",
    "df['home'] = df['location'].map({'Home': 1, 'Away': 0, 'Neutral': 0})\n",
    "df['home']"
   ]
  },
  {
   "cell_type": "code",
   "execution_count": 9,
   "id": "f91e1cb8-3f21-4b72-8264-fd1a1dbf9708",
   "metadata": {},
   "outputs": [
    {
     "data": {
      "text/html": [
       "<div>\n",
       "<style scoped>\n",
       "    .dataframe tbody tr th:only-of-type {\n",
       "        vertical-align: middle;\n",
       "    }\n",
       "\n",
       "    .dataframe tbody tr th {\n",
       "        vertical-align: top;\n",
       "    }\n",
       "\n",
       "    .dataframe thead th {\n",
       "        text-align: right;\n",
       "    }\n",
       "</style>\n",
       "<table border=\"1\" class=\"dataframe\">\n",
       "  <thead>\n",
       "    <tr style=\"text-align: right;\">\n",
       "      <th></th>\n",
       "      <th>date</th>\n",
       "      <th>year</th>\n",
       "      <th>opponent</th>\n",
       "      <th>location</th>\n",
       "      <th>result</th>\n",
       "      <th>pts_scored</th>\n",
       "      <th>pts_against</th>\n",
       "      <th>pass_cmp</th>\n",
       "      <th>pass_att</th>\n",
       "      <th>pass_pct</th>\n",
       "      <th>...</th>\n",
       "      <th>pass_first_downs</th>\n",
       "      <th>rush_att</th>\n",
       "      <th>rush_yrds</th>\n",
       "      <th>rush_tds</th>\n",
       "      <th>rush_first_downs</th>\n",
       "      <th>total_offense</th>\n",
       "      <th>fumbles</th>\n",
       "      <th>ints</th>\n",
       "      <th>win</th>\n",
       "      <th>home</th>\n",
       "    </tr>\n",
       "  </thead>\n",
       "  <tbody>\n",
       "    <tr>\n",
       "      <th>165</th>\n",
       "      <td>2024-08-31</td>\n",
       "      <td>2024</td>\n",
       "      <td>Fresno State</td>\n",
       "      <td>Home</td>\n",
       "      <td>W</td>\n",
       "      <td>30</td>\n",
       "      <td>10</td>\n",
       "      <td>16</td>\n",
       "      <td>27</td>\n",
       "      <td>59.3</td>\n",
       "      <td>...</td>\n",
       "      <td>9</td>\n",
       "      <td>34</td>\n",
       "      <td>148</td>\n",
       "      <td>0</td>\n",
       "      <td>8</td>\n",
       "      <td>269</td>\n",
       "      <td>0</td>\n",
       "      <td>1</td>\n",
       "      <td>1</td>\n",
       "      <td>1</td>\n",
       "    </tr>\n",
       "    <tr>\n",
       "      <th>166</th>\n",
       "      <td>2024-09-07</td>\n",
       "      <td>2024</td>\n",
       "      <td>Texas</td>\n",
       "      <td>Home</td>\n",
       "      <td>L</td>\n",
       "      <td>12</td>\n",
       "      <td>31</td>\n",
       "      <td>22</td>\n",
       "      <td>33</td>\n",
       "      <td>66.7</td>\n",
       "      <td>...</td>\n",
       "      <td>9</td>\n",
       "      <td>23</td>\n",
       "      <td>80</td>\n",
       "      <td>0</td>\n",
       "      <td>4</td>\n",
       "      <td>284</td>\n",
       "      <td>1</td>\n",
       "      <td>2</td>\n",
       "      <td>0</td>\n",
       "      <td>1</td>\n",
       "    </tr>\n",
       "    <tr>\n",
       "      <th>167</th>\n",
       "      <td>2024-09-14</td>\n",
       "      <td>2024</td>\n",
       "      <td>Arkansas State</td>\n",
       "      <td>Home</td>\n",
       "      <td>W</td>\n",
       "      <td>28</td>\n",
       "      <td>18</td>\n",
       "      <td>13</td>\n",
       "      <td>18</td>\n",
       "      <td>72.2</td>\n",
       "      <td>...</td>\n",
       "      <td>6</td>\n",
       "      <td>44</td>\n",
       "      <td>301</td>\n",
       "      <td>3</td>\n",
       "      <td>14</td>\n",
       "      <td>435</td>\n",
       "      <td>0</td>\n",
       "      <td>3</td>\n",
       "      <td>1</td>\n",
       "      <td>1</td>\n",
       "    </tr>\n",
       "    <tr>\n",
       "      <th>168</th>\n",
       "      <td>2024-09-21</td>\n",
       "      <td>2024</td>\n",
       "      <td>Southern California</td>\n",
       "      <td>Home</td>\n",
       "      <td>W</td>\n",
       "      <td>27</td>\n",
       "      <td>24</td>\n",
       "      <td>7</td>\n",
       "      <td>12</td>\n",
       "      <td>58.3</td>\n",
       "      <td>...</td>\n",
       "      <td>0</td>\n",
       "      <td>46</td>\n",
       "      <td>290</td>\n",
       "      <td>3</td>\n",
       "      <td>12</td>\n",
       "      <td>322</td>\n",
       "      <td>2</td>\n",
       "      <td>0</td>\n",
       "      <td>1</td>\n",
       "      <td>1</td>\n",
       "    </tr>\n",
       "    <tr>\n",
       "      <th>169</th>\n",
       "      <td>2024-09-28</td>\n",
       "      <td>2024</td>\n",
       "      <td>Minnesota</td>\n",
       "      <td>Home</td>\n",
       "      <td>W</td>\n",
       "      <td>27</td>\n",
       "      <td>24</td>\n",
       "      <td>10</td>\n",
       "      <td>18</td>\n",
       "      <td>55.6</td>\n",
       "      <td>...</td>\n",
       "      <td>5</td>\n",
       "      <td>43</td>\n",
       "      <td>155</td>\n",
       "      <td>2</td>\n",
       "      <td>9</td>\n",
       "      <td>241</td>\n",
       "      <td>0</td>\n",
       "      <td>1</td>\n",
       "      <td>1</td>\n",
       "      <td>1</td>\n",
       "    </tr>\n",
       "    <tr>\n",
       "      <th>170</th>\n",
       "      <td>2024-10-05</td>\n",
       "      <td>2024</td>\n",
       "      <td>Washington</td>\n",
       "      <td>Away</td>\n",
       "      <td>L</td>\n",
       "      <td>17</td>\n",
       "      <td>27</td>\n",
       "      <td>13</td>\n",
       "      <td>25</td>\n",
       "      <td>52.0</td>\n",
       "      <td>...</td>\n",
       "      <td>7</td>\n",
       "      <td>37</td>\n",
       "      <td>174</td>\n",
       "      <td>1</td>\n",
       "      <td>9</td>\n",
       "      <td>287</td>\n",
       "      <td>1</td>\n",
       "      <td>1</td>\n",
       "      <td>0</td>\n",
       "      <td>0</td>\n",
       "    </tr>\n",
       "    <tr>\n",
       "      <th>171</th>\n",
       "      <td>2024-10-19</td>\n",
       "      <td>2024</td>\n",
       "      <td>Illinois</td>\n",
       "      <td>Away</td>\n",
       "      <td>L</td>\n",
       "      <td>7</td>\n",
       "      <td>21</td>\n",
       "      <td>20</td>\n",
       "      <td>32</td>\n",
       "      <td>62.5</td>\n",
       "      <td>...</td>\n",
       "      <td>8</td>\n",
       "      <td>38</td>\n",
       "      <td>114</td>\n",
       "      <td>1</td>\n",
       "      <td>10</td>\n",
       "      <td>322</td>\n",
       "      <td>2</td>\n",
       "      <td>1</td>\n",
       "      <td>0</td>\n",
       "      <td>0</td>\n",
       "    </tr>\n",
       "    <tr>\n",
       "      <th>172</th>\n",
       "      <td>2024-10-26</td>\n",
       "      <td>2024</td>\n",
       "      <td>Michigan State</td>\n",
       "      <td>Home</td>\n",
       "      <td>W</td>\n",
       "      <td>24</td>\n",
       "      <td>17</td>\n",
       "      <td>14</td>\n",
       "      <td>20</td>\n",
       "      <td>70.0</td>\n",
       "      <td>...</td>\n",
       "      <td>9</td>\n",
       "      <td>31</td>\n",
       "      <td>119</td>\n",
       "      <td>1</td>\n",
       "      <td>7</td>\n",
       "      <td>265</td>\n",
       "      <td>0</td>\n",
       "      <td>0</td>\n",
       "      <td>1</td>\n",
       "      <td>1</td>\n",
       "    </tr>\n",
       "    <tr>\n",
       "      <th>173</th>\n",
       "      <td>2024-11-02</td>\n",
       "      <td>2024</td>\n",
       "      <td>Oregon</td>\n",
       "      <td>Home</td>\n",
       "      <td>L</td>\n",
       "      <td>17</td>\n",
       "      <td>38</td>\n",
       "      <td>13</td>\n",
       "      <td>25</td>\n",
       "      <td>52.0</td>\n",
       "      <td>...</td>\n",
       "      <td>7</td>\n",
       "      <td>28</td>\n",
       "      <td>105</td>\n",
       "      <td>0</td>\n",
       "      <td>4</td>\n",
       "      <td>270</td>\n",
       "      <td>0</td>\n",
       "      <td>0</td>\n",
       "      <td>0</td>\n",
       "      <td>1</td>\n",
       "    </tr>\n",
       "    <tr>\n",
       "      <th>174</th>\n",
       "      <td>2024-11-09</td>\n",
       "      <td>2024</td>\n",
       "      <td>Indiana</td>\n",
       "      <td>Away</td>\n",
       "      <td>L</td>\n",
       "      <td>15</td>\n",
       "      <td>20</td>\n",
       "      <td>16</td>\n",
       "      <td>32</td>\n",
       "      <td>50.0</td>\n",
       "      <td>...</td>\n",
       "      <td>7</td>\n",
       "      <td>34</td>\n",
       "      <td>69</td>\n",
       "      <td>1</td>\n",
       "      <td>6</td>\n",
       "      <td>206</td>\n",
       "      <td>1</td>\n",
       "      <td>0</td>\n",
       "      <td>0</td>\n",
       "      <td>0</td>\n",
       "    </tr>\n",
       "  </tbody>\n",
       "</table>\n",
       "<p>10 rows × 22 columns</p>\n",
       "</div>"
      ],
      "text/plain": [
       "           date  year             opponent location result  pts_scored  \\\n",
       "165  2024-08-31  2024         Fresno State     Home      W          30   \n",
       "166  2024-09-07  2024                Texas     Home      L          12   \n",
       "167  2024-09-14  2024       Arkansas State     Home      W          28   \n",
       "168  2024-09-21  2024  Southern California     Home      W          27   \n",
       "169  2024-09-28  2024            Minnesota     Home      W          27   \n",
       "170  2024-10-05  2024           Washington     Away      L          17   \n",
       "171  2024-10-19  2024             Illinois     Away      L           7   \n",
       "172  2024-10-26  2024       Michigan State     Home      W          24   \n",
       "173  2024-11-02  2024               Oregon     Home      L          17   \n",
       "174  2024-11-09  2024              Indiana     Away      L          15   \n",
       "\n",
       "     pts_against  pass_cmp  pass_att  pass_pct  ...  pass_first_downs  \\\n",
       "165           10        16        27      59.3  ...                 9   \n",
       "166           31        22        33      66.7  ...                 9   \n",
       "167           18        13        18      72.2  ...                 6   \n",
       "168           24         7        12      58.3  ...                 0   \n",
       "169           24        10        18      55.6  ...                 5   \n",
       "170           27        13        25      52.0  ...                 7   \n",
       "171           21        20        32      62.5  ...                 8   \n",
       "172           17        14        20      70.0  ...                 9   \n",
       "173           38        13        25      52.0  ...                 7   \n",
       "174           20        16        32      50.0  ...                 7   \n",
       "\n",
       "     rush_att  rush_yrds  rush_tds  rush_first_downs  total_offense  fumbles  \\\n",
       "165        34        148         0                 8            269        0   \n",
       "166        23         80         0                 4            284        1   \n",
       "167        44        301         3                14            435        0   \n",
       "168        46        290         3                12            322        2   \n",
       "169        43        155         2                 9            241        0   \n",
       "170        37        174         1                 9            287        1   \n",
       "171        38        114         1                10            322        2   \n",
       "172        31        119         1                 7            265        0   \n",
       "173        28        105         0                 4            270        0   \n",
       "174        34         69         1                 6            206        1   \n",
       "\n",
       "     ints  win  home  \n",
       "165     1    1     1  \n",
       "166     2    0     1  \n",
       "167     3    1     1  \n",
       "168     0    1     1  \n",
       "169     1    1     1  \n",
       "170     1    0     0  \n",
       "171     1    0     0  \n",
       "172     0    1     1  \n",
       "173     0    0     1  \n",
       "174     0    0     0  \n",
       "\n",
       "[10 rows x 22 columns]"
      ]
     },
     "execution_count": 9,
     "metadata": {},
     "output_type": "execute_result"
    }
   ],
   "source": [
    "# Separating 2024 games\n",
    "df_2024 = df[df['year'] == 2024].copy()\n",
    "df_rest = df[df['year'] != 2024].copy()\n",
    "\n",
    "df_2024"
   ]
  },
  {
   "cell_type": "code",
   "execution_count": 11,
   "id": "9cf09447-1b23-48ab-97b9-3674e9badc21",
   "metadata": {},
   "outputs": [],
   "source": [
    "# Extract features to be used\n",
    "X_train = df_rest[['home', 'pass_cmp', 'pass_att', 'pass_pct', 'pass_yrds', 'pass_tds', 'pass_first_downs', 'rush_att', 'rush_yrds', 'rush_tds', 'rush_first_downs', 'fumbles', 'ints']]\n",
    "y_train = df_rest['win']\n",
    "\n",
    "X_test = df_2024[['home', 'pass_cmp', 'pass_att', 'pass_pct', 'pass_yrds', 'pass_tds', 'pass_first_downs', 'rush_att', 'rush_yrds', 'rush_tds', 'rush_first_downs', 'fumbles', 'ints']]\n",
    "y_test = df_2024['win']"
   ]
  },
  {
   "cell_type": "markdown",
   "id": "904cbd41-e59c-4b39-991e-4dc7bf961b95",
   "metadata": {},
   "source": [
    "## Classification Methods"
   ]
  },
  {
   "cell_type": "markdown",
   "id": "52c95f14-3b23-4a7e-b9b6-9fdd7a96a011",
   "metadata": {},
   "source": [
    "Some common classification algorithms include:\n",
    "* Support Vector Machines\n",
    "* K-Nearest Neighbors\n",
    "* Random Forests\n"
   ]
  },
  {
   "cell_type": "markdown",
   "id": "82468ebe-61ba-49eb-9988-7a766fb4d87f",
   "metadata": {},
   "source": [
    "### Method 1: Support Vector Machines"
   ]
  },
  {
   "attachments": {
    "f7956cb9-5ab4-4bd9-a0e2-a05540bb3a76.png": {
     "image/png": "[encoded data removed]"
    }
   },
   "cell_type": "markdown",
   "id": "a8ac38e6-0d12-4caf-b291-3e0e81c9e17b",
   "metadata": {},
   "source": [
    "We can use support vector machines to find the optimal decision boundary in an N-dimensional feature space that separates data points into different classes by label. This boundary is \"hard\" if it cleanly separates all datapoints (implausible in practice), and \"soft\" otherwise. Scikit-learn provides an implementation of Support Vector Machines in the [`svm`](https://scikit-learn.org/stable/modules/generated/sklearn.svm.SVC.html#sklearn.svm.SVC) module.\n",
    "\n",
    "![image.png](attachment:f7956cb9-5ab4-4bd9-a0e2-a05540bb3a76.png)\n",
    "\n",
    "\n",
    "With SVMs, we can adjust the kernel as part of the model selection process, along with the softness of the boundary margin, which is set by the `C` parameter. Lower values of C have a greater tolerance for misclassifcations, but this can lead to underfitting by a biased model.\n",
    "\n",
    "By using a non-linear kernel, we can transform and linearly separate our original data in a higher-dimensional space if necessary. Options include a linear kernel, polynomial kernel, and RBF (Gaussian) kernel, which is the default.\n",
    "\n",
    "* Linear: $K(w,b) = w^Tx+b$\n",
    "* Polynomial: $K(w,x) = (\\gamma w^Tx+b)^N$\n",
    "* Gaussian / RBF: $K(w,x) = \\text{exp}(-\\gamma ||x_i-x_j||)^n$"
   ]
  },
  {
   "cell_type": "code",
   "execution_count": 13,
   "id": "3cdc4702-5e66-4f52-9d19-bb8c8caa87c4",
   "metadata": {},
   "outputs": [
    {
     "data": {
      "text/plain": [
       "0.8303030303030303"
      ]
     },
     "execution_count": 13,
     "metadata": {},
     "output_type": "execute_result"
    }
   ],
   "source": [
    "cubic_svm = svm.SVC(kernel='poly', degree=3)  # degree is 3.0 by default for polynomial kernel\n",
    "cubic_svm.fit(X_train, y_train)\n",
    "\n",
    "scores = cross_val_score(cubic_svm, X_train, y_train, cv=LeaveOneOut())\n",
    "scores.mean()"
   ]
  },
  {
   "cell_type": "code",
   "execution_count": 15,
   "id": "c5bfdb7d-2559-4f5f-8b42-bbb070834324",
   "metadata": {},
   "outputs": [
    {
     "data": {
      "text/plain": [
       "0.8484848484848485"
      ]
     },
     "execution_count": 15,
     "metadata": {},
     "output_type": "execute_result"
    }
   ],
   "source": [
    "quadratic_svm = svm.SVC(kernel='poly', degree=2)\n",
    "quadratic_svm.fit(X_train, y_train)\n",
    "\n",
    "scores = cross_val_score(quadratic_svm, X_train, y_train, cv=LeaveOneOut())\n",
    "scores.mean()"
   ]
  },
  {
   "cell_type": "code",
   "execution_count": 16,
   "id": "a5cc5241-0966-4e4d-a9e2-4171b2b36dc3",
   "metadata": {},
   "outputs": [
    {
     "data": {
      "text/plain": [
       "0.8606060606060606"
      ]
     },
     "execution_count": 16,
     "metadata": {},
     "output_type": "execute_result"
    }
   ],
   "source": [
    "gaussian_svm = svm.SVC(kernel='rbf', C=1.0)  # C is 1.0 by default\n",
    "gaussian_svm.fit(X_train, y_train)\n",
    "\n",
    "scores = cross_val_score(gaussian_svm, X_train, y_train, cv=LeaveOneOut())\n",
    "scores.mean()"
   ]
  },
  {
   "cell_type": "markdown",
   "id": "da080605-ef00-44c1-b9f5-85a9d4d9c2ec",
   "metadata": {},
   "source": [
    "### Method 2: K-Nearest Neighbors"
   ]
  },
  {
   "attachments": {
    "b2ae1c0d-a2dc-4188-a07b-328fb6fcc8fa.png": {
     "image/png": "[encoded data removed]"
    }
   },
   "cell_type": "markdown",
   "id": "b0187833-0fd9-451a-95ba-f17977f106db",
   "metadata": {},
   "source": [
    "The K-Nearest Neighbors algorithm works by finding the K nearest neighbors to a given data point based on a certain distance metric. The label of the target data point is then determined by the most frequent label among the point's K neighbors. Because data tends to be sparser is higher dimensions, it works best with datasets that have a limited number of features. Scikit-learn provides an implementation of K-Nearest Neighbors for classification in the `neighbors` module.\n",
    "\n",
    "![image.png](attachment:b2ae1c0d-a2dc-4188-a07b-328fb6fcc8fa.png)\n",
    "\n",
    "With this method, we can adjust both the distance metric and the number of neighbors, and use cross-validation to select the optimal model. In this example, we will focus on selecting K, and all classifiers will use the default 'minkowski' distance. Other valid distance metrics can be found [here](https://scikit-learn.org/stable/modules/generated/sklearn.metrics.pairwise.distance_metrics.html#sklearn.metrics.pairwise.distance_metrics)."
   ]
  },
  {
   "cell_type": "code",
   "execution_count": 19,
   "id": "b9599eb0-d7b8-4a6b-ac79-2da23af5b2d3",
   "metadata": {},
   "outputs": [
    {
     "name": "stdout",
     "output_type": "stream",
     "text": [
      "average CV score is 0.7697 for K = 1\n",
      "average CV score is 0.8545 for K = 3\n",
      "average CV score is 0.8667 for K = 5\n",
      "average CV score is 0.8667 for K = 7\n",
      "average CV score is 0.8667 for K = 9\n",
      "average CV score is 0.8485 for K = 11\n"
     ]
    }
   ],
   "source": [
    "# Investigating K for values of 1,3,5,7,9,11\n",
    "for i in np.arange(1,12,2):\n",
    "    clf = neighbors.KNeighborsClassifier(n_neighbors=i)\n",
    "    clf.fit(X_train, y_train)\n",
    "    scores = cross_val_score(clf, X_train, y_train, cv=LeaveOneOut())\n",
    "    print(f'average CV score is {scores.mean():.4f} for K = {i}')"
   ]
  },
  {
   "cell_type": "markdown",
   "id": "81d3c5b6-5571-4816-8094-ba58d8841a99",
   "metadata": {},
   "source": [
    "### Method 3: Random Forest"
   ]
  },
  {
   "attachments": {
    "86a2725e-1e29-4873-a5c4-83c15e5de725.png": {
     "image/png": "[encoded data removed]"
    }
   },
   "cell_type": "markdown",
   "id": "3c7841d9-42bf-4f55-ac7f-c238f5b6df96",
   "metadata": {},
   "source": [
    "The random forest is an example of a robust *ensemble method*, which aggregates the results of a group of simpler estimators. For a random forest, each classifier is a \"decision tree\", which splits data into subsets based quantitative criteria (one at each layer). Labels for new data can then be assigned just by going down the tree until the final layer containing a label is reached. A decision tree is extremely easy to interpret, but is ineffective by itself for classification, as it will overfit our data if we have a unique path for each point.   \n",
    "\n",
    "![image.png](attachment:86a2725e-1e29-4873-a5c4-83c15e5de725.png)\n",
    "\n",
    "With a random forest, we fit multiple decision trees, each to a random subset of our data (and, if we choose, a subset of features). We then average the results, where the assigned label for a new data point is determined by majority vote among the decision trees. Scikit-learn provides a Random Forest implementation in the [`ensemble`](https://scikit-learn.org/stable/api/sklearn.ensemble.html#module-sklearn.ensemble) module, where we can specify the number of trees in our forest and the structure of each tree.\n",
    "\n",
    "Some hyperparameters we can adjust are:\n",
    "* Maximum depth of the tree ('max_depth')\n",
    "* Minimum number of samples required to split an internal node ('min_samples_split')\n",
    "    * Defaults to 2\n",
    "* Maximum number of features to consider when looking for the best split ('max_features')\n",
    "    * Defaults to square root of number of features \n",
    "* Maximum number of leaf nodes a tree can have at lowest level ('max_leaf_nodes')"
   ]
  },
  {
   "cell_type": "code",
   "execution_count": 21,
   "id": "23fd6752-da23-402f-b20c-124d69a25778",
   "metadata": {},
   "outputs": [
    {
     "data": {
      "text/plain": [
       "0.8606060606060607"
      ]
     },
     "execution_count": 21,
     "metadata": {},
     "output_type": "execute_result"
    }
   ],
   "source": [
    "rfc = ensemble.RandomForestClassifier(n_estimators=200)  # default is 100\n",
    "rfc.fit(X_train, y_train)\n",
    "scores = cross_val_score(rfc, X_train, y_train, cv=5)  # 5-fold cv for speed\n",
    "scores.mean()"
   ]
  },
  {
   "cell_type": "code",
   "execution_count": 23,
   "id": "9cc2aa07-fd80-460d-8ba9-ca111829f488",
   "metadata": {},
   "outputs": [
    {
     "name": "stdout",
     "output_type": "stream",
     "text": [
      "         Feature  Importance\n",
      "       rush_yrds    0.254013\n",
      "        pass_att    0.121020\n",
      "        pass_pct    0.103957\n",
      "        rush_tds    0.086020\n",
      "        rush_att    0.080439\n",
      "rush_first_downs    0.073816\n",
      "            ints    0.065898\n",
      "       pass_yrds    0.051812\n",
      "        pass_cmp    0.050617\n",
      "        pass_tds    0.039871\n",
      "pass_first_downs    0.034123\n",
      "         fumbles    0.019767\n",
      "            home    0.018649\n"
     ]
    }
   ],
   "source": [
    "# Which features were the most important for classification using the (default) Random Forest?\n",
    "\n",
    "feature_importance_df = pd.DataFrame({\n",
    "    'Feature': X_train.columns,\n",
    "    'Importance': rfc.feature_importances_\n",
    "}).sort_values(by='Importance', ascending=False)\n",
    "\n",
    "print(feature_importance_df.to_string(index=False))"
   ]
  },
  {
   "cell_type": "markdown",
   "id": "74c2bb92-e496-49e0-a477-7d14da89d930",
   "metadata": {},
   "source": [
    "## Model Evaluation and Metrics"
   ]
  },
  {
   "cell_type": "code",
   "execution_count": 25,
   "id": "01eb3ea7-38ca-4f28-a10e-34e762191c7e",
   "metadata": {},
   "outputs": [],
   "source": [
    "# Proceeding with the gaussian_svm, which had one of the highest CV scores overall\n",
    "y_model = gaussian_svm.predict(X_test)"
   ]
  },
  {
   "cell_type": "markdown",
   "id": "7e1e2c1f-6d4d-4e17-b9bb-f2dce0a3078b",
   "metadata": {},
   "source": [
    "Below, we plot a **confusion matrix** to more clearly identify our selected model's performance on our test data. For binary classification, we have a 2x2 confusion matrix.\n",
    "\n",
    "* True Positives:\n",
    "    * Correctly predict positive label (1) for actual positive result (1)\n",
    "    * Upper-left quadrant\n",
    "* False Negatives:\n",
    "    * Incorrectly predict negative label (0) for actual positive result (1)\n",
    "    * Upper-right quadrant\n",
    "* False Positives:\n",
    "    * Incorrectly predict positive label (1) for actual negative result (0)\n",
    "    * Lower-left quadrant\n",
    "* True Negatives:\n",
    "    * Correctly predict negative label (0) for actual negative result (0)\n",
    "    * Lower-right quadrant"
   ]
  },
  {
   "cell_type": "code",
   "execution_count": 27,
   "id": "dc026d2d-8d8b-4115-99b2-9d87bf3f9ee1",
   "metadata": {},
   "outputs": [
    {
     "data": {
      "text/plain": [
       "Text(0, 0.5, 'true value')"
      ]
     },
     "execution_count": 27,
     "metadata": {},
     "output_type": "execute_result"
    },
    {
     "data": {
      "image/png": "[encoded data removed]",
      "text/plain": [
       "<Figure size 640x480 with 2 Axes>"
      ]
     },
     "metadata": {},
     "output_type": "display_data"
    }
   ],
   "source": [
    "cm = metrics.confusion_matrix(y_test, y_model)\n",
    "disp = metrics.ConfusionMatrixDisplay(cm)\n",
    "disp.plot(cmap=plt.cm.Blues)\n",
    "plt.gca().invert_xaxis()\n",
    "plt.gca().invert_yaxis()\n",
    "plt.xlabel('predicted value')\n",
    "plt.ylabel('true value')"
   ]
  },
  {
   "cell_type": "markdown",
   "id": "b23380dc-2a13-4a76-b3d5-1ddd7f2e97a4",
   "metadata": {},
   "source": [
    "For our SVM with the RBF kernel, we had a single false positive. All other labels were predicted correctly. Comparing our predicted and true labels, we identify the false positive as the game against Washington in the 2024 regular season."
   ]
  },
  {
   "cell_type": "code",
   "execution_count": 29,
   "id": "953e0d3c-db63-4738-bdab-f21f8dc60375",
   "metadata": {},
   "outputs": [
    {
     "data": {
      "text/plain": [
       "date                2024-10-05\n",
       "year                      2024\n",
       "opponent            Washington\n",
       "location                  Away\n",
       "result                       L\n",
       "pts_scored                  17\n",
       "pts_against                 27\n",
       "pass_cmp                    13\n",
       "pass_att                    25\n",
       "pass_pct                  52.0\n",
       "pass_yrds                  113\n",
       "pass_tds                     1\n",
       "pass_first_downs             7\n",
       "rush_att                    37\n",
       "rush_yrds                  174\n",
       "rush_tds                     1\n",
       "rush_first_downs             9\n",
       "total_offense              287\n",
       "fumbles                      1\n",
       "ints                         1\n",
       "win                          0\n",
       "home                         0\n",
       "Name: 170, dtype: object"
      ]
     },
     "execution_count": 29,
     "metadata": {},
     "output_type": "execute_result"
    }
   ],
   "source": [
    "differing_indices = y_test[y_test != y_model].index\n",
    "df.iloc[differing_indices[0]]"
   ]
  },
  {
   "cell_type": "markdown",
   "id": "567f41d2-c4ff-4e17-bd01-641c0f2d0e0f",
   "metadata": {},
   "source": [
    "Common metrics we can use to summarize the confusion matrix data include the following. Most are available as functions within the `sklearn.metrics` [module](https://scikit-learn.org/stable/api/sklearn.metrics.html). \n",
    "* **Accuracy**: $\\frac{TP+TN}{TP+FP+TN+FN}$\n",
    "   * Fraction of true predictions\n",
    "* **Precision**:$\\frac{TP}{TP+FP}$\n",
    "    * Measures correctness of positive predictions\n",
    "    * Use when we want to minimize false positives\n",
    "* **Recall**: $\\frac{TP}{TP+FN}$\n",
    "    * Measures completeness of positive predictions\n",
    "    * Use when we want to minimize false negatives\n",
    "* **F1-Score**: $\\frac{2*\\text{Precision}*\\text{Recall}}{\\text{Precision}+\\text{Recall}}$\n",
    "    * Balance between precision and recall\n",
    "    * Calculates the harmonic mean of those two metrics\n",
    "* **Specificity**: $\\frac{TN}{TN+FP}$\n",
    "    * Measures correctness of negative predictions"
   ]
  },
  {
   "cell_type": "code",
   "execution_count": 31,
   "id": "b735dca9-8872-4861-8c0a-7c8d9b0ba9bf",
   "metadata": {},
   "outputs": [
    {
     "data": {
      "text/plain": [
       "0.9090909090909091"
      ]
     },
     "execution_count": 31,
     "metadata": {},
     "output_type": "execute_result"
    }
   ],
   "source": [
    "# Example for F1-Score\n",
    "mod_f1_score = metrics.f1_score(y_true=y_test, y_pred=y_model)\n",
    "mod_f1_score"
   ]
  },
  {
   "cell_type": "code",
   "execution_count": 33,
   "id": "4d8a083d-05a7-4613-b2ba-5f49eeab4042",
   "metadata": {},
   "outputs": [
    {
     "data": {
      "text/plain": [
       "0.8"
      ]
     },
     "execution_count": 33,
     "metadata": {},
     "output_type": "execute_result"
    }
   ],
   "source": [
    "# Example to calculate specificity\n",
    "TP = cm[1,1]\n",
    "FP = cm[0,1]\n",
    "TN = cm[0,0]\n",
    "FN = cm[1,0]\n",
    "\n",
    "specificity = TN/(TN+FP)  # 4/5\n",
    "specificity"
   ]
  },
  {
   "cell_type": "code",
   "execution_count": null,
   "id": "8dd65672-3688-4654-8beb-112a36623521",
   "metadata": {},
   "outputs": [],
   "source": []
  }
 ],
 "metadata": {
  "kernelspec": {
   "display_name": "Python 3 (ipykernel)",
   "language": "python",
   "name": "python3"
  },
  "language_info": {
   "codemirror_mode": {
    "name": "ipython",
    "version": 3
   },
   "file_extension": ".py",
   "mimetype": "text/x-python",
   "name": "python",
   "nbconvert_exporter": "python",
   "pygments_lexer": "ipython3",
   "version": "3.11.11"
  }
 },
 "nbformat": 4,
 "nbformat_minor": 5
}
