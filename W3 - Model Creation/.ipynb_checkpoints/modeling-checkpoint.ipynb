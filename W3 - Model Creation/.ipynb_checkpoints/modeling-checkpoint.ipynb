{
 "cells": [
  {
   "cell_type": "markdown",
   "id": "97e62675-3807-4172-bda1-bacfe5fd9b95",
   "metadata": {},
   "source": [
    "### WEEK 3: MODELING\n",
    "\n",
    "Using your visualizations from last week, create a basic model!"
   ]
  },
  {
   "cell_type": "code",
   "execution_count": null,
   "id": "48d38411-ccef-4c28-801f-2b3f3e5c5d45",
   "metadata": {},
   "outputs": [],
   "source": [
    "# Run me!\n",
    "import pandas as pd\n",
    "import numpy as np\n",
    "from sklearn.model_selection import train_test_split\n",
    "from sklearn.linear_model import LinearRegression, Ridge, Lasso\n",
    "from sklearn.neighbors import KNeighborsClassifier\n",
    "\n",
    "# google colab users: uncomment below\n",
    "# from google.colab import files"
   ]
  },
  {
   "cell_type": "code",
   "execution_count": null,
   "id": "f044a621-d195-4d89-b75e-cceb440a6ea5",
   "metadata": {},
   "outputs": [],
   "source": [
    "# Google Colab users uncomment the line below:\n",
    "# uploaded = files.upload()"
   ]
  },
  {
   "cell_type": "code",
   "execution_count": null,
   "id": "6468f8ed-d5e3-42c5-ae4d-487bfa6119e8",
   "metadata": {},
   "outputs": [],
   "source": [
    "# Read in all the data (just copy and paste the line below) -- remember to use descriptive table names\n",
    "df = pd.read_csv('filename.csv')"
   ]
  },
  {
   "cell_type": "code",
   "execution_count": null,
   "id": "9b567ca2-0079-4a37-8f2a-edf85ae57c7d",
   "metadata": {},
   "outputs": [],
   "source": [
    "# For each table, print out the first couple rows:\n",
    "df.head()"
   ]
  },
  {
   "cell_type": "markdown",
   "id": "f3e08237-0093-4fac-b7d1-02358a93b145",
   "metadata": {},
   "source": [
    "What question do you want to use regression or classification for? Answer:"
   ]
  },
  {
   "cell_type": "markdown",
   "id": "4dcbaa36-66e2-4f00-b632-e1c75c242d04",
   "metadata": {},
   "source": [
    "What is your response variable? Answer:"
   ]
  },
  {
   "cell_type": "markdown",
   "id": "5e247e26-b9cb-4070-9dce-f52164ccf626",
   "metadata": {},
   "source": [
    "What variables do you want to use for prediction/classification? Think back to the visualizations you made last week for ideas of what correlates!\n",
    "\n",
    "Answer:"
   ]
  },
  {
   "cell_type": "code",
   "execution_count": null,
   "id": "d52b8304-72a9-46dc-8c7b-d3a96e852857",
   "metadata": {},
   "outputs": [],
   "source": [
    "X = df[]\n",
    "y = df[] # fill these in with the columns you need\n",
    "\n",
    "X_train, X_test, y_train, y_test = train_test_split(X, y, test_size=0.2)"
   ]
  },
  {
   "cell_type": "markdown",
   "id": "3e3b6ab9-d93d-46f4-8bf0-fef0e1c9eb7e",
   "metadata": {},
   "source": [
    "## Regression\n",
    "\n",
    "If you want to do classification, skip this part! If not, work through this little section."
   ]
  },
  {
   "cell_type": "code",
   "execution_count": null,
   "id": "dd479c55-c559-49e0-98e6-5147406069a6",
   "metadata": {},
   "outputs": [],
   "source": [
    "regr = LinearRegression()\n",
    "regr.fit(X_train, y_train)\n",
    "regr.score(X_test, y_test)\n",
    "# predictions = regr.predict(X_test)"
   ]
  },
  {
   "cell_type": "code",
   "execution_count": null,
   "id": "1ac24644-252c-483d-9b58-f19c99779f0e",
   "metadata": {},
   "outputs": [],
   "source": [
    "ridge_model = Ridge(alpha=1.0)\n",
    "ridge_model.fit(X_train, y_train)\n",
    "ridge_model.score(X_test, y_test)\n",
    "# predictions = ridge_model.predict(X_test)"
   ]
  },
  {
   "cell_type": "code",
   "execution_count": null,
   "id": "64ac43e4-a8b9-422c-a3ef-7aecd94264c9",
   "metadata": {},
   "outputs": [],
   "source": [
    "lasso_model = Lasso(alpha=0.1)\n",
    "lasso_model.fit(X_train, y_train)\n",
    "lasso_model.score(X_test, y_test)\n",
    "# predictions = lasso_model.predict(X_test)"
   ]
  },
  {
   "cell_type": "markdown",
   "id": "247fc5cf-bd9a-4f52-90a9-46134853d0c5",
   "metadata": {},
   "source": [
    "Which model did the best? What could you do to improve this model for better accuracy on test data?\n",
    "\n",
    "Answer:"
   ]
  },
  {
   "cell_type": "markdown",
   "id": "136d8503-682d-4a28-a747-94ed87f4ae77",
   "metadata": {},
   "source": [
    "## Classification"
   ]
  },
  {
   "cell_type": "code",
   "execution_count": null,
   "id": "f870df16-3d5e-4c8e-b43d-33d66e01bcad",
   "metadata": {},
   "outputs": [],
   "source": [
    "# test out different k values for the nearest-neighbor classifier\n",
    "for i in np.arange(1,12):\n",
    "    clf = KNeighborsClassifier(n_neighbors=i)\n",
    "    clf.fit(X_train, y_train)\n",
    "    scores = cross_val_score(clf, X_train, y_train, cv=LeaveOneOut())\n",
    "    print(f'average CV score is {scores.mean():.4f} for K = {i}')"
   ]
  },
  {
   "cell_type": "markdown",
   "id": "f6b05713-cf38-4d4a-8d37-aaab070bb256",
   "metadata": {},
   "source": [
    "What k value did best? How do you know?\n",
    "\n",
    "Answer:"
   ]
  },
  {
   "cell_type": "code",
   "execution_count": null,
   "id": "09ee658d-687e-40fd-93b4-76b069d9e038",
   "metadata": {},
   "outputs": [],
   "source": [
    "log = LogisticRegression(penalty='l2')\n",
    "log.fit(X_train, y_train)\n",
    "log.score(X_test, y_test)\n",
    "# predictions = log.predict(X_test)"
   ]
  },
  {
   "cell_type": "markdown",
   "id": "a1156d00-f5d3-4a51-b795-d194a3aa26ce",
   "metadata": {},
   "source": [
    "What classifier did better? What could you do to improve the model for better accuracy on test data?\n",
    "\n",
    "Answer:"
   ]
  }
 ],
 "metadata": {
  "kernelspec": {
   "display_name": "Python 3 (ipykernel)",
   "language": "python",
   "name": "python3"
  },
  "language_info": {
   "codemirror_mode": {
    "name": "ipython",
    "version": 3
   },
   "file_extension": ".py",
   "mimetype": "text/x-python",
   "name": "python",
   "nbconvert_exporter": "python",
   "pygments_lexer": "ipython3",
   "version": "3.11.11"
  }
 },
 "nbformat": 4,
 "nbformat_minor": 5
}
