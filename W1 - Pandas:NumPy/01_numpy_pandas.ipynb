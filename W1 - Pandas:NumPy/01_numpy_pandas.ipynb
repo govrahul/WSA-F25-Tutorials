{
 "cells": [
  {
   "cell_type": "markdown",
   "id": "1e82dbc4",
   "metadata": {},
   "source": [
    "### Imports\n",
    "- If not already installed, don't forget to run `pip install numpy` and `pip install pandas` in your terminal first!  \n",
    "- If that doesn't work, try `conda install numpy` and `conda install pandas` instead."
   ]
  },
  {
   "cell_type": "code",
   "execution_count": null,
   "id": "7adfcb49",
   "metadata": {
    "vscode": {
     "languageId": "plaintext"
    }
   },
   "outputs": [],
   "source": [
    "# run this!\n",
    "import pandas as pd\n",
    "import numpy as np"
   ]
  },
  {
   "cell_type": "markdown",
   "id": "98e5af61",
   "metadata": {},
   "source": [
    "### Creating Numpy Arrays"
   ]
  },
  {
   "cell_type": "markdown",
   "id": "8ae2f5ac",
   "metadata": {},
   "source": [
    "* NumPy arrays can be 1-dimensional, 2-dimensional (like a matrix), and so forth.   \n",
    "* Each dimension is called an axis, and the `shape` property describes the array's size along each axis.  \n",
    "* `a` only has 1 axis, and `b` and `c` have 2 axes."
   ]
  },
  {
   "cell_type": "code",
   "execution_count": null,
   "id": "c751e951",
   "metadata": {},
   "outputs": [
    {
     "name": "stdout",
     "output_type": "stream",
     "text": [
      "[1 2 3 4 5 6]\n"
     ]
    }
   ],
   "source": [
    "# Creating NumPy array from python list using np.array() function\n",
    "a = np.array([1, 2, 3, 4, 5, 6])\n",
    "print(a)"
   ]
  },
  {
   "cell_type": "code",
   "execution_count": null,
   "id": "82cfea58",
   "metadata": {},
   "outputs": [
    {
     "name": "stdout",
     "output_type": "stream",
     "text": [
      "[[1.1 2.2 3.3]\n",
      " [4.4 5.5 6.6]]\n"
     ]
    }
   ],
   "source": [
    "# These can be multiple dimensions -- just use nested lists!\n",
    "b = np.array([[1.1, 2.2, 3.3], [4.4, 5.5, 6.6]])  # 2x3 array\n",
    "print(b)"
   ]
  },
  {
   "cell_type": "code",
   "execution_count": null,
   "id": "90537cee",
   "metadata": {},
   "outputs": [
    {
     "name": "stdout",
     "output_type": "stream",
     "text": [
      "[[1.1 2.2]\n",
      " [3.3 4.4]\n",
      " [5.5 6.6]]\n"
     ]
    }
   ],
   "source": [
    "c = np.array([[1.1, 2.2], [3.3, 4.4], [5.5, 6.6]])  # 3x2 array\n",
    "print(c)"
   ]
  },
  {
   "cell_type": "code",
   "execution_count": null,
   "id": "cef093b3",
   "metadata": {},
   "outputs": [
    {
     "name": "stdout",
     "output_type": "stream",
     "text": [
      "[(6,), (2, 3), (3, 2)]\n",
      "[dtype('int32'), dtype('float64'), dtype('float64')]\n"
     ]
    }
   ],
   "source": [
    "print([a.shape, b.shape, c.shape])\n",
    "print([a.dtype, b.dtype, c.dtype])"
   ]
  }
 ],
 "metadata": {
  "language_info": {
   "name": "python"
  }
 },
 "nbformat": 4,
 "nbformat_minor": 5
}
