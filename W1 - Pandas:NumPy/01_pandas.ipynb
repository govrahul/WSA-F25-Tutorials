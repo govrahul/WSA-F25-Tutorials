{
 "cells": [
  {
   "cell_type": "markdown",
   "id": "0b8cb88f",
   "metadata": {},
   "source": [
    "# WSA Pandas Demo"
   ]
  },
  {
   "cell_type": "markdown",
   "id": "eac2e255",
   "metadata": {},
   "source": [
    "### Imports\n",
    "* The `pandas` library should already be installed as part of the Anaconda distribution\n",
    "* Typically abbreviated as `pd`"
   ]
  },
  {
   "cell_type": "code",
   "execution_count": null,
   "id": "83577d0b",
   "metadata": {},
   "outputs": [],
   "source": [
    "import pandas as pd"
   ]
  },
  {
   "cell_type": "markdown",
   "id": "dd5935e8",
   "metadata": {},
   "source": [
    "### Reading in a DataFrame\n",
    "* We will start by creating a dataframe called `df` containing the Michigan Football GameLog data we have stored in our SQL database.\n",
    "* This data will be exported and read into Jupyter notebook as a `.csv` file.\n",
    "* Make sure your `.csv` file is stored in the same folder as this notebook."
   ]
  },
  {
   "cell_type": "code",
   "execution_count": null,
   "id": "cafc0d04",
   "metadata": {},
   "outputs": [],
   "source": [
    "# .read_csv()\n",
    "# drop unneeded id column with .drop()"
   ]
  },
  {
   "cell_type": "code",
   "execution_count": null,
   "id": "90fe020b",
   "metadata": {},
   "outputs": [],
   "source": [
    "# .head() shows first 5 rows\n"
   ]
  },
  {
   "cell_type": "code",
   "execution_count": null,
   "id": "0c886859-08d0-4288-a746-32bbaa544fb4",
   "metadata": {},
   "outputs": [],
   "source": [
    "# .tail() shows last 5 rows\n"
   ]
  },
  {
   "cell_type": "code",
   "execution_count": null,
   "id": "1262e69f-e36f-404b-bdbd-be863aaab336",
   "metadata": {},
   "outputs": [],
   "source": [
    "# .head(2) shows first 2 rows"
   ]
  },
  {
   "cell_type": "markdown",
   "id": "315ba7e9",
   "metadata": {},
   "source": [
    "### Data Preprocessing"
   ]
  },
  {
   "cell_type": "code",
   "execution_count": null,
   "id": "38bbad30",
   "metadata": {},
   "outputs": [],
   "source": [
    "# .info() provides essential details for your dataset"
   ]
  },
  {
   "cell_type": "code",
   "execution_count": null,
   "id": "d67214e0",
   "metadata": {},
   "outputs": [],
   "source": [
    "# .shape shows dimensions of df (num_rows, num_cols)"
   ]
  },
  {
   "cell_type": "markdown",
   "id": "f6ae440b-886e-4733-8ddb-8a5295eb0180",
   "metadata": {},
   "source": [
    "#### Null and Duplicate Values"
   ]
  },
  {
   "cell_type": "code",
   "execution_count": null,
   "id": "c218a516",
   "metadata": {},
   "outputs": [],
   "source": [
    "# We can append dataframes to each other using pd.concat()\n",
    "# It is good practice to never change or update the original df directly\n",
    "# Always create copies!"
   ]
  },
  {
   "cell_type": "code",
   "execution_count": null,
   "id": "30c02339",
   "metadata": {},
   "outputs": [],
   "source": [
    "# We can also remove duplicate values with .drop_duplicates()"
   ]
  },
  {
   "cell_type": "code",
   "execution_count": null,
   "id": "8bce6a8a",
   "metadata": {},
   "outputs": [],
   "source": [
    "# .isnull() checks for NULL or empty datapoints \n",
    "# returns True for any values that are NULL\n"
   ]
  },
  {
   "cell_type": "code",
   "execution_count": null,
   "id": "8ab9f690",
   "metadata": {},
   "outputs": [],
   "source": [
    "# .sum() gets a summary of the above df\n"
   ]
  },
  {
   "cell_type": "code",
   "execution_count": null,
   "id": "5f114141-6fce-4bd1-86fe-ee7747f6729d",
   "metadata": {},
   "outputs": [],
   "source": [
    "# If we did have null values, we could use the .dropna() function to remove all rows with null values\n"
   ]
  },
  {
   "cell_type": "markdown",
   "id": "1ef321be",
   "metadata": {},
   "source": [
    "#### Modifying DataFrame Columns"
   ]
  },
  {
   "cell_type": "code",
   "execution_count": null,
   "id": "0b441f79",
   "metadata": {},
   "outputs": [],
   "source": [
    "# check column information with .columns\n"
   ]
  },
  {
   "cell_type": "code",
   "execution_count": null,
   "id": "4f038e23",
   "metadata": {},
   "outputs": [],
   "source": [
    "# .rename() allows us to rename our columns\n",
    "df.rename(columns = {\n",
    "    'home_away' : 'location',\n",
    "    'points_scored' : 'pts_scored',\n",
    "    'points_against' : 'pts_against',\n",
    "    'pass_td' : 'pass_tds',\n",
    "    'pass_1st_down' : 'pass_first_downs',\n",
    "    'rush_td' : 'rush_tds',\n",
    "    'rush_1st_down' : 'rush_first_downs'\n",
    "}, inplace = True)\n"
   ]
  },
  {
   "cell_type": "code",
   "execution_count": null,
   "id": "1a0ee09c-ba80-4a4b-819e-a5d51d1b1175",
   "metadata": {},
   "outputs": [],
   "source": [
    "# Even though the values of year are numeric, we are treating it as a categorical variable\n",
    "# We can change year to an object type using .astype()\n",
    "df.year = df.year.astype('object') \n",
    "df.info()"
   ]
  },
  {
   "cell_type": "markdown",
   "id": "c3224d23",
   "metadata": {},
   "source": [
    "### Indexing into our DataFrame"
   ]
  },
  {
   "cell_type": "markdown",
   "id": "547853c3-a399-45a8-af8e-031a65f924e5",
   "metadata": {},
   "source": [
    "To access a column, we can use bracket notation."
   ]
  },
  {
   "cell_type": "code",
   "execution_count": null,
   "id": "77a405f2",
   "metadata": {},
   "outputs": [],
   "source": [
    "# .describe() gets us a numerical summary of each column that uses numbers\n",
    "# .round() formats the output\n"
   ]
  },
  {
   "cell_type": "code",
   "execution_count": null,
   "id": "6cc110d6",
   "metadata": {},
   "outputs": [],
   "source": [
    "df['pts_scored'].describe()"
   ]
  },
  {
   "cell_type": "code",
   "execution_count": null,
   "id": "7862a501",
   "metadata": {},
   "outputs": [],
   "source": [
    "# This returns a series\n",
    "df['opponent']"
   ]
  },
  {
   "cell_type": "code",
   "execution_count": null,
   "id": "e372253e-51f5-4ce3-9629-8cf863c035ed",
   "metadata": {},
   "outputs": [],
   "source": [
    "# This returns a df\n",
    "df[['opponent']]"
   ]
  },
  {
   "cell_type": "code",
   "execution_count": null,
   "id": "2fa7da05-8242-44d9-a6fe-db47206eec2e",
   "metadata": {},
   "outputs": [],
   "source": [
    "# This returns a df with multiple columns\n",
    "df[['opponent', 'result']]"
   ]
  },
  {
   "cell_type": "code",
   "execution_count": null,
   "id": "8a52a34e",
   "metadata": {},
   "outputs": [],
   "source": [
    "# .value_counts() lets us count the number of times a specific value is in the column\n",
    "# using .head(n) to show the n most frequent opponents"
   ]
  },
  {
   "cell_type": "code",
   "execution_count": null,
   "id": "3567aea6",
   "metadata": {},
   "outputs": [],
   "source": [
    "# .corr(numeric_only=true) shows us the correlation between any combination of columns that have numbers\n",
    "# Values closer to 1 indicate a higher correlation between variables\n"
   ]
  },
  {
   "cell_type": "markdown",
   "id": "bffb511b",
   "metadata": {},
   "source": [
    "#### Accessing Rows of a DataFrame"
   ]
  },
  {
   "cell_type": "markdown",
   "id": "5be56e39-6715-456f-b510-b276cfa78c5a",
   "metadata": {},
   "source": [
    "There are two ways to access a row using indices:\n",
    "* `loc[]` requires label indexing \n",
    "* `iloc[]` uses integer indexing"
   ]
  },
  {
   "cell_type": "code",
   "execution_count": null,
   "id": "631ff09a",
   "metadata": {},
   "outputs": [],
   "source": [
    "# .set_index() to existing column\n",
    "alt_df = df.set_index('date')\n",
    "alt_df.head(5)"
   ]
  },
  {
   "cell_type": "code",
   "execution_count": null,
   "id": "10c56cce",
   "metadata": {},
   "outputs": [],
   "source": [
    "# Returns a Series\n",
    "row1_loc = alt_df.loc['2011-09-10']\n",
    "row1_loc"
   ]
  },
  {
   "cell_type": "code",
   "execution_count": null,
   "id": "1e12f66a-0f58-47c5-a338-4d5c6e90b79d",
   "metadata": {},
   "outputs": [],
   "source": [
    "row1_iloc = alt_df.iloc[1]\n",
    "row1_iloc"
   ]
  },
  {
   "cell_type": "code",
   "execution_count": null,
   "id": "76da848d",
   "metadata": {},
   "outputs": [],
   "source": [
    "# To access multiple rows, we can slice the df\n",
    "hoke_era = df.iloc[:51]\n",
    "hoke_era"
   ]
  },
  {
   "cell_type": "markdown",
   "id": "3d30d56c-6ed2-4b72-bd50-b708d49351c1",
   "metadata": {},
   "source": [
    "To access a specific value within a df, we access by row, and then by column."
   ]
  },
  {
   "cell_type": "code",
   "execution_count": null,
   "id": "e1d75e8b",
   "metadata": {},
   "outputs": [],
   "source": [
    "rush_yrds_natty = df.iloc[164]['rush_yrds']\n",
    "rush_yrds_natty"
   ]
  },
  {
   "cell_type": "code",
   "execution_count": null,
   "id": "76bbf591-3414-4787-8f06-95d9059db34e",
   "metadata": {},
   "outputs": [],
   "source": [
    "rush_off_corr = corr_df['rush_yrds']['total_offense']\n",
    "rush_off_corr"
   ]
  },
  {
   "cell_type": "markdown",
   "id": "365146c9",
   "metadata": {},
   "source": [
    "### Analyzing Data With `groupby()`"
   ]
  },
  {
   "cell_type": "code",
   "execution_count": null,
   "id": "95a52382",
   "metadata": {},
   "outputs": [],
   "source": [
    "# We can use the .groupby() function to form groups within our df based on a certain column\n"
   ]
  },
  {
   "cell_type": "code",
   "execution_count": null,
   "id": "ba12941a-a6dc-42b4-bf55-0fa26b5e583b",
   "metadata": {},
   "outputs": [],
   "source": [
    "# We can access each of the groups using the .get_group() function\n"
   ]
  },
  {
   "cell_type": "code",
   "execution_count": null,
   "id": "9329b80b",
   "metadata": {},
   "outputs": [],
   "source": [
    "# We can also use .groupby() paired with other functions to get some key calculations\n",
    "# Ex: mean of grouped W-L results\n",
    "results = df.groupby('result', sort=False)\n",
    "results.mean(numeric_only=True).round(4)"
   ]
  },
  {
   "cell_type": "code",
   "execution_count": null,
   "id": "8d9982c2-b736-4630-b976-afc88f90d4c0",
   "metadata": {},
   "outputs": [],
   "source": [
    "# Ex: .mean() with single column\n",
    "years.mean(numeric_only=True)['rush_tds']"
   ]
  },
  {
   "cell_type": "code",
   "execution_count": null,
   "id": "e7b10374",
   "metadata": {},
   "outputs": [],
   "source": [
    "# .sum()\n"
   ]
  },
  {
   "cell_type": "code",
   "execution_count": null,
   "id": "2393ea41",
   "metadata": {},
   "outputs": [],
   "source": [
    "# .max()\n"
   ]
  },
  {
   "cell_type": "code",
   "execution_count": null,
   "id": "ad1ef267-b312-4323-9301-5dca563a32e4",
   "metadata": {},
   "outputs": [],
   "source": [
    "# .min()\n"
   ]
  },
  {
   "cell_type": "code",
   "execution_count": null,
   "id": "6e3dc378-a471-4c76-8221-557173f1e3a0",
   "metadata": {},
   "outputs": [],
   "source": [
    "# .median()\n"
   ]
  }
 ],
 "metadata": {
  "kernelspec": {
   "display_name": "Python 3 (ipykernel)",
   "language": "python",
   "name": "python3"
  },
  "language_info": {
   "codemirror_mode": {
    "name": "ipython",
    "version": 3
   },
   "file_extension": ".py",
   "mimetype": "text/x-python",
   "name": "python",
   "nbconvert_exporter": "python",
   "pygments_lexer": "ipython3",
   "version": "3.12.4"
  }
 },
 "nbformat": 4,
 "nbformat_minor": 5
}
