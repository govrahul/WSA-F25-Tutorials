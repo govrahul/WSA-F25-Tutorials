{
 "cells": [
  {
   "cell_type": "markdown",
   "id": "4d41c122",
   "metadata": {},
   "source": [
    "# WSA Numpy Demo"
   ]
  },
  {
   "cell_type": "markdown",
   "id": "ecd10441",
   "metadata": {},
   "source": [
    "### Imports\n",
    "- If not already installed, don't forget to run `pip install numpy` in your terminal first!  \n",
    "- If that doesn't work, try `conda install numpy` instead."
   ]
  },
  {
   "cell_type": "code",
   "execution_count": 1,
   "id": "24f51b4d",
   "metadata": {},
   "outputs": [],
   "source": [
    "# Make sure to run this cell!\n",
    "import numpy as np"
   ]
  },
  {
   "cell_type": "markdown",
   "id": "de77143b",
   "metadata": {},
   "source": [
    "### Creating Numpy Arrays"
   ]
  },
  {
   "cell_type": "markdown",
   "id": "53910016-bf97-4c22-b50a-575f50a7367e",
   "metadata": {},
   "source": [
    "* NumPy arrays can be 1-dimensional, 2-dimensional (like a matrix), and so forth.   \n",
    "* Each dimension is called an axis, and the `shape` property describes the array's size along each axis.  \n",
    "* `a` only has 1 axis, and `b` and `c` have 2 axes."
   ]
  },
  {
   "cell_type": "code",
   "execution_count": 3,
   "id": "c648bf45",
   "metadata": {},
   "outputs": [
    {
     "name": "stdout",
     "output_type": "stream",
     "text": [
      "[1 2 3 4 5 6]\n"
     ]
    }
   ],
   "source": [
    "# Creating NumPy array from python list using np.array() function\n",
    "a = np.array([1, 2, 3, 4, 5, 6])\n",
    "print(a)"
   ]
  },
  {
   "cell_type": "code",
   "execution_count": 5,
   "id": "516ca0f5-b88d-491c-8482-dfa3ba56aa18",
   "metadata": {},
   "outputs": [
    {
     "name": "stdout",
     "output_type": "stream",
     "text": [
      "[[1.1 2.2 3.3]\n",
      " [4.4 5.5 6.6]]\n"
     ]
    }
   ],
   "source": [
    "# These can be multiple dimensions -- just use nested lists!\n",
    "b = np.array([[1.1, 2.2, 3.3], [4.4, 5.5, 6.6]])  # 2x3 array\n",
    "print(b)"
   ]
  },
  {
   "cell_type": "code",
   "execution_count": 7,
   "id": "72a664c0",
   "metadata": {},
   "outputs": [
    {
     "name": "stdout",
     "output_type": "stream",
     "text": [
      "[[1.1 2.2]\n",
      " [3.3 4.4]\n",
      " [5.5 6.6]]\n"
     ]
    }
   ],
   "source": [
    "c = np.array([[1.1, 2.2], [3.3, 4.4], [5.5, 6.6]])  # 3x2 array\n",
    "print(c)"
   ]
  },
  {
   "cell_type": "code",
   "execution_count": 9,
   "id": "fc07e7dd",
   "metadata": {},
   "outputs": [
    {
     "name": "stdout",
     "output_type": "stream",
     "text": [
      "[(6,), (2, 3), (3, 2)]\n",
      "[dtype('int32'), dtype('float64'), dtype('float64')]\n"
     ]
    }
   ],
   "source": [
    "print([a.shape, b.shape, c.shape])\n",
    "print([a.dtype, b.dtype, c.dtype])"
   ]
  },
  {
   "cell_type": "markdown",
   "id": "f9f648d2-97d2-447e-92b4-4dc4108286e0",
   "metadata": {},
   "source": [
    "### Setting Values w/ Functions\n",
    "* `np.arange()`\n",
    "* `np.linspace()`\n",
    "* `np.empty()`\n",
    "* `np.full()`\n",
    "* `np.zeros()`\n",
    "* `np.ones()`"
   ]
  },
  {
   "cell_type": "code",
   "execution_count": 11,
   "id": "90d1f758-399b-48f6-b82a-dd5b94efa662",
   "metadata": {},
   "outputs": [
    {
     "name": "stdout",
     "output_type": "stream",
     "text": [
      "[0 1 2 3 4]\n"
     ]
    }
   ],
   "source": [
    "# Instantiate a 1D array containing every value in a specified range with np.arange(end_value)\n",
    "# Here, array d contains every whole number up to 5\n",
    "d = np.arange(5)\n",
    "print(d)"
   ]
  },
  {
   "cell_type": "code",
   "execution_count": 13,
   "id": "17a25bdb-003f-40fd-bd73-734aed317cd9",
   "metadata": {},
   "outputs": [
    {
     "name": "stdout",
     "output_type": "stream",
     "text": [
      "[2.  2.1 2.2 2.3 2.4 2.5 2.6 2.7 2.8 2.9 3.  3.1 3.2 3.3 3.4 3.5 3.6 3.7\n",
      " 3.8 3.9 4.  4.1 4.2 4.3 4.4 4.5 4.6 4.7 4.8 4.9]\n"
     ]
    }
   ],
   "source": [
    "# np.arange(start_value, end_value, step_size)\n",
    "e = np.arange(2, 5, 0.1)\n",
    "print(e)"
   ]
  },
  {
   "cell_type": "code",
   "execution_count": 15,
   "id": "1922aba0-aedb-4004-a95c-8c00c427cb34",
   "metadata": {},
   "outputs": [
    {
     "name": "stdout",
     "output_type": "stream",
     "text": [
      "[2. 3. 4. 5.]\n"
     ]
    }
   ],
   "source": [
    "# If we want to use decimals but don't know the step size, it won't work as intended\n",
    "f = np.arange(2, 5.1)\n",
    "print(f)"
   ]
  },
  {
   "cell_type": "code",
   "execution_count": 17,
   "id": "467f9c6b-cb0d-4c6f-bb75-5432a0668b86",
   "metadata": {},
   "outputs": [
    {
     "name": "stdout",
     "output_type": "stream",
     "text": [
      "[2.         2.06122449 2.12244898 2.18367347 2.24489796 2.30612245\n",
      " 2.36734694 2.42857143 2.48979592 2.55102041 2.6122449  2.67346939\n",
      " 2.73469388 2.79591837 2.85714286 2.91836735 2.97959184 3.04081633\n",
      " 3.10204082 3.16326531 3.2244898  3.28571429 3.34693878 3.40816327\n",
      " 3.46938776 3.53061224 3.59183673 3.65306122 3.71428571 3.7755102\n",
      " 3.83673469 3.89795918 3.95918367 4.02040816 4.08163265 4.14285714\n",
      " 4.20408163 4.26530612 4.32653061 4.3877551  4.44897959 4.51020408\n",
      " 4.57142857 4.63265306 4.69387755 4.75510204 4.81632653 4.87755102\n",
      " 4.93877551 5.        ]\n"
     ]
    }
   ],
   "source": [
    "# Using np.linspace(start_value, end_value, num_elem), data is evenly separated\n",
    "g = np.linspace(2, 5, 50)\n",
    "print(g)"
   ]
  },
  {
   "cell_type": "code",
   "execution_count": 19,
   "id": "f05efad0",
   "metadata": {},
   "outputs": [
    {
     "name": "stdout",
     "output_type": "stream",
     "text": [
      "[[1.1 2.2 3.3]\n",
      " [4.4 5.5 6.6]]\n"
     ]
    }
   ],
   "source": [
    "# Instantiate an empty array with a specified shape, in this case (2,3)\n",
    "# The array is not truly \"empty\" - it just contains uninitialized values!\n",
    "h = np.empty((2,3))\n",
    "print(h)"
   ]
  },
  {
   "cell_type": "code",
   "execution_count": 21,
   "id": "a511a063",
   "metadata": {},
   "outputs": [
    {
     "name": "stdout",
     "output_type": "stream",
     "text": [
      "[[7 7 7]\n",
      " [7 7 7]]\n"
     ]
    }
   ],
   "source": [
    "# Instantiate an array with a specified shape, and fill every cell with a specified value\n",
    "# Here, array i is a 2x3 array filled with 7s\n",
    "i = np.full((2,3), 7)\n",
    "print(i)"
   ]
  },
  {
   "cell_type": "code",
   "execution_count": 23,
   "id": "ed54a32d-f38f-447d-a804-e12f2aa53877",
   "metadata": {},
   "outputs": [
    {
     "name": "stdout",
     "output_type": "stream",
     "text": [
      "[[0. 0. 0.]\n",
      " [0. 0. 0.]]\n"
     ]
    }
   ],
   "source": [
    "# Similar to np.full, np.zeros creates an array filled with 0s\n",
    "j = np.zeros((2,3))\n",
    "print(j)"
   ]
  },
  {
   "cell_type": "code",
   "execution_count": 25,
   "id": "4968e69f-357e-4106-aa18-e884b4090a31",
   "metadata": {},
   "outputs": [
    {
     "name": "stdout",
     "output_type": "stream",
     "text": [
      "[[1. 1. 1.]\n",
      " [1. 1. 1.]]\n"
     ]
    }
   ],
   "source": [
    "# np.ones creates an array filled with 1s\n",
    "k = np.ones((2,3))\n",
    "print(k)"
   ]
  },
  {
   "cell_type": "markdown",
   "id": "56dadfdc",
   "metadata": {},
   "source": [
    "### Slicing and Indexing Arrays"
   ]
  },
  {
   "cell_type": "code",
   "execution_count": 27,
   "id": "9b68d47a",
   "metadata": {},
   "outputs": [
    {
     "name": "stdout",
     "output_type": "stream",
     "text": [
      "1\n"
     ]
    }
   ],
   "source": [
    "# We can index like a python list... gives us data at index 0\n",
    "print(a[0])"
   ]
  },
  {
   "cell_type": "code",
   "execution_count": 29,
   "id": "7cf287f0-a2e8-4785-9cc0-2d08803a6245",
   "metadata": {},
   "outputs": [
    {
     "name": "stdout",
     "output_type": "stream",
     "text": [
      "[3 4 5 6]\n"
     ]
    }
   ],
   "source": [
    "# We can also get sub-arrays ... gives us data from index 2 inclusive to the end\n",
    "print(a[2:])  # type is still an array"
   ]
  },
  {
   "cell_type": "code",
   "execution_count": 31,
   "id": "24c1d44b-501e-452a-9340-0f020b96d307",
   "metadata": {},
   "outputs": [
    {
     "name": "stdout",
     "output_type": "stream",
     "text": [
      "[2 4 6]\n"
     ]
    }
   ],
   "source": [
    "# You can pass a list (or a NumPy array) as the index to get data from multiple indices\n",
    "print(a[[1,3,5]])  # gives us data from index 1, 3, and 5"
   ]
  },
  {
   "cell_type": "code",
   "execution_count": 33,
   "id": "8b198e2d",
   "metadata": {},
   "outputs": [
    {
     "name": "stdout",
     "output_type": "stream",
     "text": [
      "[1.1 2.2 3.3]\n",
      "[1.1 2.2 3.3]\n"
     ]
    }
   ],
   "source": [
    "# index 0 of axis 0 gives us the first row: [1.1, 2.2, 3.3].\n",
    "print(b[0])\n",
    "print(b[0,:])"
   ]
  },
  {
   "cell_type": "code",
   "execution_count": 35,
   "id": "ba2da84c-dd91-4f27-a78c-9eace144e344",
   "metadata": {},
   "outputs": [
    {
     "name": "stdout",
     "output_type": "stream",
     "text": [
      "[2.2 5.5]\n"
     ]
    }
   ],
   "source": [
    "# Indexing into all rows, second column\n",
    "print(b[:,1])"
   ]
  },
  {
   "cell_type": "code",
   "execution_count": 37,
   "id": "ee411c08-9094-446e-a4c8-8466d7e51c4f",
   "metadata": {},
   "outputs": [
    {
     "name": "stdout",
     "output_type": "stream",
     "text": [
      "2.2\n",
      "2.2\n"
     ]
    }
   ],
   "source": [
    "# 0 in axis 0 gives first row, 1 in axis 1 gives second value\n",
    "# Meanwhile, the second value in first list within array b also refers to 2.2\n",
    "print(b[0,1])\n",
    "print(b[0][1])"
   ]
  },
  {
   "cell_type": "markdown",
   "id": "42aed566",
   "metadata": {},
   "source": [
    "### Standard Mathematical Operations"
   ]
  },
  {
   "cell_type": "code",
   "execution_count": 39,
   "id": "bd09cffd",
   "metadata": {},
   "outputs": [],
   "source": [
    "np.random.seed(1) #initializes a random number generator\n",
    "\n",
    "# let's create two 3x3 matrices filled with random integers in the range [0,10)\n",
    "x = np.random.randint(0, 10, size = (3,3))\n",
    "y = np.random.randint(0, 10, size = (3,3))"
   ]
  },
  {
   "cell_type": "code",
   "execution_count": 41,
   "id": "705dcd85",
   "metadata": {},
   "outputs": [
    {
     "data": {
      "text/plain": [
       "array([[5, 8, 9],\n",
       "       [5, 0, 0],\n",
       "       [1, 7, 6]])"
      ]
     },
     "execution_count": 41,
     "metadata": {},
     "output_type": "execute_result"
    }
   ],
   "source": [
    "x"
   ]
  },
  {
   "cell_type": "code",
   "execution_count": 43,
   "id": "96b4e495",
   "metadata": {},
   "outputs": [
    {
     "data": {
      "text/plain": [
       "array([[9, 2, 4],\n",
       "       [5, 2, 4],\n",
       "       [2, 4, 7]])"
      ]
     },
     "execution_count": 43,
     "metadata": {},
     "output_type": "execute_result"
    }
   ],
   "source": [
    "y"
   ]
  },
  {
   "cell_type": "code",
   "execution_count": 45,
   "id": "ac263c38",
   "metadata": {},
   "outputs": [
    {
     "data": {
      "text/plain": [
       "array([[14, 10, 13],\n",
       "       [10,  2,  4],\n",
       "       [ 3, 11, 13]])"
      ]
     },
     "execution_count": 45,
     "metadata": {},
     "output_type": "execute_result"
    }
   ],
   "source": [
    "x + y"
   ]
  },
  {
   "cell_type": "code",
   "execution_count": 47,
   "id": "f7ca707a",
   "metadata": {},
   "outputs": [
    {
     "data": {
      "text/plain": [
       "array([[-4,  6,  5],\n",
       "       [ 0, -2, -4],\n",
       "       [-1,  3, -1]])"
      ]
     },
     "execution_count": 47,
     "metadata": {},
     "output_type": "execute_result"
    }
   ],
   "source": [
    "x - y"
   ]
  },
  {
   "cell_type": "code",
   "execution_count": 49,
   "id": "926620e2",
   "metadata": {},
   "outputs": [
    {
     "data": {
      "text/plain": [
       "array([[45, 16, 36],\n",
       "       [25,  0,  0],\n",
       "       [ 2, 28, 42]])"
      ]
     },
     "execution_count": 49,
     "metadata": {},
     "output_type": "execute_result"
    }
   ],
   "source": [
    "x * y"
   ]
  },
  {
   "cell_type": "code",
   "execution_count": 51,
   "id": "4b320140",
   "metadata": {},
   "outputs": [
    {
     "data": {
      "text/plain": [
       "array([[0.55555556, 4.        , 2.25      ],\n",
       "       [1.        , 0.        , 0.        ],\n",
       "       [0.5       , 1.75      , 0.85714286]])"
      ]
     },
     "execution_count": 51,
     "metadata": {},
     "output_type": "execute_result"
    }
   ],
   "source": [
    "x / y  # division"
   ]
  },
  {
   "cell_type": "code",
   "execution_count": 53,
   "id": "05465778",
   "metadata": {},
   "outputs": [
    {
     "data": {
      "text/plain": [
       "array([[0, 4, 2],\n",
       "       [1, 0, 0],\n",
       "       [0, 1, 0]])"
      ]
     },
     "execution_count": 53,
     "metadata": {},
     "output_type": "execute_result"
    }
   ],
   "source": [
    "x // y  # integer division (works like floor)"
   ]
  },
  {
   "cell_type": "code",
   "execution_count": 55,
   "id": "a07505ca",
   "metadata": {},
   "outputs": [
    {
     "data": {
      "text/plain": [
       "array([[1953125,      64,    6561],\n",
       "       [   3125,       0,       0],\n",
       "       [      1,    2401,  279936]])"
      ]
     },
     "execution_count": 55,
     "metadata": {},
     "output_type": "execute_result"
    }
   ],
   "source": [
    "x ** y  # raising x to the power of y"
   ]
  },
  {
   "cell_type": "code",
   "execution_count": 57,
   "id": "de03d2b1",
   "metadata": {},
   "outputs": [
    {
     "name": "stdout",
     "output_type": "stream",
     "text": [
      "41\n",
      "4.555555555555555\n",
      "3.235604395235786\n"
     ]
    }
   ],
   "source": [
    "print(np.sum(x))   # sum\n",
    "print(np.mean(x))  # mean\n",
    "print(np.std(x))   # standard deviation"
   ]
  },
  {
   "cell_type": "code",
   "execution_count": 59,
   "id": "04a65975",
   "metadata": {},
   "outputs": [
    {
     "name": "stdout",
     "output_type": "stream",
     "text": [
      "[22  5 14]\n"
     ]
    }
   ],
   "source": [
    "# Will sum across the columns, outputting an array of the sums of each row.\n",
    "print(np.sum(x, axis = 1))"
   ]
  },
  {
   "cell_type": "code",
   "execution_count": 61,
   "id": "ee73bda4-ad06-4171-ac1d-fe85d6a9c2d6",
   "metadata": {},
   "outputs": [
    {
     "name": "stdout",
     "output_type": "stream",
     "text": [
      "[11 15 15]\n"
     ]
    }
   ],
   "source": [
    "# Will sum across the rows, outputting an array of the sums of each column.\n",
    "print(np.sum(x, axis = 0))"
   ]
  },
  {
   "cell_type": "code",
   "execution_count": 63,
   "id": "61661ee1-e7cb-44ae-a68c-8b23f919c1b0",
   "metadata": {},
   "outputs": [
    {
     "name": "stdout",
     "output_type": "stream",
     "text": [
      "41\n"
     ]
    }
   ],
   "source": [
    "# Same as normal sum because we sum across both axes\n",
    "print(np.sum(x, axis = (0,1)))"
   ]
  },
  {
   "cell_type": "markdown",
   "id": "0efde3f4",
   "metadata": {},
   "source": [
    "### Other Numpy Features\n",
    "* Transpose\n",
    "* Magnitude (L2 norm)\n",
    "* Dot Product\n",
    "* Matrix Product\n",
    "* Max/Min of an array"
   ]
  },
  {
   "cell_type": "code",
   "execution_count": 65,
   "id": "06b34c7c",
   "metadata": {},
   "outputs": [
    {
     "name": "stdout",
     "output_type": "stream",
     "text": [
      "[[5 5 1]\n",
      " [8 0 7]\n",
      " [9 0 6]]\n"
     ]
    }
   ],
   "source": [
    "# We can easily get the transpose of a matrix (columns to rows, rows to columns)\n",
    "print(x.T)"
   ]
  },
  {
   "cell_type": "code",
   "execution_count": 67,
   "id": "4289daa7-4869-4d0a-8ee8-948f18079f33",
   "metadata": {},
   "outputs": [
    {
     "name": "stdout",
     "output_type": "stream",
     "text": [
      "13.038404810405298\n"
     ]
    }
   ],
   "source": [
    "# Get the magnitude (L2 norm) of a vector\n",
    "print(np.linalg.norm(x[0]))"
   ]
  },
  {
   "cell_type": "code",
   "execution_count": 69,
   "id": "935fde09",
   "metadata": {},
   "outputs": [
    {
     "name": "stdout",
     "output_type": "stream",
     "text": [
      "25\n"
     ]
    }
   ],
   "source": [
    "# Get the dot product of two vectors\n",
    "print(np.dot(x[0], x[1]))"
   ]
  },
  {
   "cell_type": "code",
   "execution_count": 71,
   "id": "02e3a0b1-f5b8-4cc4-93d8-eda4c0d1d179",
   "metadata": {},
   "outputs": [
    {
     "name": "stdout",
     "output_type": "stream",
     "text": [
      "[[103  62 115]\n",
      " [ 45  10  20]\n",
      " [ 56  40  74]]\n"
     ]
    }
   ],
   "source": [
    "# Multiply two matrices (m x k) * (k * n)\n",
    "# Need same number of cols for first matrix and rows for second matrix\n",
    "print(np.matmul(x, y))"
   ]
  },
  {
   "cell_type": "code",
   "execution_count": 75,
   "id": "4967194c-1f11-4b12-beec-6ef66593d885",
   "metadata": {},
   "outputs": [
    {
     "name": "stdout",
     "output_type": "stream",
     "text": [
      "0\n",
      "[5 0 1]\n"
     ]
    }
   ],
   "source": [
    "# Minimum value in matrix\n",
    "print(np.min(x))\n",
    "\n",
    "# Minimum value in each row\n",
    "print(np.min(x, axis = 1))"
   ]
  },
  {
   "cell_type": "code",
   "execution_count": 77,
   "id": "42b31d55",
   "metadata": {},
   "outputs": [
    {
     "name": "stdout",
     "output_type": "stream",
     "text": [
      "4\n",
      "[0 1 0]\n"
     ]
    }
   ],
   "source": [
    "# Index of minimum value in matrix\n",
    "print(np.argmin(x))\n",
    "\n",
    "# Index of minimum value in each row\n",
    "print(np.argmin(x, axis = 1))"
   ]
  },
  {
   "cell_type": "markdown",
   "id": "5aeb4040",
   "metadata": {},
   "source": [
    "## Adjusting Array Shape and Dimensionality\n",
    "Sometimes our arrays are not in the specific format we want, so we need to restructure them. We can use `np.reshape()` to redistribute the existing array values into a different shape. The new shape must contain the same number of values as the original shape, but it can have a different number of dimensions."
   ]
  },
  {
   "cell_type": "code",
   "execution_count": 79,
   "id": "60bce6ce",
   "metadata": {},
   "outputs": [
    {
     "name": "stdout",
     "output_type": "stream",
     "text": [
      "[0 1 2 3 4 5]\n"
     ]
    }
   ],
   "source": [
    "y = np.arange(6)\n",
    "print(y)"
   ]
  },
  {
   "cell_type": "code",
   "execution_count": 81,
   "id": "85da1631-7e59-42da-bcc3-7551c7c2f83a",
   "metadata": {},
   "outputs": [
    {
     "name": "stdout",
     "output_type": "stream",
     "text": [
      "[[0 1 2]\n",
      " [3 4 5]]\n"
     ]
    }
   ],
   "source": [
    "# Change the shape of y from (6,) to (2,3)\n",
    "print(np.reshape(y, (2,3)))"
   ]
  },
  {
   "cell_type": "code",
   "execution_count": 83,
   "id": "fccb2da6",
   "metadata": {},
   "outputs": [
    {
     "name": "stdout",
     "output_type": "stream",
     "text": [
      "[[0 1]\n",
      " [2 3]\n",
      " [4 5]]\n"
     ]
    }
   ],
   "source": [
    "# If you list the size of one dimension as -1, NumPy will determine the appropriate value for you!\n",
    "print(np.reshape(y, (-1, 2)))\n"
   ]
  },
  {
   "cell_type": "code",
   "execution_count": 85,
   "id": "5c4bf5a2-bc03-40cb-ba7d-b759e018b361",
   "metadata": {},
   "outputs": [
    {
     "data": {
      "text/plain": [
       "(3, 2)"
      ]
     },
     "execution_count": 85,
     "metadata": {},
     "output_type": "execute_result"
    }
   ],
   "source": [
    "y_new = np.reshape(y, (-1, 2))\n",
    "y_new.shape"
   ]
  },
  {
   "cell_type": "code",
   "execution_count": null,
   "id": "7c676f64-a5b6-4648-9597-7a7046ed5b45",
   "metadata": {},
   "outputs": [],
   "source": []
  }
 ],
 "metadata": {
  "kernelspec": {
   "display_name": "Python 3 (ipykernel)",
   "language": "python",
   "name": "python3"
  },
  "language_info": {
   "codemirror_mode": {
    "name": "ipython",
    "version": 3
   },
   "file_extension": ".py",
   "mimetype": "text/x-python",
   "name": "python",
   "nbconvert_exporter": "python",
   "pygments_lexer": "ipython3",
   "version": "3.12.4"
  }
 },
 "nbformat": 4,
 "nbformat_minor": 5
}
