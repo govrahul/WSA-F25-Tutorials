{
 "cells": [
  {
   "attachments": {},
   "cell_type": "markdown",
   "id": "8c4ca54f-072d-4454-8ae2-a7bfdec8fde7",
   "metadata": {},
   "source": [
    "### WEEK 1: DATA CLEANING\n",
    "\n",
    "Using the dataset of your choosing, work through the jupyter notebook and try out different data cleaning concepts! Feel free to add more cells as needed to try out new things or work on multiple tables."
   ]
  },
  {
   "cell_type": "code",
   "execution_count": null,
   "id": "2e764557-d176-4278-a7be-ffcbf3002bc6",
   "metadata": {},
   "outputs": [],
   "source": [
    "# Run me!\n",
    "import pandas as pd\n",
    "import numpy as np\n",
    "import matplotlib.pyplot as plt"
   ]
  },
  {
   "cell_type": "code",
   "execution_count": null,
   "id": "4a89f1f6-f737-4a24-ab1d-6615bc6750f8",
   "metadata": {},
   "outputs": [],
   "source": [
    "# Import all the tables you want to use\n",
    "# Make the table names descriptive -- it's a lot easier to understand that way\n",
    "df = pd.read_csv('filename.csv')"
   ]
  },
  {
   "cell_type": "code",
   "execution_count": null,
   "id": "9bca9a31-d2d9-4656-baba-233e1e1a3d80",
   "metadata": {},
   "outputs": [],
   "source": [
    "# Look at the first 10 rows of each table\n",
    "df.head(10)"
   ]
  },
  {
   "attachments": {},
   "cell_type": "markdown",
   "id": "71be3d06-7996-41b0-b210-e52f0c450586",
   "metadata": {},
   "source": [
    "Looking at the tables, do you see anything that needs to be cleaned? Things to look for:\n",
    "* non-descriptive column names\n",
    "* weird/inconsistent data entries\n",
    "* non useful data types (maybe you have a string but want a number)\n",
    "* outliers/unnecessary data\n",
    "* NA values you want to fill\n",
    "* many other things\n",
    "\n",
    "Use the rest of the file to work through these cleaning issues! Here's some code that might be helpful (but use Google to find different ways to do more advanced things as you need such as filling NA with a column mean)"
   ]
  },
  {
   "cell_type": "code",
   "execution_count": null,
   "id": "d850a85b-7d53-4f8e-b595-e066549d9320",
   "metadata": {},
   "outputs": [],
   "source": [
    "# Useful code snippets -- feel free to look stuff up if you want something else!\n",
    "# Renaming: df = df.rename(columns={'old_col': 'new_col', ... })\n",
    "# Drop rows after a specific index (e.g., keep rows up to index 2): df_dropped_after_index = df.iloc[:3]\n",
    "# Drop rows where 'col1' is less than 3: df_conditional_drop = df[df['col1'] >= 3]\n",
    "# Drop NA: df = df.dropna()\n",
    "# Fill NA with value: df.fillna(value, inplace=True)"
   ]
  },
  {
   "cell_type": "code",
   "execution_count": null,
   "id": "c6c28e1f-a2d9-45ba-b942-c7562168b6e5",
   "metadata": {},
   "outputs": [],
   "source": [
    "# Outlier visualization\n",
    "plt.scatter(df['x'], df['y'])\n",
    "plt.show()\n",
    "\n",
    "plt.hist(df['col'])\n",
    "plt.show()\n",
    "\n",
    "plt.boxplot(df['col'])\n",
    "plt.show()"
   ]
  },
  {
   "cell_type": "markdown",
   "id": "3fd7b69f-4f58-4bb0-93c2-43bdbf05749e",
   "metadata": {},
   "source": [
    "Add visualizations and code cells below to clean up your tables."
   ]
  },
  {
   "cell_type": "code",
   "execution_count": null,
   "id": "0eaf9615-d054-4a4a-b471-c407e5597106",
   "metadata": {},
   "outputs": [],
   "source": []
  }
 ],
 "metadata": {
  "kernelspec": {
   "display_name": "Python 3 (ipykernel)",
   "language": "python",
   "name": "python3"
  },
  "language_info": {
   "codemirror_mode": {
    "name": "ipython",
    "version": 3
   },
   "file_extension": ".py",
   "mimetype": "text/x-python",
   "name": "python",
   "nbconvert_exporter": "python",
   "pygments_lexer": "ipython3",
   "version": "3.11.11"
  }
 },
 "nbformat": 4,
 "nbformat_minor": 5
}
