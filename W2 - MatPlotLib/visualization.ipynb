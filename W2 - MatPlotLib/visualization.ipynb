{
 "cells": [
  {
   "cell_type": "markdown",
   "id": "ae4c16b9-2f0e-422f-84e2-ad4926c7a35e",
   "metadata": {},
   "source": [
    "### WEEK 2: DATA VISUALIZATION\n",
    "\n",
    "Using the dataset you cleaned out last week, work through this file to visualize it and see what you can find! If you didn't yet, go back to the cleaning starter code to save your cleaned CSVs to your computer for this."
   ]
  },
  {
   "cell_type": "code",
   "execution_count": null,
   "id": "d72ac83d-f28d-45f4-a90b-ca16cd7ecd3a",
   "metadata": {},
   "outputs": [],
   "source": [
    "# Run me!\n",
    "import pandas as pd\n",
    "import numpy as np\n",
    "import matplotlib.pyplot as plt\n",
    "\n",
    "# Google Colab users uncomment the line below:\n",
    "# from google.colab import files"
   ]
  },
  {
   "cell_type": "code",
   "execution_count": null,
   "id": "b0250c1e-f644-43fe-a3c1-ccfc68a555bd",
   "metadata": {},
   "outputs": [],
   "source": [
    "# Google Colab users uncomment the line below:\n",
    "# uploaded = files.upload()"
   ]
  },
  {
   "cell_type": "code",
   "execution_count": null,
   "id": "d9151505-6e8a-4d8a-86a2-859f8ae58e72",
   "metadata": {},
   "outputs": [],
   "source": [
    "# Read in all the data (just copy and paste the line below) -- remember to use descriptive table names\n",
    "df = pd.read_csv('filename.csv')"
   ]
  },
  {
   "cell_type": "code",
   "execution_count": null,
   "id": "6139af39-5219-4989-b20d-9d3b8abf79ab",
   "metadata": {},
   "outputs": [],
   "source": [
    "# For each table, print out the first couple rows:\n",
    "df.head()"
   ]
  },
  {
   "cell_type": "code",
   "execution_count": null,
   "id": "c66913d4-4604-434d-b2c2-0cf87b7d5b95",
   "metadata": {},
   "outputs": [],
   "source": [
    "# Print out the column names for each table:\n",
    "print(df.columns)"
   ]
  },
  {
   "cell_type": "markdown",
   "id": "df26eb5d-c148-4894-ad38-76872f306562",
   "metadata": {},
   "source": [
    "What columns do you think might be interesting to look at? Click into this box and answer:\n"
   ]
  },
  {
   "cell_type": "code",
   "execution_count": null,
   "id": "22e47046-e925-44ae-acc8-69be770327b5",
   "metadata": {},
   "outputs": [],
   "source": [
    "# Plot! Here are some useful functions (look at their documentation, they have cool optional parameters such as color and point size):\n",
    "# plt.plot(x, y) -- line graph\n",
    "# plt.bar(x, height) -- bar plot\n",
    "# plt.barh(y, width) -- horizontal bar plot\n",
    "# plt.scatter(x, y) -- scatter plot\n",
    "# plt.pie(x) -- pie chart\n",
    "# plt.boxplot(x) -- box plot"
   ]
  },
  {
   "cell_type": "code",
   "execution_count": null,
   "id": "7fb9fa80-f891-4c6d-a488-d57207b42c7e",
   "metadata": {},
   "outputs": [],
   "source": [
    "# Let's walk through one simple one together\n",
    "x = df[''] # Fill these two in\n",
    "y = df['']\n",
    "\n",
    "plt.plot(x, y)\n",
    "plt.title('Write a Descriptive Title')\n",
    "plt.xlabel('Write a Descriptive X Label')\n",
    "plt.ylabel('Write a Descriptive Y Label')\n",
    "# plt.legend() -- uncomment if you want a legend!\n",
    "plt.show() # Don't forget this line!\n",
    "\n",
    "# After looking at the graph, write a quick analysis of what you see"
   ]
  },
  {
   "cell_type": "markdown",
   "id": "9e1a6305-5696-4e4f-8fb9-f5eaa0662b00",
   "metadata": {},
   "source": [
    "Analysis:"
   ]
  },
  {
   "cell_type": "markdown",
   "id": "2c4947a8-d342-4367-8dfd-c0cdbc2c9e39",
   "metadata": {},
   "source": [
    "Repeat this process as many times as you can! Dig into the data and see what you can find. Scatter plots might be useful later on for model creation, but all plots are extremely useful for different reasons. Helpful tip: when writing analysis you can change the cell type at the top from \"Code\" to \"Markdown\" for ease of use!"
   ]
  },
  {
   "cell_type": "code",
   "execution_count": null,
   "id": "acc95a5e-5d48-431a-a759-bb6b9bb7b581",
   "metadata": {},
   "outputs": [],
   "source": []
  }
 ],
 "metadata": {
  "kernelspec": {
   "display_name": "Python 3 (ipykernel)",
   "language": "python",
   "name": "python3"
  },
  "language_info": {
   "codemirror_mode": {
    "name": "ipython",
    "version": 3
   },
   "file_extension": ".py",
   "mimetype": "text/x-python",
   "name": "python",
   "nbconvert_exporter": "python",
   "pygments_lexer": "ipython3",
   "version": "3.11.11"
  }
 },
 "nbformat": 4,
 "nbformat_minor": 5
}
