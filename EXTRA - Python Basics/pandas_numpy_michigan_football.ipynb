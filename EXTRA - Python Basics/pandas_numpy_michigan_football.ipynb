{
 "cells": [
  {
   "cell_type": "markdown",
   "id": "d186edeb",
   "metadata": {},
   "source": [
    "# Michigan Football Passing Stats - Pandas & NumPy Basics\n",
    "This notebook introduces Pandas and NumPy using real Michigan Football passing stats."
   ]
  },
  {
   "cell_type": "code",
   "execution_count": null,
   "id": "c7b430fa",
   "metadata": {},
   "outputs": [],
   "source": [
    "import numpy as np\n",
    "import pandas as pd"
   ]
  },
  {
   "cell_type": "code",
   "execution_count": null,
   "id": "815856a6",
   "metadata": {},
   "outputs": [],
   "source": [
    "# Section 1: Create DataFrame from Michigan Football Data\n",
    "data = {\n",
    "    \"Rk\": [1, 2, 3, 4, 5],\n",
    "    \"Player\": [\"Davis Warren\", \"Jack Tuttle\", \"Alex Orji\", \"Donovan Edwards\", \"Semaj Morgan\"],\n",
    "    \"Pos\": [\"QB\", \"QB\", \"QB\", \"RB\", \"WR\"],\n",
    "    \"G\": [9, 2, 11, 12, 11],\n",
    "    \"Cmp\": [134, 30, 25, 1, 0],\n",
    "    \"Att\": [209, 50, 47, 1, 1],\n",
    "    \"Cmp%\": [64.1, 60.0, 53.2, 100.0, 0.0],\n",
    "    \"Yds\": [1199, 306, 150, 23, 0],\n",
    "    \"TD\": [7, 1, 3, 1, 0],\n",
    "    \"TD%\": [3.3, 2.0, 6.4, 100.0, 0.0],\n",
    "    \"Int\": [9, 2, 2, 0, 0],\n",
    "    \"Int%\": [4.3, 4.0, 4.3, 0.0, 0.0],\n",
    "    \"Y/A\": [5.7, 6.1, 3.2, 23.0, 0.0],\n",
    "    \"AY/A\": [4.47, 4.72, 2.55, 43.0, 0.0],\n",
    "    \"Y/C\": [8.9, 10.2, 6.0, 23.0, None],\n",
    "    \"Y/G\": [133.2, 153.0, 13.6, 1.9, 0.0],\n",
    "    \"Rate\": [114.7, 110.0, 92.6, 623.2, None],\n",
    "    \"Awards\": [\"\", \"\", \"\", \"\", \"\"]\n",
    "}\n",
    "\n",
    "df = pd.DataFrame(data)\n",
    "print(\"Michigan Football Passing DataFrame:\")\n",
    "print(df)"
   ]
  },
  {
   "cell_type": "code",
   "execution_count": null,
   "id": "7b0b8413",
   "metadata": {},
   "outputs": [],
   "source": [
    "# Section 2: Exploring the DataFrame\n",
    "print(\"Shape of DataFrame:\", df.shape)\n",
    "print(\"Columns:\", df.columns)"
   ]
  },
  {
   "cell_type": "code",
   "execution_count": null,
   "id": "3c2e88b9-72f5-4a21-bf7b-66bc92e50a78",
   "metadata": {},
   "outputs": [],
   "source": [
    "# Print the top 3 rows\n",
    "print()"
   ]
  },
  {
   "cell_type": "code",
   "execution_count": null,
   "id": "4619a8db-dd7b-4d88-af35-a2d37f0f80e9",
   "metadata": {},
   "outputs": [],
   "source": [
    "# Get basic summary stats\n",
    "print()"
   ]
  },
  {
   "cell_type": "code",
   "execution_count": null,
   "id": "ffe79dde",
   "metadata": {},
   "outputs": [],
   "source": [
    "# Section 3: Selecting & Filtering\n",
    "print(\"Player Names:\")\n",
    "print(df[\"Player\"])"
   ]
  },
  {
   "cell_type": "code",
   "execution_count": null,
   "id": "1b7ee10e-1169-43af-9645-23432d09e1dd",
   "metadata": {},
   "outputs": [],
   "source": [
    "# Filter the dataframe for only quarterbacks (sorry Semaj and Donovan)\n",
    "qbs = \n",
    "print(\"Quarterbacks:\")\n",
    "print(qbs)"
   ]
  },
  {
   "cell_type": "code",
   "execution_count": null,
   "id": "6fa062f7-b1fb-443b-a93d-91c234fa88fe",
   "metadata": {},
   "outputs": [],
   "source": [
    "# Filter the dataframe for only guys who threw for above 250 yards\n",
    "yards = \n",
    "print(\"Players with > 250 Yards:\")\n",
    "print(yards)"
   ]
  },
  {
   "cell_type": "code",
   "execution_count": null,
   "id": "fb56eac3",
   "metadata": {},
   "outputs": [],
   "source": [
    "# Section 4: Adding Columns\n",
    "df[\"Cmp_Calc\"] = (df[\"Cmp\"] / df[\"Att\"]) * 100\n",
    "print(df[[\"Player\", \"Cmp%\", \"Cmp_Calc\"]])"
   ]
  },
  {
   "cell_type": "code",
   "execution_count": null,
   "id": "de5f2567-674c-4860-8676-1a90662e13c8",
   "metadata": {},
   "outputs": [],
   "source": [
    "# Add TDs per Game\n"
   ]
  },
  {
   "cell_type": "code",
   "execution_count": null,
   "id": "60eb0cf9-93bc-490c-b40c-a79f11781a49",
   "metadata": {},
   "outputs": [],
   "source": [
    "# Add one more column you think would be interesting!\n"
   ]
  },
  {
   "cell_type": "code",
   "execution_count": null,
   "id": "f36659a2",
   "metadata": {},
   "outputs": [],
   "source": [
    "# Section 5: Sorting & Grouping\n",
    "print(df.sort_values(\"Yds\", ascending=False)[[\"Player\", \"Yds\"]])\n",
    "print(df.groupby(\"Pos\")[\"Yds\"].mean())"
   ]
  },
  {
   "cell_type": "code",
   "execution_count": null,
   "id": "2b63db29-1ee2-44b5-8be5-eca917acf10c",
   "metadata": {},
   "outputs": [],
   "source": [
    "# Try it with columns you want to look at!\n"
   ]
  },
  {
   "cell_type": "code",
   "execution_count": null,
   "id": "5ccdc980",
   "metadata": {},
   "outputs": [],
   "source": [
    "# Section 6: Handling Missing Data\n",
    "\n",
    "# How many missing values are there?\n",
    "print(df.isnull().sum())"
   ]
  },
  {
   "cell_type": "code",
   "execution_count": null,
   "id": "f17e7eaa-1370-459e-a06b-5d0b7e4250f4",
   "metadata": {},
   "outputs": [],
   "source": [
    "# Where are they?\n",
    "print(df.loc[df.isnull().any(axis=1)])"
   ]
  },
  {
   "cell_type": "code",
   "execution_count": null,
   "id": "7dda8d53-0991-476c-a9c9-a17c4cf02658",
   "metadata": {},
   "outputs": [],
   "source": [
    "# How should they be filled (If at all)?\n",
    "df_filled = df.fillna(# Fill me)\n",
    "print(df_filled)"
   ]
  },
  {
   "cell_type": "code",
   "execution_count": null,
   "id": "7bf46851",
   "metadata": {},
   "outputs": [],
   "source": [
    "# Section 7: NumPy Integration\n",
    "yards = df[\"Yds\"].to_numpy()\n",
    "print(\"Yards array:\", yards)"
   ]
  },
  {
   "cell_type": "code",
   "execution_count": null,
   "id": "f36344c5-67d4-416c-8e0c-23b4e6652e61",
   "metadata": {},
   "outputs": [],
   "source": [
    "# Print out at least one of each of these: max, min, and standard deviation\n"
   ]
  },
  {
   "cell_type": "code",
   "execution_count": null,
   "id": "f636f7b2-ed57-4bd5-ad82-ebf6cd664fb7",
   "metadata": {},
   "outputs": [],
   "source": [
    "# Find the player with the most yards\n",
    "max_idx = np.argmax(yards)\n",
    "print(\"Player with max yards:\", df.loc[max_idx, \"Player\"])"
   ]
  },
  {
   "cell_type": "code",
   "execution_count": null,
   "id": "07f547fa-1056-4a85-9c9c-f60778c31b13",
   "metadata": {},
   "outputs": [],
   "source": [
    "# Find who had the worst TD to INT ratio out of players with more than 1 pass attempt\n",
    "# Hint: a column has to be added!\n"
   ]
  },
  {
   "cell_type": "code",
   "execution_count": null,
   "id": "02271688",
   "metadata": {},
   "outputs": [],
   "source": [
    "# Section 8: Conclusion\n",
    "print(\"Done! Go Blue 💙💛🏈\")"
   ]
  }
 ],
 "metadata": {
  "kernelspec": {
   "display_name": "Python 3 (ipykernel)",
   "language": "python",
   "name": "python3"
  },
  "language_info": {
   "codemirror_mode": {
    "name": "ipython",
    "version": 3
   },
   "file_extension": ".py",
   "mimetype": "text/x-python",
   "name": "python",
   "nbconvert_exporter": "python",
   "pygments_lexer": "ipython3",
   "version": "3.11.11"
  }
 },
 "nbformat": 4,
 "nbformat_minor": 5
}
