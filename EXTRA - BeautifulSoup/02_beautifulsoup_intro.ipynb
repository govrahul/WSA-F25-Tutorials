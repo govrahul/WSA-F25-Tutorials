{
 "cells": [
  {
   "cell_type": "markdown",
   "id": "fff1d590",
   "metadata": {},
   "source": [
    "## WSA Web Scraping with BeautifulSoup Demo"
   ]
  },
  {
   "cell_type": "markdown",
   "id": "84509ee8",
   "metadata": {},
   "source": [
    "### Imports\n",
    "For the necessary libraries to be available, make sure to run in your terminal:\n",
    "* `pip install requests`\n",
    "* `pip install bs4`\n",
    "* `pip install mysql-connector-python`"
   ]
  },
  {
   "cell_type": "code",
   "execution_count": null,
   "id": "defc453a",
   "metadata": {},
   "outputs": [],
   "source": [
    "import requests\n",
    "from bs4 import BeautifulSoup"
   ]
  },
  {
   "cell_type": "markdown",
   "id": "07826c2a",
   "metadata": {},
   "source": [
    "### Example: Michigan Football All-Time Passing Leaders\n",
    "**Website**: https://www.sports-reference.com/cfb/schools/michigan/passing.html\n",
    "\n",
    "This example shows the basics of web scraping using **Sports Reference**. Sports Reference is a website that contains detailed statistics for a large variety of sports, and could be a valuable source of data for your projects. \n",
    "\n",
    "Important steps include:\n",
    "* Accessing the website using `requests.get`\n",
    "* Creating a `soup` object\n",
    "* Using `find` and `find_all` functions to get the specific data from the website"
   ]
  },
  {
   "cell_type": "markdown",
   "id": "2ecf5ed1-1291-4df7-9f91-029294a96011",
   "metadata": {},
   "source": [
    "#### Step 1: Make a request to the specific URL"
   ]
  },
  {
   "cell_type": "code",
   "execution_count": null,
   "id": "e61f9bc2",
   "metadata": {},
   "outputs": [],
   "source": [
    "url = requests.get('https://www.sports-reference.com/cfb/schools/michigan/passing.html')"
   ]
  },
  {
   "cell_type": "markdown",
   "id": "97ba62de-38cc-404e-928b-d6bee2e4bf02",
   "metadata": {},
   "source": [
    "#### Step 2: Create the soup object"
   ]
  },
  {
   "cell_type": "code",
   "execution_count": null,
   "id": "44c3b08b-65fc-452d-b440-69d21159e09e",
   "metadata": {},
   "outputs": [],
   "source": [
    "# This obtains all of the HTML content from the above URL request\n",
    "\n",
    "soup = BeautifulSoup(url.text, 'html.parser')\n",
    "#print(soup.prettify())"
   ]
  },
  {
   "cell_type": "markdown",
   "id": "1b29f24d-5d80-40a4-bd18-169e01902c76",
   "metadata": {},
   "source": [
    "#### Step 3: Find table rows and columns\n",
    "Use `.find` and `.find_all` to get the table, then the rows, then the columns from the HTML content"
   ]
  },
  {
   "cell_type": "code",
   "execution_count": null,
   "id": "46ef35a0-65be-42fb-a6e6-d79d694ffa9f",
   "metadata": {},
   "outputs": [],
   "source": [
    "# The following line of code will find the first div tag with an id of div_passing\n",
    "# It then iterates further to find the nested table and tbody tags\n",
    "table = soup.find('div', attrs = {'id' : 'div_passing'}).find('table').find('tbody')\n",
    "#print(table)"
   ]
  },
  {
   "cell_type": "code",
   "execution_count": null,
   "id": "65dd698d-5896-4e3c-af00-cf966070f8c1",
   "metadata": {},
   "outputs": [],
   "source": [
    "# The following line of code will find all tr tags that are nested within the tbody tag\n",
    "rows = table.find_all('tr')\n",
    "\n",
    "# Example to display column elements more clearly\n",
    "ex_row = rows[0]\n",
    "for col in ex_row:\n",
    "    ind = ex_row.index(col)\n",
    "    print('index', ind, ' ' * (2-len(str(ind))), ' | ', col.text, ' ' * (12-len(col.text)), ' | ', col)\n",
    "\n",
    "# column   |  data         |  HTML "
   ]
  },
  {
   "cell_type": "markdown",
   "id": "d7366075-227a-429f-9812-6008a8cbcec1",
   "metadata": {},
   "source": [
    "#### Step 4: Index into table to save specific data"
   ]
  },
  {
   "cell_type": "code",
   "execution_count": null,
   "id": "e7106ef0-21b3-4167-b61d-47cb935fe197",
   "metadata": {},
   "outputs": [],
   "source": [
    "# This may require other functions as well\n",
    "# For each value, we use .text to parse out seperators such as new line characters\n",
    "# Remember to consider default values for the case that a table entry is null!\n",
    "\n",
    "michigan_qb_data = []\n",
    "\n",
    "for row in rows:\n",
    "    columns = row.find_all('td')\n",
    "    if len(columns) > 0:\n",
    "        name = columns[0].find('a').text\n",
    "        \n",
    "        start_year = columns[1].text\n",
    "        end_year = columns[2].text\n",
    "        years_played = start_year + '-' + end_year\n",
    "        \n",
    "        pass_pct = float(columns[5].text)\n",
    "        pass_yrds = int(columns[6].text)\n",
    "        if columns[9].text == '':\n",
    "            pass_td = 0\n",
    "        else:\n",
    "            pass_td = int(columns[9].text)\n",
    "        ints = int(columns[10].text)\n",
    "\n",
    "        if columns[11].text == '':\n",
    "            qbr = 0.0\n",
    "        else:\n",
    "            qbr = float(columns[11].text)\n",
    "\n",
    "    michigan_qb_data.append([name, years_played, pass_pct, pass_yrds, pass_td, ints, qbr])    "
   ]
  },
  {
   "cell_type": "markdown",
   "id": "65356838-f13f-4533-8213-a27469b26787",
   "metadata": {},
   "source": [
    "Now, let's view all of the scraped data!"
   ]
  },
  {
   "cell_type": "code",
   "execution_count": null,
   "id": "2aa888aa-be91-405b-9c2b-e60b66782b5d",
   "metadata": {},
   "outputs": [],
   "source": [
    "for qb in michigan_qb_data:\n",
    "    print(qb)"
   ]
  },
  {
   "cell_type": "markdown",
   "id": "809c5d4e-d4dc-4f90-aa94-3691af14c57d",
   "metadata": {},
   "source": [
    "### Exercise: NFL Quarterback Data\n",
    "**Website:** https://www.nfl.com/stats/player-stats/\n",
    "\n",
    "Scrape the NFL website to gather the following data for the NFL's top quarterbacks so far this season:\n",
    "* Name \n",
    "* Passing Yards\n",
    "* Completion Percentage\n",
    "* \\# of Touchdowns \n",
    "* QB Rating\n",
    "\n",
    "You will need to cast some string table entries into numerical values!"
   ]
  },
  {
   "cell_type": "code",
   "execution_count": null,
   "id": "9f910333-85c1-49f3-a3c1-f136089827a4",
   "metadata": {},
   "outputs": [],
   "source": [
    "nfl_qbs = []\n",
    "\n",
    "url = requests.get('https://www.nfl.com/stats/player-stats/')\n",
    "soup = BeautifulSoup(url.text, 'html.parser')\n",
    "#print(soup.prettify())"
   ]
  },
  {
   "cell_type": "code",
   "execution_count": null,
   "id": "69ec0ae0-5d6a-4261-9512-baeec7ae143a",
   "metadata": {},
   "outputs": [],
   "source": [
    "# What attribute and tags can we use to locate table data?\n",
    "\n",
    "qb_table = soup.find('div', attrs={'REPLACE' : 'REPLACE'}).find('table')\n",
    "qb_rows = qb_table.find('REPLACE').find_all('REPLACE')"
   ]
  },
  {
   "cell_type": "code",
   "execution_count": null,
   "id": "14c63474-6361-4b10-be48-d0df5865d39f",
   "metadata": {},
   "outputs": [],
   "source": [
    "# Example to display column elements more clearly\n",
    "ex_row = qb_rows[0]\n",
    "for col in ex_row:\n",
    "    ind = ex_row.index(col)\n",
    "    print('index', ind, ' ' * (2-len(str(ind))), ' | ', col.text.strip())\n",
    "\n",
    "# column   |  data "
   ]
  },
  {
   "cell_type": "code",
   "execution_count": null,
   "id": "6ec29ec8-295d-4f55-9e07-a182563e967f",
   "metadata": {},
   "outputs": [],
   "source": [
    "# Index into each row and save data to variables here!\n",
    "for row in qb_rows:\n",
    "    cols = row.find_all('REPLACE')\n",
    "    \n",
    "    # name = \n",
    "    #pass_yards = \n",
    "    # comp_per = \n",
    "    # td = \n",
    "    # qbr = \n",
    "\n",
    "    nfl_qbs.append([name, pass_yards, comp_per, td, qbr])"
   ]
  },
  {
   "cell_type": "code",
   "execution_count": null,
   "id": "97aa925f-f2d6-4b32-98dd-641164b238d9",
   "metadata": {},
   "outputs": [],
   "source": [
    "for qb in nfl_qbs:\n",
    "    print(qb)"
   ]
  }
 ],
 "metadata": {
  "kernelspec": {
   "display_name": "Python 3 (ipykernel)",
   "language": "python",
   "name": "python3"
  },
  "language_info": {
   "codemirror_mode": {
    "name": "ipython",
    "version": 3
   },
   "file_extension": ".py",
   "mimetype": "text/x-python",
   "name": "python",
   "nbconvert_exporter": "python",
   "pygments_lexer": "ipython3",
   "version": "3.12.4"
  }
 },
 "nbformat": 4,
 "nbformat_minor": 5
}
