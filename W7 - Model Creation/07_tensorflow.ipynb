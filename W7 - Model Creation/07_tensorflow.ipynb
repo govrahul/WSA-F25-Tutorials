{
 "cells": [
  {
   "cell_type": "markdown",
   "id": "0a8f1efc",
   "metadata": {},
   "source": [
    "# WSA TensorFlow Demo Code"
   ]
  },
  {
   "cell_type": "markdown",
   "id": "49e69176",
   "metadata": {},
   "source": [
    "### Imports\n",
    "* Don't forget to run `pip install tensorflow` in your terminal first!"
   ]
  },
  {
   "cell_type": "code",
   "execution_count": 3,
   "id": "dcd320e2",
   "metadata": {},
   "outputs": [],
   "source": [
    "import pandas as pd\n",
    "import numpy as np\n",
    "import matplotlib.pyplot as plt\n",
    "from tensorflow import keras"
   ]
  },
  {
   "cell_type": "markdown",
   "id": "ab1a91a7-49bc-47c7-b3a7-f1aab1f0a73d",
   "metadata": {},
   "source": [
    "## Example 1: Predicting Points Scored with GameLog Data"
   ]
  },
  {
   "cell_type": "markdown",
   "id": "b4e46880",
   "metadata": {},
   "source": [
    "### Data Preprocessing"
   ]
  },
  {
   "cell_type": "code",
   "execution_count": 6,
   "id": "82e71cfa",
   "metadata": {},
   "outputs": [],
   "source": [
    "df = pd.read_csv('Michigan_GameLogs_F24.csv').drop(columns=['id'])\n",
    "df.rename(columns = {\n",
    "    'home_away' : 'location',\n",
    "    'points_scored' : 'pts_scored',\n",
    "    'points_against' : 'pts_against',\n",
    "    'pass_td' : 'pass_tds',\n",
    "    'pass_1st_down' : 'pass_first_downs',\n",
    "    'rush_td' : 'rush_tds',\n",
    "    'rush_1st_down' : 'rush_first_downs'\n",
    "}, inplace = True)"
   ]
  },
  {
   "cell_type": "code",
   "execution_count": 7,
   "id": "35db722b",
   "metadata": {},
   "outputs": [
    {
     "data": {
      "text/html": [
       "<div>\n",
       "<style scoped>\n",
       "    .dataframe tbody tr th:only-of-type {\n",
       "        vertical-align: middle;\n",
       "    }\n",
       "\n",
       "    .dataframe tbody tr th {\n",
       "        vertical-align: top;\n",
       "    }\n",
       "\n",
       "    .dataframe thead th {\n",
       "        text-align: right;\n",
       "    }\n",
       "</style>\n",
       "<table border=\"1\" class=\"dataframe\">\n",
       "  <thead>\n",
       "    <tr style=\"text-align: right;\">\n",
       "      <th></th>\n",
       "      <th>pts_scored</th>\n",
       "      <th>pts_against</th>\n",
       "      <th>pass_cmp</th>\n",
       "      <th>pass_att</th>\n",
       "      <th>pass_pct</th>\n",
       "      <th>pass_yrds</th>\n",
       "      <th>pass_tds</th>\n",
       "      <th>pass_first_downs</th>\n",
       "      <th>rush_att</th>\n",
       "      <th>rush_yrds</th>\n",
       "      <th>rush_tds</th>\n",
       "      <th>rush_first_downs</th>\n",
       "      <th>total_offense</th>\n",
       "      <th>fumbles</th>\n",
       "      <th>ints</th>\n",
       "    </tr>\n",
       "  </thead>\n",
       "  <tbody>\n",
       "    <tr>\n",
       "      <th>167</th>\n",
       "      <td>28</td>\n",
       "      <td>18</td>\n",
       "      <td>13</td>\n",
       "      <td>18</td>\n",
       "      <td>72.2</td>\n",
       "      <td>134</td>\n",
       "      <td>1</td>\n",
       "      <td>6</td>\n",
       "      <td>44</td>\n",
       "      <td>301</td>\n",
       "      <td>3</td>\n",
       "      <td>14</td>\n",
       "      <td>435</td>\n",
       "      <td>0</td>\n",
       "      <td>3</td>\n",
       "    </tr>\n",
       "    <tr>\n",
       "      <th>168</th>\n",
       "      <td>27</td>\n",
       "      <td>24</td>\n",
       "      <td>7</td>\n",
       "      <td>12</td>\n",
       "      <td>58.3</td>\n",
       "      <td>32</td>\n",
       "      <td>0</td>\n",
       "      <td>0</td>\n",
       "      <td>46</td>\n",
       "      <td>290</td>\n",
       "      <td>3</td>\n",
       "      <td>12</td>\n",
       "      <td>322</td>\n",
       "      <td>2</td>\n",
       "      <td>0</td>\n",
       "    </tr>\n",
       "    <tr>\n",
       "      <th>169</th>\n",
       "      <td>27</td>\n",
       "      <td>24</td>\n",
       "      <td>10</td>\n",
       "      <td>18</td>\n",
       "      <td>55.6</td>\n",
       "      <td>86</td>\n",
       "      <td>1</td>\n",
       "      <td>5</td>\n",
       "      <td>43</td>\n",
       "      <td>155</td>\n",
       "      <td>2</td>\n",
       "      <td>9</td>\n",
       "      <td>241</td>\n",
       "      <td>0</td>\n",
       "      <td>1</td>\n",
       "    </tr>\n",
       "    <tr>\n",
       "      <th>170</th>\n",
       "      <td>17</td>\n",
       "      <td>27</td>\n",
       "      <td>13</td>\n",
       "      <td>25</td>\n",
       "      <td>52.0</td>\n",
       "      <td>113</td>\n",
       "      <td>1</td>\n",
       "      <td>7</td>\n",
       "      <td>37</td>\n",
       "      <td>174</td>\n",
       "      <td>1</td>\n",
       "      <td>9</td>\n",
       "      <td>287</td>\n",
       "      <td>1</td>\n",
       "      <td>1</td>\n",
       "    </tr>\n",
       "    <tr>\n",
       "      <th>171</th>\n",
       "      <td>7</td>\n",
       "      <td>21</td>\n",
       "      <td>20</td>\n",
       "      <td>32</td>\n",
       "      <td>62.5</td>\n",
       "      <td>208</td>\n",
       "      <td>0</td>\n",
       "      <td>8</td>\n",
       "      <td>38</td>\n",
       "      <td>114</td>\n",
       "      <td>1</td>\n",
       "      <td>10</td>\n",
       "      <td>322</td>\n",
       "      <td>2</td>\n",
       "      <td>1</td>\n",
       "    </tr>\n",
       "  </tbody>\n",
       "</table>\n",
       "</div>"
      ],
      "text/plain": [
       "     pts_scored  pts_against  pass_cmp  pass_att  pass_pct  pass_yrds  \\\n",
       "167          28           18        13        18      72.2        134   \n",
       "168          27           24         7        12      58.3         32   \n",
       "169          27           24        10        18      55.6         86   \n",
       "170          17           27        13        25      52.0        113   \n",
       "171           7           21        20        32      62.5        208   \n",
       "\n",
       "     pass_tds  pass_first_downs  rush_att  rush_yrds  rush_tds  \\\n",
       "167         1                 6        44        301         3   \n",
       "168         0                 0        46        290         3   \n",
       "169         1                 5        43        155         2   \n",
       "170         1                 7        37        174         1   \n",
       "171         0                 8        38        114         1   \n",
       "\n",
       "     rush_first_downs  total_offense  fumbles  ints  \n",
       "167                14            435        0     3  \n",
       "168                12            322        2     0  \n",
       "169                 9            241        0     1  \n",
       "170                 9            287        1     1  \n",
       "171                10            322        2     1  "
      ]
     },
     "execution_count": 7,
     "metadata": {},
     "output_type": "execute_result"
    }
   ],
   "source": [
    "# Holding out most recent games for testing\n",
    "df_parsed = df[['pts_scored', 'pts_against', 'pass_cmp', 'pass_att', 'pass_pct', 'pass_yrds', 'pass_tds', 'pass_first_downs',\n",
    "                'rush_att', 'rush_yrds', 'rush_tds', 'rush_first_downs', 'total_offense', 'fumbles', 'ints']][:-3]\n",
    "df_parsed.tail()"
   ]
  },
  {
   "cell_type": "markdown",
   "id": "5d228a55",
   "metadata": {},
   "source": [
    "### Splitting our Data for Training and Validation"
   ]
  },
  {
   "cell_type": "code",
   "execution_count": 9,
   "id": "dda5c8d0",
   "metadata": {},
   "outputs": [],
   "source": [
    "# Selecting 75% of data for training data\n",
    "# Setting the random state value fixes the split for reproducibility\n",
    "# The other 25% will be used for validation\n",
    "\n",
    "train_df = df_parsed.sample(frac=0.75, random_state=4)\n",
    "validation_df = df_parsed.drop(train_df.index)"
   ]
  },
  {
   "cell_type": "code",
   "execution_count": 10,
   "id": "e4b1c900",
   "metadata": {},
   "outputs": [
    {
     "data": {
      "text/html": [
       "<div>\n",
       "<style scoped>\n",
       "    .dataframe tbody tr th:only-of-type {\n",
       "        vertical-align: middle;\n",
       "    }\n",
       "\n",
       "    .dataframe tbody tr th {\n",
       "        vertical-align: top;\n",
       "    }\n",
       "\n",
       "    .dataframe thead th {\n",
       "        text-align: right;\n",
       "    }\n",
       "</style>\n",
       "<table border=\"1\" class=\"dataframe\">\n",
       "  <thead>\n",
       "    <tr style=\"text-align: right;\">\n",
       "      <th></th>\n",
       "      <th>pts_scored</th>\n",
       "      <th>pts_against</th>\n",
       "      <th>pass_cmp</th>\n",
       "      <th>pass_att</th>\n",
       "      <th>pass_pct</th>\n",
       "      <th>pass_yrds</th>\n",
       "      <th>pass_tds</th>\n",
       "      <th>pass_first_downs</th>\n",
       "      <th>rush_att</th>\n",
       "      <th>rush_yrds</th>\n",
       "      <th>rush_tds</th>\n",
       "      <th>rush_first_downs</th>\n",
       "      <th>total_offense</th>\n",
       "      <th>fumbles</th>\n",
       "      <th>ints</th>\n",
       "    </tr>\n",
       "  </thead>\n",
       "  <tbody>\n",
       "    <tr>\n",
       "      <th>93</th>\n",
       "      <td>0.717949</td>\n",
       "      <td>0.161290</td>\n",
       "      <td>0.423077</td>\n",
       "      <td>0.575</td>\n",
       "      <td>0.457565</td>\n",
       "      <td>0.398034</td>\n",
       "      <td>0.333333</td>\n",
       "      <td>0.368421</td>\n",
       "      <td>0.627907</td>\n",
       "      <td>0.623596</td>\n",
       "      <td>0.444444</td>\n",
       "      <td>0.60</td>\n",
       "      <td>0.663347</td>\n",
       "      <td>0.000000</td>\n",
       "      <td>0.2</td>\n",
       "    </tr>\n",
       "    <tr>\n",
       "      <th>135</th>\n",
       "      <td>0.141026</td>\n",
       "      <td>0.548387</td>\n",
       "      <td>0.423077</td>\n",
       "      <td>0.700</td>\n",
       "      <td>0.308118</td>\n",
       "      <td>0.474201</td>\n",
       "      <td>0.166667</td>\n",
       "      <td>0.368421</td>\n",
       "      <td>0.209302</td>\n",
       "      <td>0.260300</td>\n",
       "      <td>0.000000</td>\n",
       "      <td>0.30</td>\n",
       "      <td>0.338645</td>\n",
       "      <td>0.333333</td>\n",
       "      <td>0.4</td>\n",
       "    </tr>\n",
       "    <tr>\n",
       "      <th>48</th>\n",
       "      <td>0.128205</td>\n",
       "      <td>0.145161</td>\n",
       "      <td>0.153846</td>\n",
       "      <td>0.400</td>\n",
       "      <td>0.230627</td>\n",
       "      <td>0.159705</td>\n",
       "      <td>0.000000</td>\n",
       "      <td>0.263158</td>\n",
       "      <td>0.395349</td>\n",
       "      <td>0.365169</td>\n",
       "      <td>0.111111</td>\n",
       "      <td>0.30</td>\n",
       "      <td>0.195219</td>\n",
       "      <td>0.333333</td>\n",
       "      <td>0.4</td>\n",
       "    </tr>\n",
       "    <tr>\n",
       "      <th>147</th>\n",
       "      <td>0.576923</td>\n",
       "      <td>0.370968</td>\n",
       "      <td>0.230769</td>\n",
       "      <td>0.425</td>\n",
       "      <td>0.345018</td>\n",
       "      <td>0.574939</td>\n",
       "      <td>0.500000</td>\n",
       "      <td>0.210526</td>\n",
       "      <td>0.395349</td>\n",
       "      <td>0.561798</td>\n",
       "      <td>0.333333</td>\n",
       "      <td>0.35</td>\n",
       "      <td>0.741036</td>\n",
       "      <td>0.000000</td>\n",
       "      <td>0.0</td>\n",
       "    </tr>\n",
       "    <tr>\n",
       "      <th>14</th>\n",
       "      <td>0.397436</td>\n",
       "      <td>0.403226</td>\n",
       "      <td>0.269231</td>\n",
       "      <td>0.425</td>\n",
       "      <td>0.418819</td>\n",
       "      <td>0.402948</td>\n",
       "      <td>0.333333</td>\n",
       "      <td>0.526316</td>\n",
       "      <td>0.302326</td>\n",
       "      <td>0.490637</td>\n",
       "      <td>0.222222</td>\n",
       "      <td>0.35</td>\n",
       "      <td>0.525896</td>\n",
       "      <td>0.000000</td>\n",
       "      <td>0.2</td>\n",
       "    </tr>\n",
       "  </tbody>\n",
       "</table>\n",
       "</div>"
      ],
      "text/plain": [
       "     pts_scored  pts_against  pass_cmp  pass_att  pass_pct  pass_yrds  \\\n",
       "93     0.717949     0.161290  0.423077     0.575  0.457565   0.398034   \n",
       "135    0.141026     0.548387  0.423077     0.700  0.308118   0.474201   \n",
       "48     0.128205     0.145161  0.153846     0.400  0.230627   0.159705   \n",
       "147    0.576923     0.370968  0.230769     0.425  0.345018   0.574939   \n",
       "14     0.397436     0.403226  0.269231     0.425  0.418819   0.402948   \n",
       "\n",
       "     pass_tds  pass_first_downs  rush_att  rush_yrds  rush_tds  \\\n",
       "93   0.333333          0.368421  0.627907   0.623596  0.444444   \n",
       "135  0.166667          0.368421  0.209302   0.260300  0.000000   \n",
       "48   0.000000          0.263158  0.395349   0.365169  0.111111   \n",
       "147  0.500000          0.210526  0.395349   0.561798  0.333333   \n",
       "14   0.333333          0.526316  0.302326   0.490637  0.222222   \n",
       "\n",
       "     rush_first_downs  total_offense   fumbles  ints  \n",
       "93               0.60       0.663347  0.000000   0.2  \n",
       "135              0.30       0.338645  0.333333   0.4  \n",
       "48               0.30       0.195219  0.333333   0.4  \n",
       "147              0.35       0.741036  0.000000   0.0  \n",
       "14               0.35       0.525896  0.000000   0.2  "
      ]
     },
     "execution_count": 10,
     "metadata": {},
     "output_type": "execute_result"
    }
   ],
   "source": [
    "# Normalizing data to be between 0 and 1\n",
    "max_val = train_df.max(axis = 0)\n",
    "min_val = train_df.min(axis = 0)\n",
    "\n",
    "train_df_norm = (train_df-min_val)/(max_val-min_val)\n",
    "validation_df_norm = (validation_df-min_val)/(max_val-min_val)\n",
    "\n",
    "train_df_norm.head()"
   ]
  },
  {
   "cell_type": "markdown",
   "id": "54fd4d57",
   "metadata": {},
   "source": [
    "### Separate our Data into Labels and Targets"
   ]
  },
  {
   "cell_type": "code",
   "execution_count": 12,
   "id": "373625d8",
   "metadata": {},
   "outputs": [],
   "source": [
    "# Our model is looking for targets and labels so we need to separate our data into such categories\n",
    "# In this case, we want points scored to be the target (output) and rest of columns are labels (inputs for model)\n",
    "\n",
    "X_train = train_df_norm.drop('pts_scored', axis=1)\n",
    "X_val = validation_df_norm.drop('pts_scored', axis=1)\n",
    "\n",
    "y_train = train_df_norm['pts_scored']\n",
    "y_val = validation_df_norm['pts_scored']"
   ]
  },
  {
   "cell_type": "code",
   "execution_count": 13,
   "id": "1cc45f1f-d4b0-4bfb-b0fb-3e7e2f96c851",
   "metadata": {},
   "outputs": [
    {
     "data": {
      "text/plain": [
       "(14,)"
      ]
     },
     "execution_count": 13,
     "metadata": {},
     "output_type": "execute_result"
    }
   ],
   "source": [
    "# Format the features/inputs as an argument for model\n",
    "input_shape = (X_train.shape[1],)\n",
    "input_shape"
   ]
  },
  {
   "cell_type": "markdown",
   "id": "fee7324b-f8eb-4522-8b51-1d473e7b312b",
   "metadata": {},
   "source": [
    "`input_shape` equal to `14` denotes that we will pass 14 features as an input to the first layer of our neural network."
   ]
  },
  {
   "cell_type": "markdown",
   "id": "b625401f",
   "metadata": {},
   "source": [
    "### Building our Model using Keras\n",
    "* To build our model, we are going to use the built-in Keras library within TensorFlow\n",
    "    * `Sequential` API suitable for multilayered neural networks\n",
    "* Three layer network\n",
    "    * One input layer\n",
    "    * One hidden layer\n",
    "    * One output layer\n",
    "* The input and hidden layers will have 64 units/node\n",
    "    * Our layers will be fully connected, or `Dense` layers in Keras\n",
    "* We will use a common activation function called the Rectified Linear Unit (ReLU) in our input and hidden layers\n",
    "    * Activation functions are used to introduce non-linearity to NNs \n",
    "    * ReLU: $f(x) = \\text{max}(0,x)$"
   ]
  },
  {
   "cell_type": "code",
   "execution_count": 16,
   "id": "9c343a2d",
   "metadata": {},
   "outputs": [
    {
     "data": {
      "text/html": [
       "<pre style=\"white-space:pre;overflow-x:auto;line-height:normal;font-family:Menlo,'DejaVu Sans Mono',consolas,'Courier New',monospace\"><span style=\"font-weight: bold\">Model: \"sequential\"</span>\n",
       "</pre>\n"
      ],
      "text/plain": [
       "\u001b[1mModel: \"sequential\"\u001b[0m\n"
      ]
     },
     "metadata": {},
     "output_type": "display_data"
    },
    {
     "data": {
      "text/html": [
       "<pre style=\"white-space:pre;overflow-x:auto;line-height:normal;font-family:Menlo,'DejaVu Sans Mono',consolas,'Courier New',monospace\">┏━━━━━━━━━━━━━━━━━━━━━━━━━━━━━━━━━┳━━━━━━━━━━━━━━━━━━━━━━━━┳━━━━━━━━━━━━━━━┓\n",
       "┃<span style=\"font-weight: bold\"> Layer (type)                    </span>┃<span style=\"font-weight: bold\"> Output Shape           </span>┃<span style=\"font-weight: bold\">       Param # </span>┃\n",
       "┡━━━━━━━━━━━━━━━━━━━━━━━━━━━━━━━━━╇━━━━━━━━━━━━━━━━━━━━━━━━╇━━━━━━━━━━━━━━━┩\n",
       "│ input_layer (<span style=\"color: #0087ff; text-decoration-color: #0087ff\">Dense</span>)             │ (<span style=\"color: #00d7ff; text-decoration-color: #00d7ff\">None</span>, <span style=\"color: #00af00; text-decoration-color: #00af00\">64</span>)             │           <span style=\"color: #00af00; text-decoration-color: #00af00\">960</span> │\n",
       "├─────────────────────────────────┼────────────────────────┼───────────────┤\n",
       "│ hidden_layer (<span style=\"color: #0087ff; text-decoration-color: #0087ff\">Dense</span>)            │ (<span style=\"color: #00d7ff; text-decoration-color: #00d7ff\">None</span>, <span style=\"color: #00af00; text-decoration-color: #00af00\">64</span>)             │         <span style=\"color: #00af00; text-decoration-color: #00af00\">4,160</span> │\n",
       "├─────────────────────────────────┼────────────────────────┼───────────────┤\n",
       "│ output_layer (<span style=\"color: #0087ff; text-decoration-color: #0087ff\">Dense</span>)            │ (<span style=\"color: #00d7ff; text-decoration-color: #00d7ff\">None</span>, <span style=\"color: #00af00; text-decoration-color: #00af00\">1</span>)              │            <span style=\"color: #00af00; text-decoration-color: #00af00\">65</span> │\n",
       "└─────────────────────────────────┴────────────────────────┴───────────────┘\n",
       "</pre>\n"
      ],
      "text/plain": [
       "┏━━━━━━━━━━━━━━━━━━━━━━━━━━━━━━━━━┳━━━━━━━━━━━━━━━━━━━━━━━━┳━━━━━━━━━━━━━━━┓\n",
       "┃\u001b[1m \u001b[0m\u001b[1mLayer (type)                   \u001b[0m\u001b[1m \u001b[0m┃\u001b[1m \u001b[0m\u001b[1mOutput Shape          \u001b[0m\u001b[1m \u001b[0m┃\u001b[1m \u001b[0m\u001b[1m      Param #\u001b[0m\u001b[1m \u001b[0m┃\n",
       "┡━━━━━━━━━━━━━━━━━━━━━━━━━━━━━━━━━╇━━━━━━━━━━━━━━━━━━━━━━━━╇━━━━━━━━━━━━━━━┩\n",
       "│ input_layer (\u001b[38;5;33mDense\u001b[0m)             │ (\u001b[38;5;45mNone\u001b[0m, \u001b[38;5;34m64\u001b[0m)             │           \u001b[38;5;34m960\u001b[0m │\n",
       "├─────────────────────────────────┼────────────────────────┼───────────────┤\n",
       "│ hidden_layer (\u001b[38;5;33mDense\u001b[0m)            │ (\u001b[38;5;45mNone\u001b[0m, \u001b[38;5;34m64\u001b[0m)             │         \u001b[38;5;34m4,160\u001b[0m │\n",
       "├─────────────────────────────────┼────────────────────────┼───────────────┤\n",
       "│ output_layer (\u001b[38;5;33mDense\u001b[0m)            │ (\u001b[38;5;45mNone\u001b[0m, \u001b[38;5;34m1\u001b[0m)              │            \u001b[38;5;34m65\u001b[0m │\n",
       "└─────────────────────────────────┴────────────────────────┴───────────────┘\n"
      ]
     },
     "metadata": {},
     "output_type": "display_data"
    },
    {
     "data": {
      "text/html": [
       "<pre style=\"white-space:pre;overflow-x:auto;line-height:normal;font-family:Menlo,'DejaVu Sans Mono',consolas,'Courier New',monospace\"><span style=\"font-weight: bold\"> Total params: </span><span style=\"color: #00af00; text-decoration-color: #00af00\">5,185</span> (20.25 KB)\n",
       "</pre>\n"
      ],
      "text/plain": [
       "\u001b[1m Total params: \u001b[0m\u001b[38;5;34m5,185\u001b[0m (20.25 KB)\n"
      ]
     },
     "metadata": {},
     "output_type": "display_data"
    },
    {
     "data": {
      "text/html": [
       "<pre style=\"white-space:pre;overflow-x:auto;line-height:normal;font-family:Menlo,'DejaVu Sans Mono',consolas,'Courier New',monospace\"><span style=\"font-weight: bold\"> Trainable params: </span><span style=\"color: #00af00; text-decoration-color: #00af00\">5,185</span> (20.25 KB)\n",
       "</pre>\n"
      ],
      "text/plain": [
       "\u001b[1m Trainable params: \u001b[0m\u001b[38;5;34m5,185\u001b[0m (20.25 KB)\n"
      ]
     },
     "metadata": {},
     "output_type": "display_data"
    },
    {
     "data": {
      "text/html": [
       "<pre style=\"white-space:pre;overflow-x:auto;line-height:normal;font-family:Menlo,'DejaVu Sans Mono',consolas,'Courier New',monospace\"><span style=\"font-weight: bold\"> Non-trainable params: </span><span style=\"color: #00af00; text-decoration-color: #00af00\">0</span> (0.00 B)\n",
       "</pre>\n"
      ],
      "text/plain": [
       "\u001b[1m Non-trainable params: \u001b[0m\u001b[38;5;34m0\u001b[0m (0.00 B)\n"
      ]
     },
     "metadata": {},
     "output_type": "display_data"
    }
   ],
   "source": [
    "model = keras.Sequential([\n",
    "    keras.layers.Input(shape = input_shape, name = 'input'),  # specifying input shape here\n",
    "    keras.layers.Dense(units = 64, activation = 'relu', name = 'input_layer'),\n",
    "    keras.layers.Dense(units = 64, activation = 'relu', name = 'hidden_layer'),\n",
    "    keras.layers.Dense(units = 1, name = 'output_layer')\n",
    "])\n",
    "model.summary()"
   ]
  },
  {
   "cell_type": "markdown",
   "id": "d9fc8a16-ca3c-4a09-803a-b4af265f6779",
   "metadata": {},
   "source": [
    "We will use the [Adam](https://arxiv.org/abs/1412.6980) optimizer, and **MAE** (mean absolute error) as our model's loss function."
   ]
  },
  {
   "cell_type": "code",
   "execution_count": 18,
   "id": "ab72c274",
   "metadata": {},
   "outputs": [],
   "source": [
    "# Compile the model with our chosen optimizer and loss function\n",
    "model.compile(optimizer=keras.optimizers.Adam(learning_rate=0.001), loss='mae')"
   ]
  },
  {
   "cell_type": "markdown",
   "id": "ff38cf24",
   "metadata": {},
   "source": [
    "### Training our Model in Batches\n",
    "* Our model is trained by feeding it batches through multiple 'epochs', or iterations\n",
    "    * This is helpful for digesting large amounts of data\n",
    "    * This specific data set is small but others are significantly larger\n",
    "    * Batching refers to breaking our total training data into smaller groups and feeding them into the model"
   ]
  },
  {
   "cell_type": "code",
   "execution_count": 20,
   "id": "a710ed80",
   "metadata": {},
   "outputs": [
    {
     "name": "stdout",
     "output_type": "stream",
     "text": [
      "Epoch 1/20\n",
      "\u001b[1m5/5\u001b[0m \u001b[32m━━━━━━━━━━━━━━━━━━━━\u001b[0m\u001b[37m\u001b[0m \u001b[1m2s\u001b[0m 72ms/step - loss: 0.4605 - val_loss: 0.2583\n",
      "Epoch 2/20\n",
      "\u001b[1m5/5\u001b[0m \u001b[32m━━━━━━━━━━━━━━━━━━━━\u001b[0m\u001b[37m\u001b[0m \u001b[1m0s\u001b[0m 16ms/step - loss: 0.2052 - val_loss: 0.0942\n",
      "Epoch 3/20\n",
      "\u001b[1m5/5\u001b[0m \u001b[32m━━━━━━━━━━━━━━━━━━━━\u001b[0m\u001b[37m\u001b[0m \u001b[1m0s\u001b[0m 16ms/step - loss: 0.1112 - val_loss: 0.1433\n",
      "Epoch 4/20\n",
      "\u001b[1m5/5\u001b[0m \u001b[32m━━━━━━━━━━━━━━━━━━━━\u001b[0m\u001b[37m\u001b[0m \u001b[1m0s\u001b[0m 17ms/step - loss: 0.1429 - val_loss: 0.0952\n",
      "Epoch 5/20\n",
      "\u001b[1m5/5\u001b[0m \u001b[32m━━━━━━━━━━━━━━━━━━━━\u001b[0m\u001b[37m\u001b[0m \u001b[1m0s\u001b[0m 21ms/step - loss: 0.0986 - val_loss: 0.0902\n",
      "Epoch 6/20\n",
      "\u001b[1m5/5\u001b[0m \u001b[32m━━━━━━━━━━━━━━━━━━━━\u001b[0m\u001b[37m\u001b[0m \u001b[1m0s\u001b[0m 18ms/step - loss: 0.0942 - val_loss: 0.1109\n",
      "Epoch 7/20\n",
      "\u001b[1m5/5\u001b[0m \u001b[32m━━━━━━━━━━━━━━━━━━━━\u001b[0m\u001b[37m\u001b[0m \u001b[1m0s\u001b[0m 20ms/step - loss: 0.0972 - val_loss: 0.0922\n",
      "Epoch 8/20\n",
      "\u001b[1m5/5\u001b[0m \u001b[32m━━━━━━━━━━━━━━━━━━━━\u001b[0m\u001b[37m\u001b[0m \u001b[1m0s\u001b[0m 21ms/step - loss: 0.0809 - val_loss: 0.0771\n",
      "Epoch 9/20\n",
      "\u001b[1m5/5\u001b[0m \u001b[32m━━━━━━━━━━━━━━━━━━━━\u001b[0m\u001b[37m\u001b[0m \u001b[1m0s\u001b[0m 20ms/step - loss: 0.0812 - val_loss: 0.0840\n",
      "Epoch 10/20\n",
      "\u001b[1m5/5\u001b[0m \u001b[32m━━━━━━━━━━━━━━━━━━━━\u001b[0m\u001b[37m\u001b[0m \u001b[1m0s\u001b[0m 47ms/step - loss: 0.0820 - val_loss: 0.0712\n",
      "Epoch 11/20\n",
      "\u001b[1m5/5\u001b[0m \u001b[32m━━━━━━━━━━━━━━━━━━━━\u001b[0m\u001b[37m\u001b[0m \u001b[1m0s\u001b[0m 19ms/step - loss: 0.0709 - val_loss: 0.0720\n",
      "Epoch 12/20\n",
      "\u001b[1m5/5\u001b[0m \u001b[32m━━━━━━━━━━━━━━━━━━━━\u001b[0m\u001b[37m\u001b[0m \u001b[1m0s\u001b[0m 20ms/step - loss: 0.0663 - val_loss: 0.0702\n",
      "Epoch 13/20\n",
      "\u001b[1m5/5\u001b[0m \u001b[32m━━━━━━━━━━━━━━━━━━━━\u001b[0m\u001b[37m\u001b[0m \u001b[1m0s\u001b[0m 20ms/step - loss: 0.0641 - val_loss: 0.0699\n",
      "Epoch 14/20\n",
      "\u001b[1m5/5\u001b[0m \u001b[32m━━━━━━━━━━━━━━━━━━━━\u001b[0m\u001b[37m\u001b[0m \u001b[1m0s\u001b[0m 18ms/step - loss: 0.0607 - val_loss: 0.0744\n",
      "Epoch 15/20\n",
      "\u001b[1m5/5\u001b[0m \u001b[32m━━━━━━━━━━━━━━━━━━━━\u001b[0m\u001b[37m\u001b[0m \u001b[1m0s\u001b[0m 22ms/step - loss: 0.0608 - val_loss: 0.0699\n",
      "Epoch 16/20\n",
      "\u001b[1m5/5\u001b[0m \u001b[32m━━━━━━━━━━━━━━━━━━━━\u001b[0m\u001b[37m\u001b[0m \u001b[1m0s\u001b[0m 23ms/step - loss: 0.0564 - val_loss: 0.0663\n",
      "Epoch 17/20\n",
      "\u001b[1m5/5\u001b[0m \u001b[32m━━━━━━━━━━━━━━━━━━━━\u001b[0m\u001b[37m\u001b[0m \u001b[1m0s\u001b[0m 21ms/step - loss: 0.0668 - val_loss: 0.0665\n",
      "Epoch 18/20\n",
      "\u001b[1m5/5\u001b[0m \u001b[32m━━━━━━━━━━━━━━━━━━━━\u001b[0m\u001b[37m\u001b[0m \u001b[1m0s\u001b[0m 22ms/step - loss: 0.0590 - val_loss: 0.0715\n",
      "Epoch 19/20\n",
      "\u001b[1m5/5\u001b[0m \u001b[32m━━━━━━━━━━━━━━━━━━━━\u001b[0m\u001b[37m\u001b[0m \u001b[1m0s\u001b[0m 21ms/step - loss: 0.0570 - val_loss: 0.0675\n",
      "Epoch 20/20\n",
      "\u001b[1m5/5\u001b[0m \u001b[32m━━━━━━━━━━━━━━━━━━━━\u001b[0m\u001b[37m\u001b[0m \u001b[1m0s\u001b[0m 25ms/step - loss: 0.0565 - val_loss: 0.0666\n"
     ]
    }
   ],
   "source": [
    "# This may take a while depending on the batch size, training dataset size, and number of epochs\n",
    "losses = model.fit(X_train, y_train, validation_data=(X_val, y_val), batch_size=32, epochs=20)"
   ]
  },
  {
   "cell_type": "markdown",
   "id": "0f7492ec",
   "metadata": {},
   "source": [
    "### Training vs Validation Loss"
   ]
  },
  {
   "cell_type": "markdown",
   "id": "55a29efd-635d-41d7-952c-d6c8701baad6",
   "metadata": {},
   "source": [
    "We can analyze our training vs validation loss to see if our model is overfitting the data. To do this, we create a DataFrame and plot all of the loss values across epochs.\n",
    "* The `.history` property stores the training loss and validation in each epoch for the fitted model"
   ]
  },
  {
   "cell_type": "code",
   "execution_count": 31,
   "id": "892997d0",
   "metadata": {},
   "outputs": [
    {
     "data": {
      "text/plain": [
       "<Axes: title={'center': 'Model Training and Validation Loss'}, xlabel='epoch', ylabel='Mean Absolute Error'>"
      ]
     },
     "execution_count": 31,
     "metadata": {},
     "output_type": "execute_result"
    },
    {
     "data": {
      "image/png": "[encoded data removed]",
      "text/plain": [
       "<Figure size 640x480 with 1 Axes>"
      ]
     },
     "metadata": {},
     "output_type": "display_data"
    }
   ],
   "source": [
    "loss_df = pd.DataFrame(losses.history)\n",
    "loss_df.loc[:, ['loss', 'val_loss']].plot(xlabel='epoch', ylabel='Mean Absolute Error', title='Model Training and Validation Loss')"
   ]
  },
  {
   "cell_type": "markdown",
   "id": "6cb3ab9a-e73e-473c-981e-af44f3a3fbda",
   "metadata": {},
   "source": [
    "If validation loss stagnates or increases while training loss continues to decrease, then the model will likely overfit our testing data. We should not train our model for more epochs than is necessary for minimizing validation loss."
   ]
  },
  {
   "cell_type": "markdown",
   "id": "4866d985",
   "metadata": {},
   "source": [
    "### Compare Predictions to Actual Results\n"
   ]
  },
  {
   "cell_type": "code",
   "execution_count": 33,
   "id": "fa7a0704",
   "metadata": {},
   "outputs": [
    {
     "name": "stdout",
     "output_type": "stream",
     "text": [
      "\u001b[1m1/1\u001b[0m \u001b[32m━━━━━━━━━━━━━━━━━━━━\u001b[0m\u001b[37m\u001b[0m \u001b[1m0s\u001b[0m 103ms/step\n"
     ]
    },
    {
     "data": {
      "text/plain": [
       "array([[0.33707678],\n",
       "       [0.26610434],\n",
       "       [0.15385644]], dtype=float32)"
      ]
     },
     "execution_count": 33,
     "metadata": {},
     "output_type": "execute_result"
    }
   ],
   "source": [
    "# Passing the last 3 rows of our data (kept out) to make predictions on\n",
    "# Labels normalized first\n",
    "labels = df[['pts_scored', 'pts_against', 'pass_cmp', 'pass_att', 'pass_pct', 'pass_yrds', 'pass_tds', 'pass_first_downs',\n",
    "                'rush_att', 'rush_yrds', 'rush_tds', 'rush_first_downs', 'total_offense', 'fumbles', 'ints']][-3:]\n",
    "labels_norm = ((labels-min_val)/(max_val-min_val)).drop('pts_scored', axis=1)\n",
    "\n",
    "model.predict(labels_norm)"
   ]
  },
  {
   "cell_type": "code",
   "execution_count": 35,
   "id": "364f9f50-dfa1-4114-a29e-17fa821feb7c",
   "metadata": {},
   "outputs": [
    {
     "name": "stdout",
     "output_type": "stream",
     "text": [
      "\u001b[1m1/1\u001b[0m \u001b[32m━━━━━━━━━━━━━━━━━━━━\u001b[0m\u001b[37m\u001b[0m \u001b[1m0s\u001b[0m 36ms/step\n"
     ]
    },
    {
     "data": {
      "text/plain": [
       "array([[26.291988],\n",
       "       [20.756138],\n",
       "       [12.000802]], dtype=float32)"
      ]
     },
     "execution_count": 35,
     "metadata": {},
     "output_type": "execute_result"
    }
   ],
   "source": [
    "# We can compare the predicted values to our true values by renormalizing the targets\n",
    "model.predict(labels_norm) * (train_df['pts_scored'].max()-train_df['pts_scored'].min()) + (train_df['pts_scored'].min())"
   ]
  },
  {
   "cell_type": "code",
   "execution_count": 37,
   "id": "add4f69c",
   "metadata": {},
   "outputs": [
    {
     "data": {
      "text/html": [
       "<div>\n",
       "<style scoped>\n",
       "    .dataframe tbody tr th:only-of-type {\n",
       "        vertical-align: middle;\n",
       "    }\n",
       "\n",
       "    .dataframe tbody tr th {\n",
       "        vertical-align: top;\n",
       "    }\n",
       "\n",
       "    .dataframe thead th {\n",
       "        text-align: right;\n",
       "    }\n",
       "</style>\n",
       "<table border=\"1\" class=\"dataframe\">\n",
       "  <thead>\n",
       "    <tr style=\"text-align: right;\">\n",
       "      <th></th>\n",
       "      <th>date</th>\n",
       "      <th>opponent</th>\n",
       "      <th>pts_scored</th>\n",
       "    </tr>\n",
       "  </thead>\n",
       "  <tbody>\n",
       "    <tr>\n",
       "      <th>172</th>\n",
       "      <td>2024-10-26</td>\n",
       "      <td>Michigan State</td>\n",
       "      <td>24</td>\n",
       "    </tr>\n",
       "    <tr>\n",
       "      <th>173</th>\n",
       "      <td>2024-11-02</td>\n",
       "      <td>Oregon</td>\n",
       "      <td>17</td>\n",
       "    </tr>\n",
       "    <tr>\n",
       "      <th>174</th>\n",
       "      <td>2024-11-09</td>\n",
       "      <td>Indiana</td>\n",
       "      <td>15</td>\n",
       "    </tr>\n",
       "  </tbody>\n",
       "</table>\n",
       "</div>"
      ],
      "text/plain": [
       "           date        opponent  pts_scored\n",
       "172  2024-10-26  Michigan State          24\n",
       "173  2024-11-02          Oregon          17\n",
       "174  2024-11-09         Indiana          15"
      ]
     },
     "execution_count": 37,
     "metadata": {},
     "output_type": "execute_result"
    }
   ],
   "source": [
    "df[['date', 'opponent', 'pts_scored']][-3:]"
   ]
  },
  {
   "cell_type": "code",
   "execution_count": null,
   "id": "315915c6-057d-4c19-a426-f57a6a20c3e6",
   "metadata": {},
   "outputs": [],
   "source": []
  }
 ],
 "metadata": {
  "kernelspec": {
   "display_name": "Python 3 (ipykernel)",
   "language": "python",
   "name": "python3"
  },
  "language_info": {
   "codemirror_mode": {
    "name": "ipython",
    "version": 3
   },
   "file_extension": ".py",
   "mimetype": "text/x-python",
   "name": "python",
   "nbconvert_exporter": "python",
   "pygments_lexer": "ipython3",
   "version": "3.12.4"
  }
 },
 "nbformat": 4,
 "nbformat_minor": 5
}
